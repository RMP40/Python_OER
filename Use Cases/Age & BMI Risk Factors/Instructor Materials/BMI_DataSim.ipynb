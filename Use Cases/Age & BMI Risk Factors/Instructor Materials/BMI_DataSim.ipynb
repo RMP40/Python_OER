{
 "cells": [
  {
   "cell_type": "markdown",
   "metadata": {},
   "source": [
    "## **Simulating Data for Python Didactics**\n",
    "### Quick Crosswalk Cases\n",
    "### BMI: \n",
    "#### **Author(s)**: Dominic DiSanto\n",
    "#### **Written**: 12/11/2020\n",
    "#### **Updated**: 12/11/2020\n",
    "#### **Version**: 0.1\n",
    "\n",
    "\n"
   ]
  },
  {
   "cell_type": "markdown",
   "metadata": {},
   "source": [
    "*Quick Crosswalk Cases* are use cases which will include simple (that is single or 2/3-step processes) than can be accomplished in Excel, Python, R, and possibly SQL as well. \n",
    "\n",
    "The narrative of the case will be identifying a number of patients at elevated risk of some complication, and a clinic wants to identify how many patients meet the criteria of elevated risk and identify their contact information. \n",
    "\n",
    "Students will be given a spreadsheet of data and asked to create an excel file with 4 tabs, containing lists of the patient identifier variables and their contact information for 4 sets of criteria:\n",
    "\n",
    "1) BMI $\\geq$ 30  \n",
    "2) BMI $\\geq$ 35  \n",
    "3) BMI $\\geq$ 30 & Age$\\geq$60  \n",
    "4) BMI $\\geq$ 35 & Age$\\geq$60  \n",
    "\n",
    "Students will need to first calcualte BMI (given metric height and weight data), then identify the patient ID's of interest, then merge in the contact information of interest. The last step will include exporting (copy/paste, python or R exports) the contact information into a final results spreadsheet. More specifically as a tab in a spreadsheet, separately for results from Excel, Python, and R. The idea being that if you were creating these lists for a document, we want the case to force students/users to also make the results presentable. You would more likely send a single xlsx of 4 tabs than 4 separate spreadsheets. \n",
    "\n",
    "As an additional complexity, we will then \"update\" the data. That is, we have ~130 new patients, and students need to recreate the lists. The idea being that this will be pretty painful in Excel but less so in Python/R, where students simply need to update a file-name or export paths. \n",
    "\n",
    "\n",
    "I may get fancy and create a script that can check the data either using a solutions spreadsheet file or to get really fancy and recreate the data internally in the script (using the same data sim code and random-state/seed-number as this notebook) and check the students output, as this would simply require less effort or file management on the student's/user's part (making the case more accessible)."
   ]
  },
  {
   "cell_type": "code",
   "execution_count": 1,
   "metadata": {},
   "outputs": [],
   "source": [
    "import scipy as sci\n",
    "import numpy as np\n",
    "import pandas as pd\n",
    "import matplotlib.pyplot as plt\n",
    "from faker import Faker # Used to simulate the address/phone-number data \n",
    "np.random.seed(15951)\n",
    "\n",
    "# observations in first data set\n",
    "n1_obs = 756\n",
    "\n",
    "# observations in data \"update\"\n",
    "n2_obs = 145"
   ]
  },
  {
   "cell_type": "code",
   "execution_count": 2,
   "metadata": {},
   "outputs": [],
   "source": [
    "ids_tot = np.random.randint(111111111, 999999999, n1_obs + n2_obs)\n",
    "assert len(ids_tot) == len(set(ids_tot))\n"
   ]
  },
  {
   "cell_type": "code",
   "execution_count": 3,
   "metadata": {},
   "outputs": [],
   "source": [
    "age = np.random.normal(50, 10, n1_obs + n2_obs)\n",
    "height_cm = np.round(np.random.normal(180, 20, n1_obs + n2_obs), 1)\n",
    "bmi = np.round(np.random.normal(27, 5, n1_obs + n2_obs), 1)"
   ]
  },
  {
   "cell_type": "code",
   "execution_count": 4,
   "metadata": {},
   "outputs": [
    {
     "data": {
      "text/html": [
       "<div>\n",
       "<style scoped>\n",
       "    .dataframe tbody tr th:only-of-type {\n",
       "        vertical-align: middle;\n",
       "    }\n",
       "\n",
       "    .dataframe tbody tr th {\n",
       "        vertical-align: top;\n",
       "    }\n",
       "\n",
       "    .dataframe thead th {\n",
       "        text-align: right;\n",
       "    }\n",
       "</style>\n",
       "<table border=\"1\" class=\"dataframe\">\n",
       "  <thead>\n",
       "    <tr style=\"text-align: right;\">\n",
       "      <th></th>\n",
       "      <th>ID</th>\n",
       "      <th>Age</th>\n",
       "      <th>Height (cm)</th>\n",
       "      <th>BMI</th>\n",
       "    </tr>\n",
       "  </thead>\n",
       "  <tbody>\n",
       "    <tr>\n",
       "      <td>0</td>\n",
       "      <td>458439593</td>\n",
       "      <td>62</td>\n",
       "      <td>220.1</td>\n",
       "      <td>40.5</td>\n",
       "    </tr>\n",
       "    <tr>\n",
       "      <td>1</td>\n",
       "      <td>466502951</td>\n",
       "      <td>50</td>\n",
       "      <td>192.0</td>\n",
       "      <td>27.3</td>\n",
       "    </tr>\n",
       "    <tr>\n",
       "      <td>2</td>\n",
       "      <td>780243050</td>\n",
       "      <td>62</td>\n",
       "      <td>209.8</td>\n",
       "      <td>44.0</td>\n",
       "    </tr>\n",
       "    <tr>\n",
       "      <td>3</td>\n",
       "      <td>197598223</td>\n",
       "      <td>28</td>\n",
       "      <td>185.9</td>\n",
       "      <td>29.9</td>\n",
       "    </tr>\n",
       "    <tr>\n",
       "      <td>4</td>\n",
       "      <td>918135592</td>\n",
       "      <td>67</td>\n",
       "      <td>148.4</td>\n",
       "      <td>28.2</td>\n",
       "    </tr>\n",
       "  </tbody>\n",
       "</table>\n",
       "</div>"
      ],
      "text/plain": [
       "          ID  Age  Height (cm)   BMI\n",
       "0  458439593   62        220.1  40.5\n",
       "1  466502951   50        192.0  27.3\n",
       "2  780243050   62        209.8  44.0\n",
       "3  197598223   28        185.9  29.9\n",
       "4  918135592   67        148.4  28.2"
      ]
     },
     "execution_count": 4,
     "metadata": {},
     "output_type": "execute_result"
    }
   ],
   "source": [
    "bmi_df = pd.DataFrame({'ID':ids_tot,\n",
    "                       'Age':age.astype(int),\n",
    "                       'Height (cm)':height_cm,\n",
    "                       'BMI':bmi})\n",
    "bmi_df.head()"
   ]
  },
  {
   "cell_type": "code",
   "execution_count": 5,
   "metadata": {},
   "outputs": [],
   "source": [
    "# Creating a weight variable back-calculated rom the BMI distribution\n",
    "bmi_df['Weight (kg)'] = np.round(bmi_df['BMI'] * (bmi_df['Height (cm)']/100)**2, 2)"
   ]
  },
  {
   "cell_type": "markdown",
   "metadata": {},
   "source": [
    "Exploring the BMI variable of interest before deleting it, ensuring we have some samples that meet each criteria set. I've simulated data for both the original data set in `n1_obs` and the addendum `n2_obs`, so I'll check both groups for each criteria. We'll include a small sample size for the 4th criteria (or the most strict criteria) such that the additional data results in no new observations of interest."
   ]
  },
  {
   "cell_type": "code",
   "execution_count": 6,
   "metadata": {},
   "outputs": [
    {
     "name": "stdout",
     "output_type": "stream",
     "text": [
      "First Cohort: 259\n",
      "Second Cohort: 44\n"
     ]
    }
   ],
   "source": [
    "# 1) BMI>=30\n",
    "print(\"First Cohort: \" + str(bmi_df[bmi_df['BMI']>=30].shape[0]))\n",
    "print(\"Second Cohort: \" + str(bmi_df[(bmi_df.index>n1_obs) & (bmi_df['BMI']>=30)].shape[0]))"
   ]
  },
  {
   "cell_type": "code",
   "execution_count": 7,
   "metadata": {},
   "outputs": [
    {
     "name": "stdout",
     "output_type": "stream",
     "text": [
      "First Cohort: 55\n",
      "Second Cohort: 12\n"
     ]
    }
   ],
   "source": [
    "# 2) BMI>=35\n",
    "print(\"First Cohort: \" + str(bmi_df[bmi_df['BMI']>=35].shape[0]))\n",
    "print(\"Second Cohort: \" + str(bmi_df[(bmi_df.index>n1_obs) & (bmi_df['BMI']>=35)].shape[0]))"
   ]
  },
  {
   "cell_type": "code",
   "execution_count": 8,
   "metadata": {},
   "outputs": [
    {
     "name": "stdout",
     "output_type": "stream",
     "text": [
      "First Cohort: 47\n",
      "Second Cohort: 9\n"
     ]
    }
   ],
   "source": [
    "# 3) BMI>=30 & Age>=60\n",
    "print(\"First Cohort: \" + str(bmi_df[(bmi_df['BMI']>=30) &\\\n",
    "                                 (bmi_df['Age']>=60)].shape[0]))\n",
    "print(\"Second Cohort: \" + str(bmi_df[(bmi_df.index>n1_obs) & (bmi_df['BMI']>=30) & \\\n",
    "                                 (bmi_df['Age']>=60)].shape[0]))"
   ]
  },
  {
   "cell_type": "code",
   "execution_count": 9,
   "metadata": {},
   "outputs": [
    {
     "name": "stdout",
     "output_type": "stream",
     "text": [
      "First Cohort: 10\n",
      "Second Cohort: 3\n"
     ]
    }
   ],
   "source": [
    "# 4) BMI>=35 & Age>=60\n",
    "print(\"First Cohort: \" + str(bmi_df[(bmi_df['BMI']>=35) &\\\n",
    "                                 (bmi_df['Age']>=60)].shape[0]))\n",
    "print(\"Second Cohort: \" + str(bmi_df[(bmi_df.index>n1_obs) & (bmi_df['BMI']>=35) & \\\n",
    "                                 (bmi_df['Age']>=60)].shape[0]))"
   ]
  },
  {
   "cell_type": "markdown",
   "metadata": {},
   "source": [
    "### Simulating Contact Information\n",
    "Using the `Faker` module to be lazy, although this is somewhat slow. In reviewing the [Faker documentation](https://faker.readthedocs.io/en/master/), the only way to simulate multiple values for each faker simulation is to loop over the length of the simulations desired\n"
   ]
  },
  {
   "cell_type": "code",
   "execution_count": 10,
   "metadata": {},
   "outputs": [],
   "source": [
    "len(ids_tot)\n",
    "Faker.seed(456) \n",
    "# did a quick test and seems necessary to set this Faker seed in addition to the earlier \n",
    "# numpy seed that was set "
   ]
  },
  {
   "cell_type": "code",
   "execution_count": 11,
   "metadata": {},
   "outputs": [],
   "source": [
    "phone_nos = []\n",
    "adds = []\n",
    "\n",
    "for i in range(n1_obs + n2_obs):\n",
    "    phone_nos = np.append(phone_nos, Faker().phone_number())\n",
    "    adds = np.append(adds, Faker().address())    "
   ]
  },
  {
   "cell_type": "code",
   "execution_count": 12,
   "metadata": {},
   "outputs": [
    {
     "data": {
      "text/html": [
       "<div>\n",
       "<style scoped>\n",
       "    .dataframe tbody tr th:only-of-type {\n",
       "        vertical-align: middle;\n",
       "    }\n",
       "\n",
       "    .dataframe tbody tr th {\n",
       "        vertical-align: top;\n",
       "    }\n",
       "\n",
       "    .dataframe thead th {\n",
       "        text-align: right;\n",
       "    }\n",
       "</style>\n",
       "<table border=\"1\" class=\"dataframe\">\n",
       "  <thead>\n",
       "    <tr style=\"text-align: right;\">\n",
       "      <th></th>\n",
       "      <th>ID</th>\n",
       "      <th>PhoneNo</th>\n",
       "      <th>Address</th>\n",
       "    </tr>\n",
       "  </thead>\n",
       "  <tbody>\n",
       "    <tr>\n",
       "      <td>0</td>\n",
       "      <td>458439593</td>\n",
       "      <td>001-766-098-1571</td>\n",
       "      <td>22326 Jensen Mountains Suite 987\\nJonesmouth, ...</td>\n",
       "    </tr>\n",
       "    <tr>\n",
       "      <td>1</td>\n",
       "      <td>466502951</td>\n",
       "      <td>635.237.2550</td>\n",
       "      <td>961 Jennifer Pike Suite 707\\nSouth Donmouth, G...</td>\n",
       "    </tr>\n",
       "    <tr>\n",
       "      <td>2</td>\n",
       "      <td>780243050</td>\n",
       "      <td>828.528.2249x47820</td>\n",
       "      <td>23551 Mahoney Junction\\nWest Brandon, MI 53433</td>\n",
       "    </tr>\n",
       "    <tr>\n",
       "      <td>3</td>\n",
       "      <td>197598223</td>\n",
       "      <td>0080358260</td>\n",
       "      <td>741 Sanchez Stravenue Suite 840\\nMichellestad,...</td>\n",
       "    </tr>\n",
       "    <tr>\n",
       "      <td>4</td>\n",
       "      <td>918135592</td>\n",
       "      <td>6632740778</td>\n",
       "      <td>581 Holland Cove\\nCoryburgh, KS 17977</td>\n",
       "    </tr>\n",
       "  </tbody>\n",
       "</table>\n",
       "</div>"
      ],
      "text/plain": [
       "          ID             PhoneNo  \\\n",
       "0  458439593    001-766-098-1571   \n",
       "1  466502951        635.237.2550   \n",
       "2  780243050  828.528.2249x47820   \n",
       "3  197598223          0080358260   \n",
       "4  918135592          6632740778   \n",
       "\n",
       "                                             Address  \n",
       "0  22326 Jensen Mountains Suite 987\\nJonesmouth, ...  \n",
       "1  961 Jennifer Pike Suite 707\\nSouth Donmouth, G...  \n",
       "2     23551 Mahoney Junction\\nWest Brandon, MI 53433  \n",
       "3  741 Sanchez Stravenue Suite 840\\nMichellestad,...  \n",
       "4              581 Holland Cove\\nCoryburgh, KS 17977  "
      ]
     },
     "execution_count": 12,
     "metadata": {},
     "output_type": "execute_result"
    }
   ],
   "source": [
    "contact_df = pd.DataFrame({'ID':ids_tot,\n",
    "                           'PhoneNo':phone_nos,\n",
    "                           'Address':adds\n",
    "                          })\n",
    "\n",
    "contact_df.head()"
   ]
  },
  {
   "cell_type": "markdown",
   "metadata": {},
   "source": [
    "### Data Export"
   ]
  },
  {
   "cell_type": "code",
   "execution_count": 13,
   "metadata": {},
   "outputs": [],
   "source": [
    "# First data set \n",
    "with pd.ExcelWriter('BMI_Data.xlsx') as writer:  \n",
    "    bmi_df.loc[bmi_df.index<n1_obs, \n",
    "           ['ID', 'Age', 'Height (cm)', 'Weight (kg)']].to_excel(excel_writer = writer, \n",
    "                                                                 sheet_name = 'HeightWeight',\n",
    "                                                                 index=False)\n",
    "    contact_df.loc[contact_df.index<n1_obs].to_excel(excel_writer = writer,\n",
    "                      sheet_name = 'Contact Info',\n",
    "                      index=False)\n",
    "\n",
    "# 'Updated' data set (all observations)\n",
    "with pd.ExcelWriter('BMI_Data_UPDATE.xlsx') as writer:  \n",
    "    bmi_df[['ID', 'Age', 'Height (cm)', 'Weight (kg)']].to_excel(excel_writer = writer, \n",
    "                                                                 sheet_name = 'HeightWeight',\n",
    "                                                                 index=False)\n",
    "    contact_df.to_excel(excel_writer = writer,\n",
    "                      sheet_name = 'Contact Info',\n",
    "                      index=False)"
   ]
  },
  {
   "cell_type": "code",
   "execution_count": null,
   "metadata": {},
   "outputs": [],
   "source": []
  }
 ],
 "metadata": {
  "kernelspec": {
   "display_name": "Python 3",
   "language": "python",
   "name": "python3"
  },
  "language_info": {
   "codemirror_mode": {
    "name": "ipython",
    "version": 3
   },
   "file_extension": ".py",
   "mimetype": "text/x-python",
   "name": "python",
   "nbconvert_exporter": "python",
   "pygments_lexer": "ipython3",
   "version": "3.7.4"
  }
 },
 "nbformat": 4,
 "nbformat_minor": 2
}
