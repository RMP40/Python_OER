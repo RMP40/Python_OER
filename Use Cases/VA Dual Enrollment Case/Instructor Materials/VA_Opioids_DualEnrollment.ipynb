{
 "cells": [
  {
   "cell_type": "markdown",
   "metadata": {},
   "source": [
    "## **Simulating Data for Python Didactics**\n",
    "### VA Opioid and Benzodiazepene Dual-Prescription Among Veterans Dual-Enrolled in the VA Healthcare System and Medicare/Medicaid\n",
    "#### **Author(s)**: Dominic DiSanto\n",
    "#### **Written**: 6/29/2020\n",
    "#### **Updated**: 09/09/2020\n",
    "#### **Version**: 0.12\n",
    "\n",
    "Inspiration from Dr. Paris's and Gellad's [publicily available cyberseminar](https://www.hsrd.research.va.gov/for_researchers/cyber_seminars/archives/video_archive.cfm?SessionID=3543) covering VA Pharmacy Data  \n",
    "*(Most notably results contained in slides 34-42)*"
   ]
  },
  {
   "cell_type": "markdown",
   "metadata": {},
   "source": [
    "#### **Introduction**  \n",
    "The present notebook simulates a data set to be possibly used in a use case for the University of Pittsburgh's School of Pharmacy course *Python for Data Management and Analyatics* from Dr. Ravi Patel and Dr. Dmitriy Babichenko. This specific script was created under an internal open education resources grant at the University of Pittsburgh awarded to Dr. Patel, funding supplements to the course's current format with additional student resources, assessments, open resources, etc.  The notebook includes simulating two data sets including a subset of common patients with data available t be cleaned, merged, and visualized/analyzed. \n",
    "  \n",
    "I should also explicitly acknowledge changes to the true/linked research that I've implemented to simplify some of the data simulation and the anticipated student work:\n",
    "1. While the lecture and slides linked in the preamble identify patients based on a metric akin to \"percentage of visits to VA hospitals vs using CMS benefits\", I will simply dichotomize patients to \"dual enrollment\" (for those with a visit in both CMS and VA data sets) and \"VA only\". These groups can then be more simply identified, plotted, compared, etc.\n",
    "3. Some overlapping patients (i.e. VA & CMS dual enrollment) will have overlapping prescriptions as well. The total dose will have to be summed between the two data sources to identify the true morphine mg equivalents taken by the patient (with all data assuming full medication adherence). \n",
    "4. I have reduced the number of medications dramatically and the required data cleaning to identify dose and length of use. This can always be upscaled to include more diverse/complicated medications, presentations, text, etc. \n",
    "\n",
    "\n",
    "> *I'll also acknowledge this code is likely far from best-practices for neat/concise Python programming; it includes redundant and unnecessarily long code. As a later goal, I would love to re-visit and improve this coding*"
   ]
  },
  {
   "cell_type": "markdown",
   "metadata": {},
   "source": [
    "#### **General Goals/Uses of Generated Data**\n",
    "The student assessment and the outlined walkthrough available in the GitHub repository will walk through the goals of this data in more depth. Below are brief bullet points used in my initial drafting and consideration of the data simulation for this use case. \n",
    "\n",
    "See `Student Assessment.MD` in GitHub repository for detailed student assessment and `ExampleSolution.ipynb` for a walkthrough/\"solution\" to the use case. Both of these documents will contain more detailed information and examples to capture the end-goal of this use case. \n",
    "\n",
    "1. Artificial data errors/cleaning tasks to demonstrate a Pharm/Meds related data set to work with character data, text matching/basic string data manipulation, and data merging (of \"VA\" and \"CMS\" data) \n",
    "\n",
    "2. Data management of identifying the outcome/risk factor of interest related to opioid administration, mg of morphone equivalents and related \"over-prescription\"\n",
    "   \n",
    "    \n",
    "3. Data visualiation, trying to recreate a visualization similar to a provided plot in the student assessment (TBD tonight or tomorrow to create as of 9-9-2020). \n",
    "\n",
    "4. Lastly (and optionally, beyond the scope of Dr. Gellad's presentation) statistical inference/modelling related to predicting mortality to show that dual prescription and over-prescription are related to mortality, but that dual use of the two healthcare systems is protective when this does *not* occur."
   ]
  },
  {
   "cell_type": "markdown",
   "metadata": {},
   "source": [
    "### Notes for Data Simulation\n",
    "I have currently not included the length of prescription, and was planning to simply let everyone assume all patients get a 30 day course. I'll then jitter the dates between VA and CMS dates (for dual enrolled patients) by some fairly normal distribution of say 14-42 days, average of 28. "
   ]
  },
  {
   "cell_type": "markdown",
   "metadata": {},
   "source": [
    "### Set Up "
   ]
  },
  {
   "cell_type": "code",
   "execution_count": 117,
   "metadata": {
    "scrolled": true
   },
   "outputs": [],
   "source": [
    "import scipy as sci\n",
    "import numpy as np\n",
    "import pandas as pd\n",
    "np.random.seed(1892)"
   ]
  },
  {
   "cell_type": "markdown",
   "metadata": {},
   "source": [
    "#### General Process\n",
    "***This notebook will:***\n",
    "   1. Compile simulated VA patient visit data set  \n",
    "   2. Sample some proportion of VA patients into CMS data set  \n",
    "   3. Reconfigure sample data to meet CMS data formatting  \n",
    "   4. Generate non-VA patients in CMS data set  \n",
    "   5. Export data   \n",
    "     \n",
    "***Steps Outside of This Notebook***\n",
    "   1. Upload relevant file to GitHub\n",
    "   2. Develop prompt/problem\n",
    "   3. Develop notebook that works through example \"solution\""
   ]
  },
  {
   "cell_type": "markdown",
   "metadata": {},
   "source": [
    "## **1) Simulate VA Patient Data Set**\n",
    "### Generate Variables\n",
    "#### **ID's (Fake, Scrambled SSN's)**"
   ]
  },
  {
   "cell_type": "code",
   "execution_count": 118,
   "metadata": {
    "scrolled": true
   },
   "outputs": [
    {
     "data": {
      "text/plain": [
       "array([609548877, 224736371, 601083249, 233862042])"
      ]
     },
     "metadata": {},
     "output_type": "display_data"
    },
    {
     "data": {
      "text/plain": [
       "808"
      ]
     },
     "metadata": {},
     "output_type": "display_data"
    }
   ],
   "source": [
    "# Generate the VA data first, then sample and alter CMS data later\n",
    "ids_num = np.random.randint(111111111, 999999999, 808)\n",
    "\n",
    "display(ids_num[0:4]) # Just a quick test\n",
    "display(len(ids_num))"
   ]
  },
  {
   "cell_type": "markdown",
   "metadata": {},
   "source": [
    "#### **Age**"
   ]
  },
  {
   "cell_type": "code",
   "execution_count": 119,
   "metadata": {
    "scrolled": true
   },
   "outputs": [
    {
     "data": {
      "text/plain": [
       "808"
      ]
     },
     "metadata": {},
     "output_type": "display_data"
    },
    {
     "data": {
      "text/plain": [
       "(array([168.,  58.,  89.,  14.,  28.,  44.,  55.,  69., 107., 176.]),\n",
       " array([35. , 39.5, 44. , 48.5, 53. , 57.5, 62. , 66.5, 71. , 75.5, 80. ]),\n",
       " <a list of 10 Patch objects>)"
      ]
     },
     "metadata": {},
     "output_type": "display_data"
    },
    {
     "data": {
      "image/png": "[encoded data removed]",
      "text/plain": [
       "<Figure size 432x288 with 1 Axes>"
      ]
     },
     "metadata": {
      "needs_background": "light"
     },
     "output_type": "display_data"
    }
   ],
   "source": [
    "import matplotlib.pyplot as pyplot\n",
    "age_va = [40 + np.random.beta(2.5, 0.8, size=505)*40]\n",
    "\n",
    "for i in range(506, 809):\n",
    "    age_va = np.append(age_va, 45 - np.random.beta(0.4, 0.37)*10)\n",
    "\n",
    "age_va = np.round(age_va, 0)\n",
    "\n",
    "display(len(age_va))\n",
    "display(pyplot.hist(age_va))"
   ]
  },
  {
   "cell_type": "markdown",
   "metadata": {},
   "source": [
    "#### **Height (cm)**\n",
    "For simplicity, we will simply sample a normal distribution using my quick Google of an average male height of 175 cm and a roughly narrow distribution with sd +/- 9 cm."
   ]
  },
  {
   "cell_type": "code",
   "execution_count": 120,
   "metadata": {
    "scrolled": true
   },
   "outputs": [
    {
     "data": {
      "text/plain": [
       "147.58"
      ]
     },
     "metadata": {},
     "output_type": "display_data"
    },
    {
     "data": {
      "text/plain": [
       "207.17"
      ]
     },
     "metadata": {},
     "output_type": "display_data"
    },
    {
     "data": {
      "text/plain": [
       "(array([  7.,  30.,  81., 158., 197., 190., 105.,  32.,   5.,   3.]),\n",
       " array([147.58 , 153.539, 159.498, 165.457, 171.416, 177.375, 183.334,\n",
       "        189.293, 195.252, 201.211, 207.17 ]),\n",
       " <a list of 10 Patch objects>)"
      ]
     },
     "metadata": {},
     "output_type": "display_data"
    },
    {
     "data": {
      "image/png": "[encoded data removed]",
      "text/plain": [
       "<Figure size 432x288 with 1 Axes>"
      ]
     },
     "metadata": {
      "needs_background": "light"
     },
     "output_type": "display_data"
    }
   ],
   "source": [
    "height_va = np.round(np.random.normal(loc=175, scale=9, size=808), 2)\n",
    "\n",
    "display(height_va.min())\n",
    "display(height_va.max())\n",
    "display(pyplot.hist(height_va))"
   ]
  },
  {
   "cell_type": "markdown",
   "metadata": {},
   "source": [
    "#### **Weight (kg)**\n",
    "We will correlate weight to height with some small noise included. We will assume BMI should be roughly normally distributed of mean 31 and standard deviation of 2.8 [[loose reference for numbers I somewhat pulled from a hat]](https://dqydj.com/bmi-distribution-by-age-calculator-for-the-united-states/). As a result, we will randomly assign individuals a BMI, then back-calculate weight (and only keep the weight variable)."
   ]
  },
  {
   "cell_type": "code",
   "execution_count": 121,
   "metadata": {
    "scrolled": true
   },
   "outputs": [
    {
     "data": {
      "text/plain": [
       "124.25125600000001"
      ]
     },
     "metadata": {},
     "output_type": "display_data"
    },
    {
     "data": {
      "text/plain": [
       "318.388332"
      ]
     },
     "metadata": {},
     "output_type": "display_data"
    }
   ],
   "source": [
    "weight_va = np.round(np.random.normal(31, 2.8, 808) * np.square((height_va/100)), 2)\n",
    "weight_va[1:100]\n",
    "\n",
    "display(weight_va.min()*2.2046)\n",
    "display(weight_va.max()*2.2046)"
   ]
  },
  {
   "cell_type": "markdown",
   "metadata": {},
   "source": [
    "#### **Medication**"
   ]
  },
  {
   "cell_type": "code",
   "execution_count": 122,
   "metadata": {
    "scrolled": true
   },
   "outputs": [],
   "source": [
    "medication_va = np.random.choice(['tramadol', 'tramadol HCL', 'buprenorphine', \\\n",
    "                                  'dihydrocodeine-acetaminophin-caff', 'dihydrocodeine', \\\n",
    "                                  'butorphanol', 'acetaminophen', 'ibuprofen', 'gabapentin'], \\\n",
    "                 size=808, replace=True, p = [0.1, 0.1, 0.15, 0.05, 0.05, 0.1, 0.1, 0.15, 0.2])"
   ]
  },
  {
   "cell_type": "markdown",
   "metadata": {},
   "source": [
    "#### **Medication Dose Unit**"
   ]
  },
  {
   "cell_type": "code",
   "execution_count": 123,
   "metadata": {
    "scrolled": true
   },
   "outputs": [],
   "source": [
    "dose_unit_va = np.random.choice(['mg', 'mcg'], size=808, replace=True, p = [0.8, 0.2])"
   ]
  },
  {
   "cell_type": "markdown",
   "metadata": {},
   "source": [
    "#### Med Dose "
   ]
  },
  {
   "cell_type": "code",
   "execution_count": 124,
   "metadata": {
    "scrolled": true
   },
   "outputs": [],
   "source": [
    "dose_data_va = pd.DataFrame(data=medication_va, columns=['Medication'])\n",
    "dose_data_va['Medication Dose Unit'] = dose_unit_va\n",
    "dose_data_va['Medication Dose'] = np.nan\n",
    "\n",
    "for i in range(0, dose_data_va.shape[0]):\n",
    "    if dose_data_va.loc[i, 'Medication']=='acetaminophen':\n",
    "        dose_data_va.loc[i, 'Medication Dose']= \\\n",
    "                np.random.choice([400, 750, 1000, 2500], p=[0.25, 0.45, 0.25, 0.05])\n",
    "    if dose_data_va.loc[i, 'Medication']=='buprenorphine':\n",
    "        dose_data_va.loc[i, 'Medication Dose']= \\\n",
    "                np.random.choice([0.15, 0.3, 0.6], p=[0.33, 0.34, 0.33])\n",
    "    if dose_data_va.loc[i, 'Medication']=='butorphanol':\n",
    "        dose_data_va.loc[i, 'Medication Dose']= \\\n",
    "                np.random.choice([2.5, 4, 6], p=[0.25, 0.4, 0.35])\n",
    "    if dose_data_va.loc[i, 'Medication']=='dihydrocodeine-acetaminophin-caff'\\\n",
    "       or dose_data_va.loc[i, 'Medication']=='dihydrocodeine':\n",
    "        dose_data_va.loc[i, 'Medication Dose']= \\\n",
    "                np.random.choice([16, 30, 60], p=[0.33, 0.34, 0.33])\n",
    "    if dose_data_va.loc[i, 'Medication']=='gabapentin':\n",
    "        dose_data_va.loc[i, 'Medication Dose']= \\\n",
    "                np.random.choice([300, 600], p=[0.75, 0.25])\n",
    "    if dose_data_va.loc[i, 'Medication']=='ibuprofen':\n",
    "        dose_data_va.loc[i, 'Medication Dose']= \\\n",
    "                np.random.choice([100, 200, 400], p=[0.33, 0.34, 0.33])\n",
    "    if dose_data_va.loc[i, 'Medication']=='tramadol' or dose_data_va.loc[i, 'Medication']=='tramadol HCL':\n",
    "        dose_data_va.loc[i, 'Medication Dose']= \\\n",
    "                np.random.choice([100, 200, 400], p=[0.35, 0.4, 0.25])\n",
    "    if dose_data_va.loc[i, 'Medication Dose Unit']=='mcg':\n",
    "        dose_data_va.loc[i, 'Medication Dose'] = dose_data_va.loc[i, 'Medication Dose']*1000"
   ]
  },
  {
   "cell_type": "code",
   "execution_count": 125,
   "metadata": {},
   "outputs": [
    {
     "data": {
      "text/html": [
       "<div>\n",
       "<style scoped>\n",
       "    .dataframe tbody tr th:only-of-type {\n",
       "        vertical-align: middle;\n",
       "    }\n",
       "\n",
       "    .dataframe tbody tr th {\n",
       "        vertical-align: top;\n",
       "    }\n",
       "\n",
       "    .dataframe thead th {\n",
       "        text-align: right;\n",
       "    }\n",
       "</style>\n",
       "<table border=\"1\" class=\"dataframe\">\n",
       "  <thead>\n",
       "    <tr style=\"text-align: right;\">\n",
       "      <th></th>\n",
       "      <th>Medication</th>\n",
       "      <th>Medication Dose Unit</th>\n",
       "      <th>Medication Dose</th>\n",
       "    </tr>\n",
       "  </thead>\n",
       "  <tbody>\n",
       "    <tr>\n",
       "      <td>352</td>\n",
       "      <td>gabapentin</td>\n",
       "      <td>mg</td>\n",
       "      <td>300.0</td>\n",
       "    </tr>\n",
       "    <tr>\n",
       "      <td>492</td>\n",
       "      <td>buprenorphine</td>\n",
       "      <td>mg</td>\n",
       "      <td>0.3</td>\n",
       "    </tr>\n",
       "    <tr>\n",
       "      <td>800</td>\n",
       "      <td>gabapentin</td>\n",
       "      <td>mg</td>\n",
       "      <td>300.0</td>\n",
       "    </tr>\n",
       "    <tr>\n",
       "      <td>705</td>\n",
       "      <td>gabapentin</td>\n",
       "      <td>mg</td>\n",
       "      <td>300.0</td>\n",
       "    </tr>\n",
       "    <tr>\n",
       "      <td>674</td>\n",
       "      <td>tramadol HCL</td>\n",
       "      <td>mg</td>\n",
       "      <td>200.0</td>\n",
       "    </tr>\n",
       "    <tr>\n",
       "      <td>520</td>\n",
       "      <td>ibuprofen</td>\n",
       "      <td>mg</td>\n",
       "      <td>200.0</td>\n",
       "    </tr>\n",
       "  </tbody>\n",
       "</table>\n",
       "</div>"
      ],
      "text/plain": [
       "        Medication Medication Dose Unit  Medication Dose\n",
       "352     gabapentin                   mg            300.0\n",
       "492  buprenorphine                   mg              0.3\n",
       "800     gabapentin                   mg            300.0\n",
       "705     gabapentin                   mg            300.0\n",
       "674   tramadol HCL                   mg            200.0\n",
       "520      ibuprofen                   mg            200.0"
      ]
     },
     "execution_count": 125,
     "metadata": {},
     "output_type": "execute_result"
    }
   ],
   "source": [
    "dose_data_va.sample(6)"
   ]
  },
  {
   "cell_type": "markdown",
   "metadata": {},
   "source": [
    "#### **Visit Date**"
   ]
  },
  {
   "cell_type": "code",
   "execution_count": 126,
   "metadata": {
    "scrolled": true
   },
   "outputs": [
    {
     "data": {
      "text/plain": [
       "['2018-06-19',\n",
       " '2019-09-29',\n",
       " '2018-10-02',\n",
       " '2018-07-18',\n",
       " '2018-10-09',\n",
       " '2019-12-13',\n",
       " '2019-02-27',\n",
       " '2019-05-18',\n",
       " '2019-01-09',\n",
       " '2018-01-31']"
      ]
     },
     "execution_count": 126,
     "metadata": {},
     "output_type": "execute_result"
    }
   ],
   "source": [
    "# Shamelessly taken and only marginally adapted from the second answer at\n",
    "# https://stackoverflow.com/questions/553303/generate-a-random-date-between-two-other-date\n",
    "\n",
    "#from datetime import timedelta\n",
    "from datetime import datetime\n",
    "from datetime import timedelta\n",
    "from random import randrange\n",
    "\n",
    "start = datetime.strptime('1/1/2018', '%m/%d/%Y')\n",
    "end = datetime.strptime('1/1/2020', '%m/%d/%Y')\n",
    "visit_date_va=[]\n",
    "\n",
    "for i in range(1,809):\n",
    "    delta = end - start\n",
    "    int_delta = (delta.days)\n",
    "    rand_days = randrange(int_delta)\n",
    "    x = start + timedelta(days=rand_days)\n",
    "    visit_date_va.append(str(x)[0:10])\n",
    "\n",
    "visit_date_va[0:10]"
   ]
  },
  {
   "cell_type": "markdown",
   "metadata": {},
   "source": [
    "#### Duration Value"
   ]
  },
  {
   "cell_type": "code",
   "execution_count": 127,
   "metadata": {
    "scrolled": true
   },
   "outputs": [],
   "source": [
    "# Will simply be a mix of days (14-35), months (1-2), and weeks (3-8) \n",
    "# I have no idea how long a typical script would be for these things so this could change\n",
    "med_dur_va = np.random.choice( \\\n",
    "    np.concatenate([np.random.randint(1, 6, size=308), \\\n",
    "                    # randomly generating month, week values\n",
    "                    np.random.randint(28, 60, size=500)]), \\\n",
    "                               # randomly generating day values\n",
    "    size=808, replace=False) # np.choice resamples w/o replacement, effectively  rearranging the array\n"
   ]
  },
  {
   "cell_type": "markdown",
   "metadata": {},
   "source": [
    "#### Duration Unit"
   ]
  },
  {
   "cell_type": "code",
   "execution_count": 128,
   "metadata": {
    "scrolled": true
   },
   "outputs": [
    {
     "data": {
      "text/html": [
       "<div>\n",
       "<style scoped>\n",
       "    .dataframe tbody tr th:only-of-type {\n",
       "        vertical-align: middle;\n",
       "    }\n",
       "\n",
       "    .dataframe tbody tr th {\n",
       "        vertical-align: top;\n",
       "    }\n",
       "\n",
       "    .dataframe thead th {\n",
       "        text-align: right;\n",
       "    }\n",
       "</style>\n",
       "<table border=\"1\" class=\"dataframe\">\n",
       "  <thead>\n",
       "    <tr style=\"text-align: right;\">\n",
       "      <th></th>\n",
       "      <th>Medication Duration</th>\n",
       "      <th>Duration Unit</th>\n",
       "    </tr>\n",
       "  </thead>\n",
       "  <tbody>\n",
       "    <tr>\n",
       "      <td>150</td>\n",
       "      <td>53</td>\n",
       "      <td>Day</td>\n",
       "    </tr>\n",
       "    <tr>\n",
       "      <td>110</td>\n",
       "      <td>5</td>\n",
       "      <td>Week</td>\n",
       "    </tr>\n",
       "    <tr>\n",
       "      <td>54</td>\n",
       "      <td>45</td>\n",
       "      <td>Day</td>\n",
       "    </tr>\n",
       "    <tr>\n",
       "      <td>175</td>\n",
       "      <td>1</td>\n",
       "      <td>Month</td>\n",
       "    </tr>\n",
       "    <tr>\n",
       "      <td>19</td>\n",
       "      <td>4</td>\n",
       "      <td>Week</td>\n",
       "    </tr>\n",
       "    <tr>\n",
       "      <td>264</td>\n",
       "      <td>46</td>\n",
       "      <td>Day</td>\n",
       "    </tr>\n",
       "    <tr>\n",
       "      <td>540</td>\n",
       "      <td>5</td>\n",
       "      <td>Week</td>\n",
       "    </tr>\n",
       "    <tr>\n",
       "      <td>748</td>\n",
       "      <td>44</td>\n",
       "      <td>Day</td>\n",
       "    </tr>\n",
       "    <tr>\n",
       "      <td>777</td>\n",
       "      <td>57</td>\n",
       "      <td>Day</td>\n",
       "    </tr>\n",
       "    <tr>\n",
       "      <td>87</td>\n",
       "      <td>2</td>\n",
       "      <td>Week</td>\n",
       "    </tr>\n",
       "  </tbody>\n",
       "</table>\n",
       "</div>"
      ],
      "text/plain": [
       "     Medication Duration Duration Unit\n",
       "150                   53           Day\n",
       "110                    5          Week\n",
       "54                    45           Day\n",
       "175                    1         Month\n",
       "19                     4          Week\n",
       "264                   46           Day\n",
       "540                    5          Week\n",
       "748                   44           Day\n",
       "777                   57           Day\n",
       "87                     2          Week"
      ]
     },
     "execution_count": 128,
     "metadata": {},
     "output_type": "execute_result"
    }
   ],
   "source": [
    "# Duration unit will depend upon the value, not a lot of variability here\n",
    "# values of 30+ will be days\n",
    "# values of 1, 2 can be months or weeks \n",
    "# values of 4-8 will be weeks\n",
    "#\n",
    "med_data_va = pd.DataFrame(data=med_dur_va, columns=['Medication Duration'])\n",
    "med_data_va['Duration Unit'] = ''\n",
    "\n",
    "for i in range(0, med_data_va.shape[0]):\n",
    "    med_data_va['Duration Unit'].iloc[i] = 'Day'\n",
    "    if med_data_va['Medication Duration'].iloc[i]==1:\n",
    "        med_data_va['Duration Unit'].iloc[i] = 'Month'# np.random.choice(['Month', 'Week'], p=[0.4, 0.6])\n",
    "    if med_data_va['Medication Duration'].iloc[i]>1 and med_data_va['Medication Duration'].iloc[i]<10:\n",
    "        med_data_va['Duration Unit'].iloc[i] = 'Week'# np.random.choice(['Month', 'Week'], p=[0.4, 0.6])\n",
    "    \n",
    "med_data_va.sample(10)"
   ]
  },
  {
   "cell_type": "markdown",
   "metadata": {},
   "source": [
    "### Creating VA Data Frame"
   ]
  },
  {
   "cell_type": "code",
   "execution_count": 129,
   "metadata": {
    "scrolled": true
   },
   "outputs": [],
   "source": [
    "VA_data = pd.DataFrame({\n",
    "    'Patient ID': ids_num, \n",
    "    'Visit Date': visit_date_va,\n",
    "    'Age': age_va,\n",
    "    'Height': height_va,\n",
    "    'Weight': weight_va,\n",
    "    'Medication': dose_data_va['Medication'],\n",
    "    'Medication Dose': dose_data_va['Medication Dose'],\n",
    "    'Medication Dose Unit': dose_data_va['Medication Dose Unit'],\n",
    "    'Medication Duration Value': med_data_va['Medication Duration'],\n",
    "    'Medication Duration Unit': med_data_va['Duration Unit']            \n",
    "})"
   ]
  },
  {
   "cell_type": "code",
   "execution_count": 130,
   "metadata": {
    "scrolled": true
   },
   "outputs": [
    {
     "data": {
      "text/html": [
       "<div>\n",
       "<style scoped>\n",
       "    .dataframe tbody tr th:only-of-type {\n",
       "        vertical-align: middle;\n",
       "    }\n",
       "\n",
       "    .dataframe tbody tr th {\n",
       "        vertical-align: top;\n",
       "    }\n",
       "\n",
       "    .dataframe thead th {\n",
       "        text-align: right;\n",
       "    }\n",
       "</style>\n",
       "<table border=\"1\" class=\"dataframe\">\n",
       "  <thead>\n",
       "    <tr style=\"text-align: right;\">\n",
       "      <th></th>\n",
       "      <th>Patient ID</th>\n",
       "      <th>Visit Date</th>\n",
       "      <th>Age</th>\n",
       "      <th>Height</th>\n",
       "      <th>Weight</th>\n",
       "      <th>Medication</th>\n",
       "      <th>Medication Dose</th>\n",
       "      <th>Medication Dose Unit</th>\n",
       "      <th>Medication Duration Value</th>\n",
       "      <th>Medication Duration Unit</th>\n",
       "    </tr>\n",
       "  </thead>\n",
       "  <tbody>\n",
       "    <tr>\n",
       "      <td>8</td>\n",
       "      <td>839072705</td>\n",
       "      <td>2019-01-09</td>\n",
       "      <td>75.0</td>\n",
       "      <td>176.01</td>\n",
       "      <td>94.06</td>\n",
       "      <td>gabapentin</td>\n",
       "      <td>300.0</td>\n",
       "      <td>mg</td>\n",
       "      <td>56</td>\n",
       "      <td>Day</td>\n",
       "    </tr>\n",
       "    <tr>\n",
       "      <td>6</td>\n",
       "      <td>594951177</td>\n",
       "      <td>2019-02-27</td>\n",
       "      <td>76.0</td>\n",
       "      <td>193.40</td>\n",
       "      <td>144.42</td>\n",
       "      <td>tramadol</td>\n",
       "      <td>400.0</td>\n",
       "      <td>mg</td>\n",
       "      <td>1</td>\n",
       "      <td>Month</td>\n",
       "    </tr>\n",
       "    <tr>\n",
       "      <td>344</td>\n",
       "      <td>618853094</td>\n",
       "      <td>2018-07-21</td>\n",
       "      <td>62.0</td>\n",
       "      <td>177.21</td>\n",
       "      <td>97.13</td>\n",
       "      <td>dihydrocodeine-acetaminophin-caff</td>\n",
       "      <td>60.0</td>\n",
       "      <td>mg</td>\n",
       "      <td>3</td>\n",
       "      <td>Week</td>\n",
       "    </tr>\n",
       "    <tr>\n",
       "      <td>102</td>\n",
       "      <td>680550980</td>\n",
       "      <td>2018-01-04</td>\n",
       "      <td>50.0</td>\n",
       "      <td>161.75</td>\n",
       "      <td>80.27</td>\n",
       "      <td>acetaminophen</td>\n",
       "      <td>750000.0</td>\n",
       "      <td>mcg</td>\n",
       "      <td>3</td>\n",
       "      <td>Week</td>\n",
       "    </tr>\n",
       "    <tr>\n",
       "      <td>618</td>\n",
       "      <td>499505840</td>\n",
       "      <td>2019-12-19</td>\n",
       "      <td>45.0</td>\n",
       "      <td>173.65</td>\n",
       "      <td>96.39</td>\n",
       "      <td>butorphanol</td>\n",
       "      <td>2.5</td>\n",
       "      <td>mg</td>\n",
       "      <td>3</td>\n",
       "      <td>Week</td>\n",
       "    </tr>\n",
       "    <tr>\n",
       "      <td>358</td>\n",
       "      <td>318968469</td>\n",
       "      <td>2018-08-06</td>\n",
       "      <td>63.0</td>\n",
       "      <td>191.77</td>\n",
       "      <td>109.38</td>\n",
       "      <td>gabapentin</td>\n",
       "      <td>300.0</td>\n",
       "      <td>mg</td>\n",
       "      <td>2</td>\n",
       "      <td>Week</td>\n",
       "    </tr>\n",
       "    <tr>\n",
       "      <td>399</td>\n",
       "      <td>551043414</td>\n",
       "      <td>2018-04-11</td>\n",
       "      <td>78.0</td>\n",
       "      <td>164.01</td>\n",
       "      <td>91.59</td>\n",
       "      <td>acetaminophen</td>\n",
       "      <td>1000.0</td>\n",
       "      <td>mg</td>\n",
       "      <td>44</td>\n",
       "      <td>Day</td>\n",
       "    </tr>\n",
       "    <tr>\n",
       "      <td>85</td>\n",
       "      <td>619950694</td>\n",
       "      <td>2018-03-29</td>\n",
       "      <td>53.0</td>\n",
       "      <td>178.29</td>\n",
       "      <td>93.76</td>\n",
       "      <td>acetaminophen</td>\n",
       "      <td>750.0</td>\n",
       "      <td>mg</td>\n",
       "      <td>41</td>\n",
       "      <td>Day</td>\n",
       "    </tr>\n",
       "    <tr>\n",
       "      <td>384</td>\n",
       "      <td>393662429</td>\n",
       "      <td>2019-09-18</td>\n",
       "      <td>44.0</td>\n",
       "      <td>157.40</td>\n",
       "      <td>78.25</td>\n",
       "      <td>butorphanol</td>\n",
       "      <td>4.0</td>\n",
       "      <td>mg</td>\n",
       "      <td>51</td>\n",
       "      <td>Day</td>\n",
       "    </tr>\n",
       "    <tr>\n",
       "      <td>538</td>\n",
       "      <td>877446334</td>\n",
       "      <td>2019-04-05</td>\n",
       "      <td>45.0</td>\n",
       "      <td>183.66</td>\n",
       "      <td>106.86</td>\n",
       "      <td>butorphanol</td>\n",
       "      <td>4.0</td>\n",
       "      <td>mg</td>\n",
       "      <td>58</td>\n",
       "      <td>Day</td>\n",
       "    </tr>\n",
       "  </tbody>\n",
       "</table>\n",
       "</div>"
      ],
      "text/plain": [
       "     Patient ID  Visit Date   Age  Height  Weight  \\\n",
       "8     839072705  2019-01-09  75.0  176.01   94.06   \n",
       "6     594951177  2019-02-27  76.0  193.40  144.42   \n",
       "344   618853094  2018-07-21  62.0  177.21   97.13   \n",
       "102   680550980  2018-01-04  50.0  161.75   80.27   \n",
       "618   499505840  2019-12-19  45.0  173.65   96.39   \n",
       "358   318968469  2018-08-06  63.0  191.77  109.38   \n",
       "399   551043414  2018-04-11  78.0  164.01   91.59   \n",
       "85    619950694  2018-03-29  53.0  178.29   93.76   \n",
       "384   393662429  2019-09-18  44.0  157.40   78.25   \n",
       "538   877446334  2019-04-05  45.0  183.66  106.86   \n",
       "\n",
       "                            Medication  Medication Dose Medication Dose Unit  \\\n",
       "8                           gabapentin            300.0                   mg   \n",
       "6                             tramadol            400.0                   mg   \n",
       "344  dihydrocodeine-acetaminophin-caff             60.0                   mg   \n",
       "102                      acetaminophen         750000.0                  mcg   \n",
       "618                        butorphanol              2.5                   mg   \n",
       "358                         gabapentin            300.0                   mg   \n",
       "399                      acetaminophen           1000.0                   mg   \n",
       "85                       acetaminophen            750.0                   mg   \n",
       "384                        butorphanol              4.0                   mg   \n",
       "538                        butorphanol              4.0                   mg   \n",
       "\n",
       "     Medication Duration Value Medication Duration Unit  \n",
       "8                           56                      Day  \n",
       "6                            1                    Month  \n",
       "344                          3                     Week  \n",
       "102                          3                     Week  \n",
       "618                          3                     Week  \n",
       "358                          2                     Week  \n",
       "399                         44                      Day  \n",
       "85                          41                      Day  \n",
       "384                         51                      Day  \n",
       "538                         58                      Day  "
      ]
     },
     "execution_count": 130,
     "metadata": {},
     "output_type": "execute_result"
    }
   ],
   "source": [
    "VA_data.sample(10)"
   ]
  },
  {
   "cell_type": "markdown",
   "metadata": {},
   "source": [
    "## **2. Sample some proportion of VA patients into CMS data set**\n",
    "I will start by sampling a subset of rows from the VA data as our \"dual-enrolled\" patients (I chose 384 on a whim and as a roughly near-50/50 split, seems like a nice number idk). I'll then add new CMS style variables to this data frame, and finally retain only the CMS variables.\n",
    "\n",
    "> Appending the new variables to the data frame will allow me to check-as-I-go to ensure I create the variables I'm intending to create. Then in a final step, I will simply keep only the CMS variables identified by a \"*(CMS)*\" suffix. "
   ]
  },
  {
   "cell_type": "code",
   "execution_count": 131,
   "metadata": {
    "scrolled": true
   },
   "outputs": [
    {
     "data": {
      "text/html": [
       "<div>\n",
       "<style scoped>\n",
       "    .dataframe tbody tr th:only-of-type {\n",
       "        vertical-align: middle;\n",
       "    }\n",
       "\n",
       "    .dataframe tbody tr th {\n",
       "        vertical-align: top;\n",
       "    }\n",
       "\n",
       "    .dataframe thead th {\n",
       "        text-align: right;\n",
       "    }\n",
       "</style>\n",
       "<table border=\"1\" class=\"dataframe\">\n",
       "  <thead>\n",
       "    <tr style=\"text-align: right;\">\n",
       "      <th></th>\n",
       "      <th>index</th>\n",
       "      <th>Patient ID</th>\n",
       "      <th>Visit Date</th>\n",
       "      <th>Age</th>\n",
       "      <th>Height</th>\n",
       "      <th>Weight</th>\n",
       "      <th>Medication</th>\n",
       "      <th>Medication Dose</th>\n",
       "      <th>Medication Dose Unit</th>\n",
       "      <th>Medication Duration Value</th>\n",
       "      <th>Medication Duration Unit</th>\n",
       "    </tr>\n",
       "  </thead>\n",
       "  <tbody>\n",
       "    <tr>\n",
       "      <td>0</td>\n",
       "      <td>591</td>\n",
       "      <td>646979801</td>\n",
       "      <td>2018-05-30</td>\n",
       "      <td>43.0</td>\n",
       "      <td>189.26</td>\n",
       "      <td>126.03</td>\n",
       "      <td>ibuprofen</td>\n",
       "      <td>400.0</td>\n",
       "      <td>mg</td>\n",
       "      <td>5</td>\n",
       "      <td>Week</td>\n",
       "    </tr>\n",
       "    <tr>\n",
       "      <td>1</td>\n",
       "      <td>105</td>\n",
       "      <td>553276047</td>\n",
       "      <td>2019-07-18</td>\n",
       "      <td>52.0</td>\n",
       "      <td>171.28</td>\n",
       "      <td>82.54</td>\n",
       "      <td>butorphanol</td>\n",
       "      <td>4.0</td>\n",
       "      <td>mg</td>\n",
       "      <td>34</td>\n",
       "      <td>Day</td>\n",
       "    </tr>\n",
       "    <tr>\n",
       "      <td>2</td>\n",
       "      <td>770</td>\n",
       "      <td>334303080</td>\n",
       "      <td>2019-12-31</td>\n",
       "      <td>44.0</td>\n",
       "      <td>164.78</td>\n",
       "      <td>78.44</td>\n",
       "      <td>butorphanol</td>\n",
       "      <td>2.5</td>\n",
       "      <td>mg</td>\n",
       "      <td>1</td>\n",
       "      <td>Month</td>\n",
       "    </tr>\n",
       "    <tr>\n",
       "      <td>3</td>\n",
       "      <td>361</td>\n",
       "      <td>949445667</td>\n",
       "      <td>2018-05-09</td>\n",
       "      <td>72.0</td>\n",
       "      <td>164.19</td>\n",
       "      <td>94.50</td>\n",
       "      <td>gabapentin</td>\n",
       "      <td>300.0</td>\n",
       "      <td>mg</td>\n",
       "      <td>3</td>\n",
       "      <td>Week</td>\n",
       "    </tr>\n",
       "  </tbody>\n",
       "</table>\n",
       "</div>"
      ],
      "text/plain": [
       "   index  Patient ID  Visit Date   Age  Height  Weight   Medication  \\\n",
       "0    591   646979801  2018-05-30  43.0  189.26  126.03    ibuprofen   \n",
       "1    105   553276047  2019-07-18  52.0  171.28   82.54  butorphanol   \n",
       "2    770   334303080  2019-12-31  44.0  164.78   78.44  butorphanol   \n",
       "3    361   949445667  2018-05-09  72.0  164.19   94.50   gabapentin   \n",
       "\n",
       "   Medication Dose Medication Dose Unit  Medication Duration Value  \\\n",
       "0            400.0                   mg                          5   \n",
       "1              4.0                   mg                         34   \n",
       "2              2.5                   mg                          1   \n",
       "3            300.0                   mg                          3   \n",
       "\n",
       "  Medication Duration Unit  \n",
       "0                     Week  \n",
       "1                      Day  \n",
       "2                    Month  \n",
       "3                     Week  "
      ]
     },
     "execution_count": 131,
     "metadata": {},
     "output_type": "execute_result"
    }
   ],
   "source": [
    "CMS_VA_dual_pats = VA_data.sample(384).reset_index(drop=False) # keeping \n",
    "CMS_VA_dual_pats.head(4)"
   ]
  },
  {
   "cell_type": "markdown",
   "metadata": {},
   "source": [
    "## **3. Reconfigure sample data to meet CMS data formatting**\n",
    "Age will remain the same. Height and weight are dropped in the final steps from this data frame. Medication variables are randomly re-sampled (as if a new data set). As I work through creating the walkthrough document, I will think of how to re-adjust as necessary to have sufficient values of outcomes of interest. For now, I'll pray to the gods that randomization is on my side."
   ]
  },
  {
   "cell_type": "markdown",
   "metadata": {},
   "source": [
    "#### Patient ID \n",
    "Currently an integer, I will add in the hyphen's (\"-\") to represent the SSN structure of the ID variable, and to require students to work with substring or string replace and casting data types. "
   ]
  },
  {
   "cell_type": "code",
   "execution_count": 132,
   "metadata": {
    "scrolled": true
   },
   "outputs": [
    {
     "data": {
      "text/html": [
       "<div>\n",
       "<style scoped>\n",
       "    .dataframe tbody tr th:only-of-type {\n",
       "        vertical-align: middle;\n",
       "    }\n",
       "\n",
       "    .dataframe tbody tr th {\n",
       "        vertical-align: top;\n",
       "    }\n",
       "\n",
       "    .dataframe thead th {\n",
       "        text-align: right;\n",
       "    }\n",
       "</style>\n",
       "<table border=\"1\" class=\"dataframe\">\n",
       "  <thead>\n",
       "    <tr style=\"text-align: right;\">\n",
       "      <th></th>\n",
       "      <th>Patient ID</th>\n",
       "      <th>Patient ID (CMS)</th>\n",
       "    </tr>\n",
       "  </thead>\n",
       "  <tbody>\n",
       "    <tr>\n",
       "      <td>62</td>\n",
       "      <td>148722083</td>\n",
       "      <td>148-72-2083</td>\n",
       "    </tr>\n",
       "    <tr>\n",
       "      <td>12</td>\n",
       "      <td>485487112</td>\n",
       "      <td>485-48-7112</td>\n",
       "    </tr>\n",
       "    <tr>\n",
       "      <td>341</td>\n",
       "      <td>619680569</td>\n",
       "      <td>619-68-0569</td>\n",
       "    </tr>\n",
       "    <tr>\n",
       "      <td>60</td>\n",
       "      <td>624531141</td>\n",
       "      <td>624-53-1141</td>\n",
       "    </tr>\n",
       "    <tr>\n",
       "      <td>347</td>\n",
       "      <td>969703406</td>\n",
       "      <td>969-70-3406</td>\n",
       "    </tr>\n",
       "    <tr>\n",
       "      <td>40</td>\n",
       "      <td>441734513</td>\n",
       "      <td>441-73-4513</td>\n",
       "    </tr>\n",
       "  </tbody>\n",
       "</table>\n",
       "</div>"
      ],
      "text/plain": [
       "     Patient ID Patient ID (CMS)\n",
       "62    148722083      148-72-2083\n",
       "12    485487112      485-48-7112\n",
       "341   619680569      619-68-0569\n",
       "60    624531141      624-53-1141\n",
       "347   969703406      969-70-3406\n",
       "40    441734513      441-73-4513"
      ]
     },
     "execution_count": 132,
     "metadata": {},
     "output_type": "execute_result"
    }
   ],
   "source": [
    "CMS_VA_dual_pats['Patient ID (CMS)'] = ''\n",
    "for i in range(0,CMS_VA_dual_pats.shape[0]):\n",
    "    x = str(CMS_VA_dual_pats.loc[i, 'Patient ID'])\n",
    "    ssn_r = x[0:3] + '-' + x[3:5] + \"-\" + x[5:10]\n",
    "    CMS_VA_dual_pats.loc[i, 'Patient ID (CMS)'] = [ssn_r]\n",
    "    \n",
    "CMS_VA_dual_pats[['Patient ID', 'Patient ID (CMS)']].sample(6)"
   ]
  },
  {
   "cell_type": "markdown",
   "metadata": {},
   "source": [
    "#### Medication "
   ]
  },
  {
   "cell_type": "code",
   "execution_count": 133,
   "metadata": {
    "scrolled": true
   },
   "outputs": [],
   "source": [
    "CMS_VA_dual_pats['Medication (CMS)'] = ''\n",
    "\n",
    "for i in range(0, CMS_VA_dual_pats.shape[0]):\n",
    "    CMS_VA_dual_pats['Medication (CMS)'].loc[i] =  \\\n",
    "                                str(np.random.choice(['TRAMADOL', 'BUPRENORPHINE', \n",
    "                                    'BUPRENORPHINE TABLET', 'BUPERNORPHINE', \\\n",
    "                                    'DIHYDROCODEINE', 'BUTORPHANOL', 'IBUPROFEN', 'GABAPENTIN'], \\\n",
    "                                 p = [0.2, 0.1, 0.03, 0.02, 0.1, 0.1, 0.25, 0.2]))"
   ]
  },
  {
   "cell_type": "markdown",
   "metadata": {},
   "source": [
    "#### Medication Dose Unit"
   ]
  },
  {
   "cell_type": "code",
   "execution_count": 134,
   "metadata": {},
   "outputs": [],
   "source": [
    "CMS_VA_dual_pats['Medication Dose Unit (CMS)'] = ''\n",
    "\n",
    "for i in range(0, CMS_VA_dual_pats.shape[0]):\n",
    "    CMS_VA_dual_pats['Medication Dose Unit (CMS)'].loc[i] = \\\n",
    "    np.random.choice(['mg', 'mcg'], p = [0.8, 0.2])"
   ]
  },
  {
   "cell_type": "markdown",
   "metadata": {},
   "source": [
    "#### Medication Dose (Dose) "
   ]
  },
  {
   "cell_type": "code",
   "execution_count": 135,
   "metadata": {},
   "outputs": [
    {
     "data": {
      "text/html": [
       "<div>\n",
       "<style scoped>\n",
       "    .dataframe tbody tr th:only-of-type {\n",
       "        vertical-align: middle;\n",
       "    }\n",
       "\n",
       "    .dataframe tbody tr th {\n",
       "        vertical-align: top;\n",
       "    }\n",
       "\n",
       "    .dataframe thead th {\n",
       "        text-align: right;\n",
       "    }\n",
       "</style>\n",
       "<table border=\"1\" class=\"dataframe\">\n",
       "  <thead>\n",
       "    <tr style=\"text-align: right;\">\n",
       "      <th></th>\n",
       "      <th>index</th>\n",
       "      <th>Patient ID</th>\n",
       "      <th>Visit Date</th>\n",
       "      <th>Age</th>\n",
       "      <th>Height</th>\n",
       "      <th>Weight</th>\n",
       "      <th>Medication</th>\n",
       "      <th>Medication Dose</th>\n",
       "      <th>Medication Dose Unit</th>\n",
       "      <th>Medication Duration Value</th>\n",
       "      <th>Medication Duration Unit</th>\n",
       "      <th>Patient ID (CMS)</th>\n",
       "      <th>Medication (CMS)</th>\n",
       "      <th>Medication Dose Unit (CMS)</th>\n",
       "    </tr>\n",
       "  </thead>\n",
       "  <tbody>\n",
       "    <tr>\n",
       "      <td>298</td>\n",
       "      <td>111</td>\n",
       "      <td>439213038</td>\n",
       "      <td>2018-03-30</td>\n",
       "      <td>69.0</td>\n",
       "      <td>186.69</td>\n",
       "      <td>109.98</td>\n",
       "      <td>buprenorphine</td>\n",
       "      <td>0.6</td>\n",
       "      <td>mg</td>\n",
       "      <td>3</td>\n",
       "      <td>Week</td>\n",
       "      <td>439-21-3038</td>\n",
       "      <td>IBUPROFEN</td>\n",
       "      <td>mg</td>\n",
       "    </tr>\n",
       "    <tr>\n",
       "      <td>205</td>\n",
       "      <td>232</td>\n",
       "      <td>695096607</td>\n",
       "      <td>2018-08-27</td>\n",
       "      <td>61.0</td>\n",
       "      <td>171.06</td>\n",
       "      <td>108.13</td>\n",
       "      <td>dihydrocodeine-acetaminophin-caff</td>\n",
       "      <td>30.0</td>\n",
       "      <td>mg</td>\n",
       "      <td>41</td>\n",
       "      <td>Day</td>\n",
       "      <td>695-09-6607</td>\n",
       "      <td>IBUPROFEN</td>\n",
       "      <td>mg</td>\n",
       "    </tr>\n",
       "    <tr>\n",
       "      <td>171</td>\n",
       "      <td>88</td>\n",
       "      <td>987018672</td>\n",
       "      <td>2019-06-26</td>\n",
       "      <td>80.0</td>\n",
       "      <td>176.07</td>\n",
       "      <td>90.99</td>\n",
       "      <td>gabapentin</td>\n",
       "      <td>300.0</td>\n",
       "      <td>mg</td>\n",
       "      <td>48</td>\n",
       "      <td>Day</td>\n",
       "      <td>987-01-8672</td>\n",
       "      <td>IBUPROFEN</td>\n",
       "      <td>mcg</td>\n",
       "    </tr>\n",
       "    <tr>\n",
       "      <td>256</td>\n",
       "      <td>235</td>\n",
       "      <td>937237305</td>\n",
       "      <td>2018-03-10</td>\n",
       "      <td>76.0</td>\n",
       "      <td>186.99</td>\n",
       "      <td>133.34</td>\n",
       "      <td>tramadol HCL</td>\n",
       "      <td>200.0</td>\n",
       "      <td>mg</td>\n",
       "      <td>31</td>\n",
       "      <td>Day</td>\n",
       "      <td>937-23-7305</td>\n",
       "      <td>IBUPROFEN</td>\n",
       "      <td>mg</td>\n",
       "    </tr>\n",
       "    <tr>\n",
       "      <td>18</td>\n",
       "      <td>362</td>\n",
       "      <td>945931854</td>\n",
       "      <td>2018-07-10</td>\n",
       "      <td>56.0</td>\n",
       "      <td>186.36</td>\n",
       "      <td>105.77</td>\n",
       "      <td>acetaminophen</td>\n",
       "      <td>400000.0</td>\n",
       "      <td>mcg</td>\n",
       "      <td>58</td>\n",
       "      <td>Day</td>\n",
       "      <td>945-93-1854</td>\n",
       "      <td>IBUPROFEN</td>\n",
       "      <td>mg</td>\n",
       "    </tr>\n",
       "  </tbody>\n",
       "</table>\n",
       "</div>"
      ],
      "text/plain": [
       "     index  Patient ID  Visit Date   Age  Height  Weight  \\\n",
       "298    111   439213038  2018-03-30  69.0  186.69  109.98   \n",
       "205    232   695096607  2018-08-27  61.0  171.06  108.13   \n",
       "171     88   987018672  2019-06-26  80.0  176.07   90.99   \n",
       "256    235   937237305  2018-03-10  76.0  186.99  133.34   \n",
       "18     362   945931854  2018-07-10  56.0  186.36  105.77   \n",
       "\n",
       "                            Medication  Medication Dose Medication Dose Unit  \\\n",
       "298                      buprenorphine              0.6                   mg   \n",
       "205  dihydrocodeine-acetaminophin-caff             30.0                   mg   \n",
       "171                         gabapentin            300.0                   mg   \n",
       "256                       tramadol HCL            200.0                   mg   \n",
       "18                       acetaminophen         400000.0                  mcg   \n",
       "\n",
       "     Medication Duration Value Medication Duration Unit Patient ID (CMS)  \\\n",
       "298                          3                     Week      439-21-3038   \n",
       "205                         41                      Day      695-09-6607   \n",
       "171                         48                      Day      987-01-8672   \n",
       "256                         31                      Day      937-23-7305   \n",
       "18                          58                      Day      945-93-1854   \n",
       "\n",
       "    Medication (CMS) Medication Dose Unit (CMS)  \n",
       "298        IBUPROFEN                         mg  \n",
       "205        IBUPROFEN                         mg  \n",
       "171        IBUPROFEN                        mcg  \n",
       "256        IBUPROFEN                         mg  \n",
       "18         IBUPROFEN                         mg  "
      ]
     },
     "execution_count": 135,
     "metadata": {},
     "output_type": "execute_result"
    }
   ],
   "source": [
    "CMS_VA_dual_pats.loc[CMS_VA_dual_pats['Medication (CMS)']=='IBUPROFEN'].sample(5)"
   ]
  },
  {
   "cell_type": "code",
   "execution_count": 136,
   "metadata": {},
   "outputs": [
    {
     "data": {
      "text/plain": [
       "{'BUPERNORPHINE',\n",
       " 'BUPRENORPHINE',\n",
       " 'BUPRENORPHINE TABLET',\n",
       " 'BUTORPHANOL',\n",
       " 'DIHYDROCODEINE',\n",
       " 'GABAPENTIN',\n",
       " 'IBUPROFEN',\n",
       " 'TRAMADOL'}"
      ]
     },
     "execution_count": 136,
     "metadata": {},
     "output_type": "execute_result"
    }
   ],
   "source": [
    "set(CMS_VA_dual_pats['Medication (CMS)'])"
   ]
  },
  {
   "cell_type": "code",
   "execution_count": 137,
   "metadata": {
    "scrolled": true
   },
   "outputs": [],
   "source": [
    "CMS_VA_dual_pats['Medication Dose (CMS)'] = np.nan\n",
    "\n",
    "for i in range(0, CMS_VA_dual_pats.shape[0]):\n",
    "    if CMS_VA_dual_pats.loc[i, 'Medication (CMS)']=='BUPRENORPHINE' or \\\n",
    "       CMS_VA_dual_pats.loc[i, 'Medication (CMS)']=='BUPERNORPHINE' or \\\n",
    "       CMS_VA_dual_pats.loc[i, 'Medication (CMS)']=='BUPRENORPHINE TABLET':\n",
    "        CMS_VA_dual_pats.loc[i, 'Medication Dose (CMS)']= \\\n",
    "                np.random.choice([0.15, 0.3, 0.6], p=[0.33, 0.34, 0.33])\n",
    "    if CMS_VA_dual_pats.loc[i, 'Medication (CMS)']=='BUTORPHANOL':\n",
    "        CMS_VA_dual_pats.loc[i, 'Medication Dose (CMS)']= \\\n",
    "                np.random.choice([2.5, 4, 6], p=[0.25, 0.4, 0.35])\n",
    "    if CMS_VA_dual_pats.loc[i, 'Medication (CMS)']=='DIHYDROCODEINE':\n",
    "        CMS_VA_dual_pats.loc[i, 'Medication Dose (CMS)']= \\\n",
    "                np.random.choice([16, 30, 60], p=[0.33, 0.34, 0.33])\n",
    "    if CMS_VA_dual_pats.loc[i, 'Medication (CMS)']=='GABAPENTIN':\n",
    "        CMS_VA_dual_pats.loc[i, 'Medication Dose (CMS)']= \\\n",
    "                np.random.choice([300, 600], p=[0.75, 0.25])\n",
    "    if CMS_VA_dual_pats.loc[i, 'Medication (CMS)']=='IBUPROFEN':\n",
    "        CMS_VA_dual_pats.loc[i, 'Medication Dose (CMS)']= \\\n",
    "                np.random.choice([100, 200, 400], p=[0.33, 0.34, 0.33])\n",
    "    if CMS_VA_dual_pats.loc[i, 'Medication (CMS)']=='TRAMADOL':\n",
    "        CMS_VA_dual_pats.loc[i, 'Medication Dose (CMS)']= \\\n",
    "        np.random.choice([100, 200, 400], p=[0.35, 0.4, 0.25])\n",
    "    if CMS_VA_dual_pats.loc[i, 'Medication Dose Unit (CMS)']=='mcg':\n",
    "        CMS_VA_dual_pats.loc[i, 'Medication Dose (CMS)'] = \\\n",
    "        CMS_VA_dual_pats.loc[i, 'Medication Dose (CMS)']*1000"
   ]
  },
  {
   "cell_type": "code",
   "execution_count": 138,
   "metadata": {},
   "outputs": [
    {
     "data": {
      "text/html": [
       "<div>\n",
       "<style scoped>\n",
       "    .dataframe tbody tr th:only-of-type {\n",
       "        vertical-align: middle;\n",
       "    }\n",
       "\n",
       "    .dataframe tbody tr th {\n",
       "        vertical-align: top;\n",
       "    }\n",
       "\n",
       "    .dataframe thead th {\n",
       "        text-align: right;\n",
       "    }\n",
       "</style>\n",
       "<table border=\"1\" class=\"dataframe\">\n",
       "  <thead>\n",
       "    <tr style=\"text-align: right;\">\n",
       "      <th></th>\n",
       "      <th>Medication (CMS)</th>\n",
       "      <th>Medication Dose (CMS)</th>\n",
       "      <th>Medication Dose Unit (CMS)</th>\n",
       "    </tr>\n",
       "  </thead>\n",
       "  <tbody>\n",
       "    <tr>\n",
       "      <td>0</td>\n",
       "      <td>DIHYDROCODEINE</td>\n",
       "      <td>16.00</td>\n",
       "      <td>mg</td>\n",
       "    </tr>\n",
       "    <tr>\n",
       "      <td>1</td>\n",
       "      <td>TRAMADOL</td>\n",
       "      <td>400000.00</td>\n",
       "      <td>mcg</td>\n",
       "    </tr>\n",
       "    <tr>\n",
       "      <td>2</td>\n",
       "      <td>TRAMADOL</td>\n",
       "      <td>400.00</td>\n",
       "      <td>mg</td>\n",
       "    </tr>\n",
       "    <tr>\n",
       "      <td>3</td>\n",
       "      <td>GABAPENTIN</td>\n",
       "      <td>300.00</td>\n",
       "      <td>mg</td>\n",
       "    </tr>\n",
       "    <tr>\n",
       "      <td>4</td>\n",
       "      <td>GABAPENTIN</td>\n",
       "      <td>300.00</td>\n",
       "      <td>mg</td>\n",
       "    </tr>\n",
       "    <tr>\n",
       "      <td>...</td>\n",
       "      <td>...</td>\n",
       "      <td>...</td>\n",
       "      <td>...</td>\n",
       "    </tr>\n",
       "    <tr>\n",
       "      <td>379</td>\n",
       "      <td>TRAMADOL</td>\n",
       "      <td>100.00</td>\n",
       "      <td>mg</td>\n",
       "    </tr>\n",
       "    <tr>\n",
       "      <td>380</td>\n",
       "      <td>IBUPROFEN</td>\n",
       "      <td>400.00</td>\n",
       "      <td>mg</td>\n",
       "    </tr>\n",
       "    <tr>\n",
       "      <td>381</td>\n",
       "      <td>BUTORPHANOL</td>\n",
       "      <td>6.00</td>\n",
       "      <td>mg</td>\n",
       "    </tr>\n",
       "    <tr>\n",
       "      <td>382</td>\n",
       "      <td>IBUPROFEN</td>\n",
       "      <td>100.00</td>\n",
       "      <td>mg</td>\n",
       "    </tr>\n",
       "    <tr>\n",
       "      <td>383</td>\n",
       "      <td>BUPERNORPHINE</td>\n",
       "      <td>0.15</td>\n",
       "      <td>mg</td>\n",
       "    </tr>\n",
       "  </tbody>\n",
       "</table>\n",
       "<p>384 rows × 3 columns</p>\n",
       "</div>"
      ],
      "text/plain": [
       "    Medication (CMS)  Medication Dose (CMS) Medication Dose Unit (CMS)\n",
       "0     DIHYDROCODEINE                  16.00                         mg\n",
       "1           TRAMADOL              400000.00                        mcg\n",
       "2           TRAMADOL                 400.00                         mg\n",
       "3         GABAPENTIN                 300.00                         mg\n",
       "4         GABAPENTIN                 300.00                         mg\n",
       "..               ...                    ...                        ...\n",
       "379         TRAMADOL                 100.00                         mg\n",
       "380        IBUPROFEN                 400.00                         mg\n",
       "381      BUTORPHANOL                   6.00                         mg\n",
       "382        IBUPROFEN                 100.00                         mg\n",
       "383    BUPERNORPHINE                   0.15                         mg\n",
       "\n",
       "[384 rows x 3 columns]"
      ]
     },
     "execution_count": 138,
     "metadata": {},
     "output_type": "execute_result"
    }
   ],
   "source": [
    "CMS_VA_dual_pats[['Medication (CMS)', 'Medication Dose (CMS)', 'Medication Dose Unit (CMS)']]"
   ]
  },
  {
   "cell_type": "markdown",
   "metadata": {},
   "source": [
    "#### Duration Value"
   ]
  },
  {
   "cell_type": "code",
   "execution_count": 139,
   "metadata": {
    "scrolled": true
   },
   "outputs": [],
   "source": [
    "# Will simply be a mix of days (14-35), months (1-2), and weeks (3-8) \n",
    "# I have no idea how long a typical script would be for these things so this could change\n",
    "cms_med_duration = np.random.choice( \\\n",
    "    np.concatenate([np.random.randint(1, 6, size=308), \\\n",
    "                    # randomly generating month, week values\n",
    "                    np.random.randint(28, 60, size=500)]), \\\n",
    "                               # randomly generating day values\n",
    "    size=CMS_VA_dual_pats.shape[0], replace=False) # np.choice resamples w/o replacement, effectively  rearranging the array\n",
    "\n",
    "CMS_VA_dual_pats['Medication Duration (CMS)'] = cms_med_duration"
   ]
  },
  {
   "cell_type": "markdown",
   "metadata": {},
   "source": [
    "#### Duration Unit"
   ]
  },
  {
   "cell_type": "code",
   "execution_count": 140,
   "metadata": {
    "scrolled": false
   },
   "outputs": [],
   "source": [
    "# Duration unit will depend upon the value, not a lot of variability here\n",
    "# values of 30+ will be days\n",
    "# values of 1, 2 can be months or weeks \n",
    "# values of 4-8 will be weeks\n",
    "#\n",
    "CMS_VA_dual_pats['Duration Unit (CMS)'] = ''\n",
    "\n",
    "for i in range(0, CMS_VA_dual_pats.shape[0]):\n",
    "    CMS_VA_dual_pats['Duration Unit (CMS)'].iloc[i] = 'Day'\n",
    "    if CMS_VA_dual_pats['Medication Duration (CMS)'].iloc[i]==1:\n",
    "        CMS_VA_dual_pats['Duration Unit (CMS)'].iloc[i] = 'Month'\n",
    "    if CMS_VA_dual_pats['Medication Duration (CMS)'].iloc[i]>1\\\n",
    "    and CMS_VA_dual_pats['Medication Duration (CMS)'].iloc[i]<10:\n",
    "        CMS_VA_dual_pats['Duration Unit (CMS)'].iloc[i] = 'Week'"
   ]
  },
  {
   "cell_type": "markdown",
   "metadata": {},
   "source": [
    "#### Visit Date"
   ]
  },
  {
   "cell_type": "code",
   "execution_count": 141,
   "metadata": {},
   "outputs": [
    {
     "data": {
      "text/html": [
       "<div>\n",
       "<style scoped>\n",
       "    .dataframe tbody tr th:only-of-type {\n",
       "        vertical-align: middle;\n",
       "    }\n",
       "\n",
       "    .dataframe tbody tr th {\n",
       "        vertical-align: top;\n",
       "    }\n",
       "\n",
       "    .dataframe thead th {\n",
       "        text-align: right;\n",
       "    }\n",
       "</style>\n",
       "<table border=\"1\" class=\"dataframe\">\n",
       "  <thead>\n",
       "    <tr style=\"text-align: right;\">\n",
       "      <th></th>\n",
       "      <th>index</th>\n",
       "      <th>Patient ID</th>\n",
       "      <th>Visit Date</th>\n",
       "      <th>Age</th>\n",
       "      <th>Height</th>\n",
       "      <th>Weight</th>\n",
       "      <th>Medication</th>\n",
       "      <th>Medication Dose</th>\n",
       "      <th>Medication Dose Unit</th>\n",
       "      <th>Medication Duration Value</th>\n",
       "      <th>Medication Duration Unit</th>\n",
       "      <th>Patient ID (CMS)</th>\n",
       "      <th>Medication (CMS)</th>\n",
       "      <th>Medication Dose Unit (CMS)</th>\n",
       "      <th>Medication Dose (CMS)</th>\n",
       "      <th>Medication Duration (CMS)</th>\n",
       "      <th>Duration Unit (CMS)</th>\n",
       "      <th>Visit Date (CMS)</th>\n",
       "    </tr>\n",
       "  </thead>\n",
       "  <tbody>\n",
       "    <tr>\n",
       "      <td>180</td>\n",
       "      <td>72</td>\n",
       "      <td>868923955</td>\n",
       "      <td>2018-09-03</td>\n",
       "      <td>77.0</td>\n",
       "      <td>192.70</td>\n",
       "      <td>121.04</td>\n",
       "      <td>ibuprofen</td>\n",
       "      <td>200.00</td>\n",
       "      <td>mg</td>\n",
       "      <td>56</td>\n",
       "      <td>Day</td>\n",
       "      <td>868-92-3955</td>\n",
       "      <td>TRAMADOL</td>\n",
       "      <td>mg</td>\n",
       "      <td>100.0</td>\n",
       "      <td>43</td>\n",
       "      <td>Day</td>\n",
       "      <td>2018-09-12</td>\n",
       "    </tr>\n",
       "    <tr>\n",
       "      <td>148</td>\n",
       "      <td>741</td>\n",
       "      <td>669010219</td>\n",
       "      <td>2018-09-29</td>\n",
       "      <td>43.0</td>\n",
       "      <td>155.62</td>\n",
       "      <td>63.98</td>\n",
       "      <td>tramadol HCL</td>\n",
       "      <td>100.00</td>\n",
       "      <td>mg</td>\n",
       "      <td>42</td>\n",
       "      <td>Day</td>\n",
       "      <td>669-01-0219</td>\n",
       "      <td>BUPRENORPHINE TABLET</td>\n",
       "      <td>mg</td>\n",
       "      <td>0.3</td>\n",
       "      <td>54</td>\n",
       "      <td>Day</td>\n",
       "      <td>2018-09-25</td>\n",
       "    </tr>\n",
       "    <tr>\n",
       "      <td>73</td>\n",
       "      <td>699</td>\n",
       "      <td>270996802</td>\n",
       "      <td>2019-12-06</td>\n",
       "      <td>44.0</td>\n",
       "      <td>186.61</td>\n",
       "      <td>95.01</td>\n",
       "      <td>tramadol</td>\n",
       "      <td>200.00</td>\n",
       "      <td>mg</td>\n",
       "      <td>51</td>\n",
       "      <td>Day</td>\n",
       "      <td>270-99-6802</td>\n",
       "      <td>GABAPENTIN</td>\n",
       "      <td>mg</td>\n",
       "      <td>300.0</td>\n",
       "      <td>29</td>\n",
       "      <td>Day</td>\n",
       "      <td>2019-12-13</td>\n",
       "    </tr>\n",
       "    <tr>\n",
       "      <td>67</td>\n",
       "      <td>137</td>\n",
       "      <td>481615586</td>\n",
       "      <td>2019-06-16</td>\n",
       "      <td>77.0</td>\n",
       "      <td>167.84</td>\n",
       "      <td>90.83</td>\n",
       "      <td>buprenorphine</td>\n",
       "      <td>0.15</td>\n",
       "      <td>mg</td>\n",
       "      <td>49</td>\n",
       "      <td>Day</td>\n",
       "      <td>481-61-5586</td>\n",
       "      <td>BUPERNORPHINE</td>\n",
       "      <td>mcg</td>\n",
       "      <td>150.0</td>\n",
       "      <td>42</td>\n",
       "      <td>Day</td>\n",
       "      <td>2019-06-10</td>\n",
       "    </tr>\n",
       "    <tr>\n",
       "      <td>343</td>\n",
       "      <td>398</td>\n",
       "      <td>149741775</td>\n",
       "      <td>2018-12-12</td>\n",
       "      <td>74.0</td>\n",
       "      <td>167.50</td>\n",
       "      <td>87.57</td>\n",
       "      <td>dihydrocodeine-acetaminophin-caff</td>\n",
       "      <td>16.00</td>\n",
       "      <td>mg</td>\n",
       "      <td>42</td>\n",
       "      <td>Day</td>\n",
       "      <td>149-74-1775</td>\n",
       "      <td>IBUPROFEN</td>\n",
       "      <td>mg</td>\n",
       "      <td>200.0</td>\n",
       "      <td>57</td>\n",
       "      <td>Day</td>\n",
       "      <td>2018-12-04</td>\n",
       "    </tr>\n",
       "  </tbody>\n",
       "</table>\n",
       "</div>"
      ],
      "text/plain": [
       "     index  Patient ID  Visit Date   Age  Height  Weight  \\\n",
       "180     72   868923955  2018-09-03  77.0  192.70  121.04   \n",
       "148    741   669010219  2018-09-29  43.0  155.62   63.98   \n",
       "73     699   270996802  2019-12-06  44.0  186.61   95.01   \n",
       "67     137   481615586  2019-06-16  77.0  167.84   90.83   \n",
       "343    398   149741775  2018-12-12  74.0  167.50   87.57   \n",
       "\n",
       "                            Medication  Medication Dose Medication Dose Unit  \\\n",
       "180                          ibuprofen           200.00                   mg   \n",
       "148                       tramadol HCL           100.00                   mg   \n",
       "73                            tramadol           200.00                   mg   \n",
       "67                       buprenorphine             0.15                   mg   \n",
       "343  dihydrocodeine-acetaminophin-caff            16.00                   mg   \n",
       "\n",
       "     Medication Duration Value Medication Duration Unit Patient ID (CMS)  \\\n",
       "180                         56                      Day      868-92-3955   \n",
       "148                         42                      Day      669-01-0219   \n",
       "73                          51                      Day      270-99-6802   \n",
       "67                          49                      Day      481-61-5586   \n",
       "343                         42                      Day      149-74-1775   \n",
       "\n",
       "         Medication (CMS) Medication Dose Unit (CMS)  Medication Dose (CMS)  \\\n",
       "180              TRAMADOL                         mg                  100.0   \n",
       "148  BUPRENORPHINE TABLET                         mg                    0.3   \n",
       "73             GABAPENTIN                         mg                  300.0   \n",
       "67          BUPERNORPHINE                        mcg                  150.0   \n",
       "343             IBUPROFEN                         mg                  200.0   \n",
       "\n",
       "     Medication Duration (CMS) Duration Unit (CMS) Visit Date (CMS)  \n",
       "180                         43                 Day       2018-09-12  \n",
       "148                         54                 Day       2018-09-25  \n",
       "73                          29                 Day       2019-12-13  \n",
       "67                          42                 Day       2019-06-10  \n",
       "343                         57                 Day       2018-12-04  "
      ]
     },
     "execution_count": 141,
     "metadata": {},
     "output_type": "execute_result"
    }
   ],
   "source": [
    "rand_int = np.random.randint(-10, 10, size=CMS_VA_dual_pats.shape[0])\n",
    "\n",
    "CMS_VA_dual_pats['Visit Date (CMS)'] = ''\n",
    "\n",
    "for i in range(0, CMS_VA_dual_pats.shape[0]):\n",
    "    CMS_VA_dual_pats['Visit Date (CMS)'].loc[i] = str( \\\n",
    "    datetime.strptime(CMS_VA_dual_pats['Visit Date'].loc[i], '%Y-%m-%d') \\\n",
    "    + timedelta(days=int(rand_int[i])))[0:10]\n",
    "    \n",
    "CMS_VA_dual_pats.sample(5)"
   ]
  },
  {
   "cell_type": "markdown",
   "metadata": {},
   "source": [
    "#### **Finalizing CMS Data Set**"
   ]
  },
  {
   "cell_type": "code",
   "execution_count": 142,
   "metadata": {
    "scrolled": true
   },
   "outputs": [
    {
     "data": {
      "text/plain": [
       "['Patient ID (CMS)',\n",
       " 'Medication (CMS)',\n",
       " 'Medication Dose Unit (CMS)',\n",
       " 'Medication Dose (CMS)',\n",
       " 'Medication Duration (CMS)',\n",
       " 'Duration Unit (CMS)',\n",
       " 'Visit Date (CMS)']"
      ]
     },
     "execution_count": 142,
     "metadata": {},
     "output_type": "execute_result"
    }
   ],
   "source": [
    "CMS_vars = []\n",
    "for i in CMS_VA_dual_pats.columns:\n",
    "    if 'CMS' in i:\n",
    "        CMS_vars.append(i) \n",
    "CMS_vars"
   ]
  },
  {
   "cell_type": "code",
   "execution_count": 143,
   "metadata": {
    "scrolled": true
   },
   "outputs": [
    {
     "data": {
      "text/html": [
       "<div>\n",
       "<style scoped>\n",
       "    .dataframe tbody tr th:only-of-type {\n",
       "        vertical-align: middle;\n",
       "    }\n",
       "\n",
       "    .dataframe tbody tr th {\n",
       "        vertical-align: top;\n",
       "    }\n",
       "\n",
       "    .dataframe thead th {\n",
       "        text-align: right;\n",
       "    }\n",
       "</style>\n",
       "<table border=\"1\" class=\"dataframe\">\n",
       "  <thead>\n",
       "    <tr style=\"text-align: right;\">\n",
       "      <th></th>\n",
       "      <th>Patient ID</th>\n",
       "      <th>Medication</th>\n",
       "      <th>Medication Dose Unit</th>\n",
       "      <th>Medication Dose</th>\n",
       "      <th>Medication Duration</th>\n",
       "      <th>Duration Unit</th>\n",
       "      <th>Visit Date</th>\n",
       "    </tr>\n",
       "  </thead>\n",
       "  <tbody>\n",
       "    <tr>\n",
       "      <td>0</td>\n",
       "      <td>646-97-9801</td>\n",
       "      <td>DIHYDROCODEINE</td>\n",
       "      <td>mg</td>\n",
       "      <td>16.0</td>\n",
       "      <td>4</td>\n",
       "      <td>Week</td>\n",
       "      <td>2018-05-28</td>\n",
       "    </tr>\n",
       "    <tr>\n",
       "      <td>1</td>\n",
       "      <td>553-27-6047</td>\n",
       "      <td>TRAMADOL</td>\n",
       "      <td>mcg</td>\n",
       "      <td>400000.0</td>\n",
       "      <td>58</td>\n",
       "      <td>Day</td>\n",
       "      <td>2019-07-20</td>\n",
       "    </tr>\n",
       "    <tr>\n",
       "      <td>2</td>\n",
       "      <td>334-30-3080</td>\n",
       "      <td>TRAMADOL</td>\n",
       "      <td>mg</td>\n",
       "      <td>400.0</td>\n",
       "      <td>5</td>\n",
       "      <td>Week</td>\n",
       "      <td>2019-12-22</td>\n",
       "    </tr>\n",
       "    <tr>\n",
       "      <td>3</td>\n",
       "      <td>949-44-5667</td>\n",
       "      <td>GABAPENTIN</td>\n",
       "      <td>mg</td>\n",
       "      <td>300.0</td>\n",
       "      <td>36</td>\n",
       "      <td>Day</td>\n",
       "      <td>2018-05-11</td>\n",
       "    </tr>\n",
       "    <tr>\n",
       "      <td>4</td>\n",
       "      <td>995-42-5426</td>\n",
       "      <td>GABAPENTIN</td>\n",
       "      <td>mg</td>\n",
       "      <td>300.0</td>\n",
       "      <td>28</td>\n",
       "      <td>Day</td>\n",
       "      <td>2019-01-13</td>\n",
       "    </tr>\n",
       "    <tr>\n",
       "      <td>5</td>\n",
       "      <td>308-32-7332</td>\n",
       "      <td>IBUPROFEN</td>\n",
       "      <td>mg</td>\n",
       "      <td>400.0</td>\n",
       "      <td>4</td>\n",
       "      <td>Week</td>\n",
       "      <td>2019-03-06</td>\n",
       "    </tr>\n",
       "    <tr>\n",
       "      <td>6</td>\n",
       "      <td>368-15-4152</td>\n",
       "      <td>DIHYDROCODEINE</td>\n",
       "      <td>mg</td>\n",
       "      <td>30.0</td>\n",
       "      <td>5</td>\n",
       "      <td>Week</td>\n",
       "      <td>2018-10-29</td>\n",
       "    </tr>\n",
       "    <tr>\n",
       "      <td>7</td>\n",
       "      <td>659-13-6189</td>\n",
       "      <td>IBUPROFEN</td>\n",
       "      <td>mg</td>\n",
       "      <td>200.0</td>\n",
       "      <td>31</td>\n",
       "      <td>Day</td>\n",
       "      <td>2019-08-06</td>\n",
       "    </tr>\n",
       "    <tr>\n",
       "      <td>8</td>\n",
       "      <td>816-42-4301</td>\n",
       "      <td>TRAMADOL</td>\n",
       "      <td>mg</td>\n",
       "      <td>200.0</td>\n",
       "      <td>58</td>\n",
       "      <td>Day</td>\n",
       "      <td>2018-11-25</td>\n",
       "    </tr>\n",
       "    <tr>\n",
       "      <td>9</td>\n",
       "      <td>205-48-4621</td>\n",
       "      <td>GABAPENTIN</td>\n",
       "      <td>mg</td>\n",
       "      <td>300.0</td>\n",
       "      <td>3</td>\n",
       "      <td>Week</td>\n",
       "      <td>2019-03-15</td>\n",
       "    </tr>\n",
       "  </tbody>\n",
       "</table>\n",
       "</div>"
      ],
      "text/plain": [
       "    Patient ID      Medication Medication Dose Unit  Medication Dose  \\\n",
       "0  646-97-9801  DIHYDROCODEINE                   mg             16.0   \n",
       "1  553-27-6047        TRAMADOL                  mcg         400000.0   \n",
       "2  334-30-3080        TRAMADOL                   mg            400.0   \n",
       "3  949-44-5667      GABAPENTIN                   mg            300.0   \n",
       "4  995-42-5426      GABAPENTIN                   mg            300.0   \n",
       "5  308-32-7332       IBUPROFEN                   mg            400.0   \n",
       "6  368-15-4152  DIHYDROCODEINE                   mg             30.0   \n",
       "7  659-13-6189       IBUPROFEN                   mg            200.0   \n",
       "8  816-42-4301        TRAMADOL                   mg            200.0   \n",
       "9  205-48-4621      GABAPENTIN                   mg            300.0   \n",
       "\n",
       "   Medication Duration Duration Unit  Visit Date  \n",
       "0                    4          Week  2018-05-28  \n",
       "1                   58           Day  2019-07-20  \n",
       "2                    5          Week  2019-12-22  \n",
       "3                   36           Day  2018-05-11  \n",
       "4                   28           Day  2019-01-13  \n",
       "5                    4          Week  2019-03-06  \n",
       "6                    5          Week  2018-10-29  \n",
       "7                   31           Day  2019-08-06  \n",
       "8                   58           Day  2018-11-25  \n",
       "9                    3          Week  2019-03-15  "
      ]
     },
     "execution_count": 143,
     "metadata": {},
     "output_type": "execute_result"
    }
   ],
   "source": [
    "CMS_data = CMS_VA_dual_pats[CMS_VA_dual_pats.columns.intersection(CMS_vars)]\n",
    "CMS_data.columns = CMS_data.columns.str.rstrip(' (CMS)')\n",
    "CMS_data.head(10)"
   ]
  },
  {
   "cell_type": "markdown",
   "metadata": {},
   "source": [
    "### Data Export\n",
    "Exporting two separate csv files, one of VA data (`VA_data`) and one of CMS data (`CMS_data`). Very creative dataframe naming obviously\n",
    "\n",
    "*10/5/2020 Update: When I created the walkthrough document of this use case, I found we did nto have any total MME's above 120, so I've simply scaled the data slightly to create a group of patients surpassing this \"at-risk\" cutoff from Dr. Gellad's study.*"
   ]
  },
  {
   "cell_type": "code",
   "execution_count": 144,
   "metadata": {},
   "outputs": [
    {
     "name": "stderr",
     "output_type": "stream",
     "text": [
      "C:\\Users\\Dominic DiSanto\\Anaconda3\\lib\\site-packages\\ipykernel_launcher.py:1: SettingWithCopyWarning: \n",
      "A value is trying to be set on a copy of a slice from a DataFrame.\n",
      "Try using .loc[row_indexer,col_indexer] = value instead\n",
      "\n",
      "See the caveats in the documentation: http://pandas.pydata.org/pandas-docs/stable/user_guide/indexing.html#returning-a-view-versus-a-copy\n",
      "  \"\"\"Entry point for launching an IPython kernel.\n"
     ]
    },
    {
     "data": {
      "text/html": [
       "<div>\n",
       "<style scoped>\n",
       "    .dataframe tbody tr th:only-of-type {\n",
       "        vertical-align: middle;\n",
       "    }\n",
       "\n",
       "    .dataframe tbody tr th {\n",
       "        vertical-align: top;\n",
       "    }\n",
       "\n",
       "    .dataframe thead th {\n",
       "        text-align: right;\n",
       "    }\n",
       "</style>\n",
       "<table border=\"1\" class=\"dataframe\">\n",
       "  <thead>\n",
       "    <tr style=\"text-align: right;\">\n",
       "      <th></th>\n",
       "      <th>Patient ID</th>\n",
       "      <th>Medication</th>\n",
       "      <th>Medication Dose Unit</th>\n",
       "      <th>Medication Dose</th>\n",
       "      <th>Medication Duration</th>\n",
       "      <th>Duration Unit</th>\n",
       "      <th>Visit Date</th>\n",
       "    </tr>\n",
       "  </thead>\n",
       "  <tbody>\n",
       "    <tr>\n",
       "      <td>0</td>\n",
       "      <td>646-97-9801</td>\n",
       "      <td>DIHYDROCODEINE</td>\n",
       "      <td>mg</td>\n",
       "      <td>48.0</td>\n",
       "      <td>4</td>\n",
       "      <td>Week</td>\n",
       "      <td>2018-05-28</td>\n",
       "    </tr>\n",
       "    <tr>\n",
       "      <td>1</td>\n",
       "      <td>553-27-6047</td>\n",
       "      <td>TRAMADOL</td>\n",
       "      <td>mcg</td>\n",
       "      <td>1200000.0</td>\n",
       "      <td>58</td>\n",
       "      <td>Day</td>\n",
       "      <td>2019-07-20</td>\n",
       "    </tr>\n",
       "  </tbody>\n",
       "</table>\n",
       "</div>"
      ],
      "text/plain": [
       "    Patient ID      Medication Medication Dose Unit  Medication Dose  \\\n",
       "0  646-97-9801  DIHYDROCODEINE                   mg             48.0   \n",
       "1  553-27-6047        TRAMADOL                  mcg        1200000.0   \n",
       "\n",
       "   Medication Duration Duration Unit  Visit Date  \n",
       "0                    4          Week  2018-05-28  \n",
       "1                   58           Day  2019-07-20  "
      ]
     },
     "execution_count": 144,
     "metadata": {},
     "output_type": "execute_result"
    }
   ],
   "source": [
    "CMS_data['Medication Dose'] = 3*CMS_data['Medication Dose']\n",
    "VA_data['Medication Dose'] = 2*VA_data['Medication Dose']\n",
    "CMS_data.head(2)"
   ]
  },
  {
   "cell_type": "code",
   "execution_count": 145,
   "metadata": {},
   "outputs": [],
   "source": [
    "CMS_data.to_csv(r'CMS_data.csv', index=False)\n",
    "VA_data.to_csv(r'VA_data.csv', index=False)"
   ]
  },
  {
   "cell_type": "markdown",
   "metadata": {},
   "source": [
    "### Parting Thoughts\n",
    "As of today (9/11/2020), I have not yet drafted the walkthrough document or \"explored\" this simulated data. I anticipate that some more refined data simulation will be necessary as I explore the data from the analysis rather than generation perspective. I simply wanted to document this fact for now to note the inherent incompleteness of this data simulation without having analyzed the data, even as the current script \"accomplishes\" the intended output by simulating the data. "
   ]
  }
 ],
 "metadata": {
  "kernelspec": {
   "display_name": "Python 3",
   "language": "python",
   "name": "python3"
  },
  "language_info": {
   "codemirror_mode": {
    "name": "ipython",
    "version": 3
   },
   "file_extension": ".py",
   "mimetype": "text/x-python",
   "name": "python",
   "nbconvert_exporter": "python",
   "pygments_lexer": "ipython3",
   "version": "3.7.4"
  }
 },
 "nbformat": 4,
 "nbformat_minor": 2
}
