{
 "cells": [
  {
   "cell_type": "markdown",
   "metadata": {},
   "source": [
    "## **Simulating Data for Python Didactics**\n",
    "### VA Opioid and Benzodiazepene Dual-Prescription Among Veterans Dual-Enrolled in the VA Healthcare System and Medicare/Medicaid\n",
    "#### **Author(s)**: Dominic DiSanto\n",
    "#### **Written**: 6/29/2020\n",
    "#### **Updated**: 09/07/2020\n",
    "#### **Version**: 0.10\n",
    "\n",
    "Inspiration from Dr. Paris's and Gellad's [publicily available cyberseminar](https://www.hsrd.research.va.gov/for_researchers/cyber_seminars/archives/video_archive.cfm?SessionID=3543) covering VA Pharmacy Data  \n",
    "NOTE: This was uploaded 9/8/2020 to preserve this code. The data simulation is being somewhat adapted to be slightly adapted to remove some unnecessary \"duration of medication administration\" data. \n",
    "*(Most notably results contained in slides 34-42)*"
   ]
  },
  {
   "cell_type": "markdown",
   "metadata": {},
   "source": [
    "#### **Introduction**  \n",
    "The present notebook simulates a data set to be possibly used in a use case for the University of Pittsburgh's School of Pharmacy course *Python for Data Management and Analyatics* from Dr. Ravi Patel and Dr. Dmitriy Babichenko. This specific script was created under a grnat from Dr. Patel intended to supplement the course's current format with additional student resources, assignments, etc.  The notebook includes simulating two data sets including a subset of common patients with data available t be cleaned, merged, and visualized/analyzed. \n",
    "  \n",
    "This use case is referenced as a \"faux\" use case, as I (Dominic) developed this code after watching the VA's CyberSeminar series for work. This notebook also allowed me to a) practice Python and my notebook organization and b) have a first-pass/practice notebook of simulating data, allowing myself a test-run to identify best ways to organize my code, troubleshoot common errors, and identify my own \"best-practices\" before working to simulate data for one of our more important/developed use cases.   \n",
    "  \n",
    "I also want to explicitly acknowledge changes to the true research that I've implemented to simplify some of the data simulation and the anticipated student work:\n",
    "1. While the lecture and slides linked in the preamble identify patients based on a metric akin to \"percentage of visits to VA hospitals vs using CMS benefits\", I will simply dichotomize patients to \"dual enrollment\" (for those with a visit in both CMS and VA data sets) and \"VA only\". These groups can then be more simply identified, plotted, compared, etc.\n",
    "2. Some overlapping patients (i.e. VA & CMS dual enrollment) will have overlapping prescriptions as well. The total dose will have to be summed between the two data sources to identify the true 120 morphine mg equivalents taken by the patient (with all data assuming full medication adherence). \n",
    "3. I have reduced the number of medications and there presented dosages and free-text entries into the theoretical medical record or research database. This can always be upscaled to include more diverse/complicated medications, presentations, text, etc. \n",
    "> An aside, there is inherently a \"CMS only\" group, but I've left them out as out-of-focus compared to the VA enrolled patients. It could be left as an additional post-hoc to the user to plot this third group, after comparing the \"VA-only\" and \"dual enrollment\" groups "
   ]
  },
  {
   "cell_type": "markdown",
   "metadata": {},
   "source": [
    "#### **General Goals/Uses of Generated Data**\n",
    "1. Artificial data errors/cleaning tasks to demonstrate a Pharm/Meds related data set to work with character data, text matching/basic NLP, and data merging (of \"VA\" and \"CMS\" data) \n",
    "\n",
    "\n",
    "2. Data management of identifying the outcome/risk factor of interest\n",
    "    1. dual prescription of opioids & benzodiazepenes for over 30 days (minimum of two drugs)\n",
    "    2. dual prescription of high-dose (defined as 120 morphine mg equivalents) opioids & benzodiazepines for over 30 days   \n",
    "    [The following infographic is useful in determining MME equivalents](https://www.cdc.gov/drugoverdose/pdf/calculating_total_daily_dose-a.pdf)\n",
    "    \n",
    "    \n",
    "3. Data visualiation, trying to recreate a (loosely) similar plot to slide 42 in the VA slideshow of dual-prescription with definitions taken from [Carico et al.](https://www.ncbi.nlm.nih.gov/pmc/articles/PMC6219924/)    *(or presentation slide 32, in the Abstract's Measurements section)*. \n",
    "\n",
    "\n",
    "4. Lastly (and optionally, beyond the scope of Dr. Gellad's presentation) some sort of statistical inference related to this data. \n",
    "    1. ***Dominic N.B.*** - For now, I will omit this section. My general thought process (currently) is that since this is likely a use case of less interest than those that were specifically developed/tailored from interviews with course \"alum\" or more relevant examples, this should be a lower priority. "
   ]
  },
  {
   "cell_type": "markdown",
   "metadata": {},
   "source": [
    "#### **Assessment/Student Use**\n",
    "*Need to better outline theoretical assessments for students based on the goals above* "
   ]
  },
  {
   "cell_type": "markdown",
   "metadata": {},
   "source": [
    "### Set Up "
   ]
  },
  {
   "cell_type": "code",
   "execution_count": 1,
   "metadata": {},
   "outputs": [],
   "source": [
    "import scipy as sci\n",
    "import numpy as np\n",
    "import pandas as pd\n",
    "np.random.seed(1892)"
   ]
  },
  {
   "cell_type": "markdown",
   "metadata": {},
   "source": [
    "#### General Process\n",
    "   1. Compile simulated VA patient visit data set  \n",
    "   2. Sample some proportion of VA patients into CMS data set  \n",
    "   3. Reconfigure sample data to meet CMS data formatting  \n",
    "   4. Generate non-VA patients in CMS data set  \n",
    "   5. Develop prompt/problem\n",
    "   6. Work through example \"solution\" (although there are obviously infinite ways to present/comapre data)   "
   ]
  },
  {
   "cell_type": "markdown",
   "metadata": {},
   "source": [
    "## **1) Simulate VA Patient Data Set**\n",
    "### Generate Variables\n",
    "#### **ID's (Fake, Scrambled SSN's)**"
   ]
  },
  {
   "cell_type": "code",
   "execution_count": 2,
   "metadata": {},
   "outputs": [
    {
     "data": {
      "text/plain": [
       "array([609548877, 224736371, 601083249, 233862042])"
      ]
     },
     "metadata": {},
     "output_type": "display_data"
    },
    {
     "data": {
      "text/plain": [
       "808"
      ]
     },
     "metadata": {},
     "output_type": "display_data"
    }
   ],
   "source": [
    "#####\n",
    "# Need to fix this chunk, instead of generating the ids_num and then convering to strings, \n",
    "# I should randomly sample from the existing ID list, so that there is not any perfect overlap\n",
    "# of the \"VA enrolled\" and \"CMS enrolled\" patients\n",
    "\n",
    "# Changing my workflow to generate the VA data first, then to sample and generate additional CMS data\n",
    "#####\n",
    "ids_num = np.random.randint(111111111, 999999999, 808)\n",
    "\n",
    "\n",
    "# Generating ID's\n",
    "    # Modeled as fake, scrambled SSN's \n",
    "    # For complexity, including these as hyphenated strings in the VA data \n",
    "    # and integers in the medicare/medicaid data\n",
    "\n",
    "# ids_num=[]\n",
    "# ids_char=[]\n",
    "\n",
    "# for i in range(1,809):\n",
    "  #   x = np.random.randint(111111111, 999999999)\n",
    "  #   ids_num += [x]\n",
    "  #   ssn_r = str(x)[0:3] + '-' + str(x)[3:5] + \"-\" + str(x)[5:10]\n",
    "  #   ids_char += [ssn_r]\n",
    "\n",
    "    \n",
    "display(ids_num[0:4]) # Just a quick test\n",
    "display(len(ids_num))\n",
    "# display(ids_char[0:4]) # Just a quick test"
   ]
  },
  {
   "cell_type": "markdown",
   "metadata": {},
   "source": [
    "#### **Age**"
   ]
  },
  {
   "cell_type": "code",
   "execution_count": 3,
   "metadata": {},
   "outputs": [
    {
     "data": {
      "text/plain": [
       "808"
      ]
     },
     "metadata": {},
     "output_type": "display_data"
    },
    {
     "data": {
      "text/plain": [
       "(array([168.,  58.,  89.,  14.,  28.,  44.,  55.,  69., 107., 176.]),\n",
       " array([35. , 39.5, 44. , 48.5, 53. , 57.5, 62. , 66.5, 71. , 75.5, 80. ]),\n",
       " <a list of 10 Patch objects>)"
      ]
     },
     "metadata": {},
     "output_type": "display_data"
    }
   ],
   "source": [
    "import matplotlib.pyplot as pyplot\n",
    "age_va = [40 + np.random.beta(2.5, 0.8, size=505)*40]\n",
    "\n",
    "for i in range(506, 809):\n",
    "    age_va = np.append(age_va, 45 - np.random.beta(0.4, 0.37)*10)\n",
    "\n",
    "age_va = np.round(age_va, 0)\n",
    "\n",
    "display(len(age_va))\n",
    "display(pyplot.hist(age_va))"
   ]
  },
  {
   "cell_type": "markdown",
   "metadata": {},
   "source": [
    "#### **Height (cm)**\n",
    "For simplicity, we will simply sample a normal distribution using my quick Google of an average male height of 175 cm and a roughly narrow distribution with sd +/- 9 cm."
   ]
  },
  {
   "cell_type": "code",
   "execution_count": 4,
   "metadata": {},
   "outputs": [
    {
     "data": {
      "text/plain": [
       "147.58"
      ]
     },
     "metadata": {},
     "output_type": "display_data"
    },
    {
     "data": {
      "text/plain": [
       "207.17"
      ]
     },
     "metadata": {},
     "output_type": "display_data"
    },
    {
     "data": {
      "text/plain": [
       "(array([  7.,  30.,  81., 158., 197., 190., 105.,  32.,   5.,   3.]),\n",
       " array([147.58 , 153.539, 159.498, 165.457, 171.416, 177.375, 183.334,\n",
       "        189.293, 195.252, 201.211, 207.17 ]),\n",
       " <a list of 10 Patch objects>)"
      ]
     },
     "metadata": {},
     "output_type": "display_data"
    },
    {
     "data": {
      "image/png": "[encoded data removed]",
      "text/plain": [
       "<Figure size 432x288 with 1 Axes>"
      ]
     },
     "metadata": {
      "needs_background": "light"
     },
     "output_type": "display_data"
    }
   ],
   "source": [
    "height_va = np.round(np.random.normal(loc=175, scale=9, size=808), 2)\n",
    "\n",
    "display(height_va.min())\n",
    "display(height_va.max())\n",
    "display(pyplot.hist(height_va))"
   ]
  },
  {
   "cell_type": "markdown",
   "metadata": {},
   "source": [
    "#### **Weight (kg)**\n",
    "We will correlate weight to height with some small noise included. We will assume BMI should be roughly normally distributed of mean 31 and standard deviation of 2.8 [[loose reference for numbers I somewhat pulled from a hat]](https://dqydj.com/bmi-distribution-by-age-calculator-for-the-united-states/). As a result, we will randomly assign individuals a BMI, then back-calculate weight (and only keep the weight variable)."
   ]
  },
  {
   "cell_type": "code",
   "execution_count": 5,
   "metadata": {},
   "outputs": [
    {
     "data": {
      "text/plain": [
       "124.25125600000001"
      ]
     },
     "metadata": {},
     "output_type": "display_data"
    },
    {
     "data": {
      "text/plain": [
       "318.388332"
      ]
     },
     "metadata": {},
     "output_type": "display_data"
    }
   ],
   "source": [
    "weight_va = np.round(np.random.normal(31, 2.8, 808) * np.square((height_va/100)), 2)\n",
    "weight_va[1:100]\n",
    "\n",
    "display(weight_va.min()*2.2046)\n",
    "display(weight_va.max()*2.2046)"
   ]
  },
  {
   "cell_type": "markdown",
   "metadata": {},
   "source": [
    "#### **Medication**"
   ]
  },
  {
   "cell_type": "code",
   "execution_count": 6,
   "metadata": {},
   "outputs": [],
   "source": [
    "medication_va = ['foobar']*808"
   ]
  },
  {
   "cell_type": "markdown",
   "metadata": {},
   "source": [
    "#### **Medication Dose**"
   ]
  },
  {
   "cell_type": "code",
   "execution_count": 7,
   "metadata": {},
   "outputs": [],
   "source": [
    "med_dose_va = [8] * 808"
   ]
  },
  {
   "cell_type": "markdown",
   "metadata": {},
   "source": [
    "#### **Medication Dose Unit**"
   ]
  },
  {
   "cell_type": "code",
   "execution_count": 8,
   "metadata": {},
   "outputs": [],
   "source": [
    "dose_unit_va = ['mL/kg'] * 808"
   ]
  },
  {
   "cell_type": "markdown",
   "metadata": {},
   "source": [
    "#### **Visit Date**"
   ]
  },
  {
   "cell_type": "code",
   "execution_count": 9,
   "metadata": {},
   "outputs": [
    {
     "data": {
      "text/plain": [
       "['2018-10-28',\n",
       " '2019-10-18',\n",
       " '2019-06-08',\n",
       " '2018-08-09',\n",
       " '2019-03-15',\n",
       " '2019-01-20',\n",
       " '2019-10-20',\n",
       " '2019-03-09',\n",
       " '2019-12-02',\n",
       " '2019-03-05']"
      ]
     },
     "execution_count": 9,
     "metadata": {},
     "output_type": "execute_result"
    }
   ],
   "source": [
    "# Shamelessly taken and only marginally adapted from the second answer at\n",
    "# https://stackoverflow.com/questions/553303/generate-a-random-date-between-two-other-date\n",
    "\n",
    "#from datetime import timedelta\n",
    "from datetime import datetime\n",
    "from datetime import timedelta\n",
    "from random import randrange\n",
    "\n",
    "start = datetime.strptime('1/1/2018', '%m/%d/%Y')\n",
    "end = datetime.strptime('1/1/2020', '%m/%d/%Y')\n",
    "visit_date_va=[]\n",
    "\n",
    "for i in range(1,809):\n",
    "    delta = end - start\n",
    "    int_delta = (delta.days)\n",
    "    rand_days = randrange(int_delta)\n",
    "    x = start + timedelta(days=rand_days)\n",
    "    visit_date_va.append(str(x)[0:10])\n",
    "\n",
    "visit_date_va[0:10]"
   ]
  },
  {
   "cell_type": "markdown",
   "metadata": {},
   "source": [
    "#### Duration Value"
   ]
  },
  {
   "cell_type": "code",
   "execution_count": 10,
   "metadata": {},
   "outputs": [],
   "source": [
    "# Will simply be a mix of days (14-35), months (1-2), and weeks (3-8) \n",
    "# I have no idea how long a typical script would be for these things so this could change\n",
    "med_dur_va = np.random.choice( \\\n",
    "    np.concatenate([np.random.randint(1, 8, size=500), \\\n",
    "                    # randomly generating month, week values\n",
    "                    np.random.randint(14, 35, size=308)]), \\\n",
    "                               # randomly generating day values\n",
    "    size=808, replace=False) # np.choice resamples w/o replacement, effectively  rearranging the array\n"
   ]
  },
  {
   "cell_type": "markdown",
   "metadata": {},
   "source": [
    "#### Duration Unit"
   ]
  },
  {
   "cell_type": "code",
   "execution_count": 11,
   "metadata": {},
   "outputs": [
    {
     "name": "stderr",
     "output_type": "stream",
     "text": [
      "C:\\Users\\Dominic DiSanto\\Anaconda3\\lib\\site-packages\\pandas\\core\\indexing.py:205: SettingWithCopyWarning: \n",
      "A value is trying to be set on a copy of a slice from a DataFrame\n",
      "\n",
      "See the caveats in the documentation: http://pandas.pydata.org/pandas-docs/stable/user_guide/indexing.html#returning-a-view-versus-a-copy\n",
      "  self._setitem_with_indexer(indexer, value)\n"
     ]
    },
    {
     "data": {
      "text/html": [
       "<div>\n",
       "<style scoped>\n",
       "    .dataframe tbody tr th:only-of-type {\n",
       "        vertical-align: middle;\n",
       "    }\n",
       "\n",
       "    .dataframe tbody tr th {\n",
       "        vertical-align: top;\n",
       "    }\n",
       "\n",
       "    .dataframe thead th {\n",
       "        text-align: right;\n",
       "    }\n",
       "</style>\n",
       "<table border=\"1\" class=\"dataframe\">\n",
       "  <thead>\n",
       "    <tr style=\"text-align: right;\">\n",
       "      <th></th>\n",
       "      <th>Medication Duration</th>\n",
       "      <th>Duration Unit</th>\n",
       "    </tr>\n",
       "  </thead>\n",
       "  <tbody>\n",
       "    <tr>\n",
       "      <td>447</td>\n",
       "      <td>1</td>\n",
       "      <td>Week</td>\n",
       "    </tr>\n",
       "    <tr>\n",
       "      <td>523</td>\n",
       "      <td>1</td>\n",
       "      <td>Week</td>\n",
       "    </tr>\n",
       "    <tr>\n",
       "      <td>194</td>\n",
       "      <td>1</td>\n",
       "      <td>Week</td>\n",
       "    </tr>\n",
       "    <tr>\n",
       "      <td>105</td>\n",
       "      <td>1</td>\n",
       "      <td>Week</td>\n",
       "    </tr>\n",
       "    <tr>\n",
       "      <td>195</td>\n",
       "      <td>1</td>\n",
       "      <td>Week</td>\n",
       "    </tr>\n",
       "    <tr>\n",
       "      <td>...</td>\n",
       "      <td>...</td>\n",
       "      <td>...</td>\n",
       "    </tr>\n",
       "    <tr>\n",
       "      <td>595</td>\n",
       "      <td>34</td>\n",
       "      <td>Day</td>\n",
       "    </tr>\n",
       "    <tr>\n",
       "      <td>212</td>\n",
       "      <td>34</td>\n",
       "      <td>Day</td>\n",
       "    </tr>\n",
       "    <tr>\n",
       "      <td>64</td>\n",
       "      <td>34</td>\n",
       "      <td>Day</td>\n",
       "    </tr>\n",
       "    <tr>\n",
       "      <td>294</td>\n",
       "      <td>34</td>\n",
       "      <td>Day</td>\n",
       "    </tr>\n",
       "    <tr>\n",
       "      <td>211</td>\n",
       "      <td>34</td>\n",
       "      <td>Day</td>\n",
       "    </tr>\n",
       "  </tbody>\n",
       "</table>\n",
       "<p>808 rows × 2 columns</p>\n",
       "</div>"
      ],
      "text/plain": [
       "     Medication Duration Duration Unit\n",
       "447                    1          Week\n",
       "523                    1          Week\n",
       "194                    1          Week\n",
       "105                    1          Week\n",
       "195                    1          Week\n",
       "..                   ...           ...\n",
       "595                   34           Day\n",
       "212                   34           Day\n",
       "64                    34           Day\n",
       "294                   34           Day\n",
       "211                   34           Day\n",
       "\n",
       "[808 rows x 2 columns]"
      ]
     },
     "execution_count": 11,
     "metadata": {},
     "output_type": "execute_result"
    }
   ],
   "source": [
    "# Duration unit will depend upon the value, not a lot of variability here\n",
    "# values of 30+ will be days\n",
    "# values of 1, 2 can be months or weeks \n",
    "# values of 4-8 will be weeks\n",
    "\n",
    "med_data_va = pd.DataFrame(data=med_dur_va, columns=['Medication Duration'])\n",
    "med_data_va['Duration Unit'] = ''\n",
    "\n",
    "for i in range(0, med_data_va.shape[0]):\n",
    "    med_data_va['Duration Unit'].iloc[i] = str(np.where( \\\n",
    "        med_data_va['Medication Duration'].iloc[i]<=4, str(np.random.choice(['Month', 'Week'], \\\n",
    "            p=[0.4, 0.6])), \\\n",
    "    np.where(med_data_va['Medication Duration'].iloc[i]<10, 'Week', 'Day')))\n",
    "\n",
    "med_data_va.sort_values('Medication Duration')"
   ]
  },
  {
   "cell_type": "markdown",
   "metadata": {},
   "source": [
    "### Creating VA Data Frame"
   ]
  },
  {
   "cell_type": "code",
   "execution_count": 12,
   "metadata": {},
   "outputs": [],
   "source": [
    "VA_data = pd.DataFrame({\n",
    "    'Patient ID': ids_num, \n",
    "    'Visit Date': visit_date_va,\n",
    "    'Age': age_va,\n",
    "    'Height': height_va,\n",
    "    'Weight': weight_va,\n",
    "    'Medication': medication_va,\n",
    "    'Medication Dose': med_dose_va,\n",
    "    'Medication Dose Unit': dose_unit_va,\n",
    "    'Medication Duration Value': med_data_va['Medication Duration'],\n",
    "    'Medication Duration Unit': med_data_va['Duration Unit']            \n",
    "})"
   ]
  },
  {
   "cell_type": "code",
   "execution_count": 13,
   "metadata": {},
   "outputs": [
    {
     "data": {
      "text/html": [
       "<div>\n",
       "<style scoped>\n",
       "    .dataframe tbody tr th:only-of-type {\n",
       "        vertical-align: middle;\n",
       "    }\n",
       "\n",
       "    .dataframe tbody tr th {\n",
       "        vertical-align: top;\n",
       "    }\n",
       "\n",
       "    .dataframe thead th {\n",
       "        text-align: right;\n",
       "    }\n",
       "</style>\n",
       "<table border=\"1\" class=\"dataframe\">\n",
       "  <thead>\n",
       "    <tr style=\"text-align: right;\">\n",
       "      <th></th>\n",
       "      <th>Patient ID</th>\n",
       "      <th>Visit Date</th>\n",
       "      <th>Age</th>\n",
       "      <th>Height</th>\n",
       "      <th>Weight</th>\n",
       "      <th>Medication</th>\n",
       "      <th>Medication Dose</th>\n",
       "      <th>Medication Dose Unit</th>\n",
       "      <th>Medication Duration Value</th>\n",
       "      <th>Medication Duration Unit</th>\n",
       "    </tr>\n",
       "  </thead>\n",
       "  <tbody>\n",
       "    <tr>\n",
       "      <td>373</td>\n",
       "      <td>660173633</td>\n",
       "      <td>2018-07-30</td>\n",
       "      <td>55.0</td>\n",
       "      <td>172.11</td>\n",
       "      <td>101.72</td>\n",
       "      <td>foobar</td>\n",
       "      <td>8</td>\n",
       "      <td>mL/kg</td>\n",
       "      <td>3</td>\n",
       "      <td>Week</td>\n",
       "    </tr>\n",
       "    <tr>\n",
       "      <td>219</td>\n",
       "      <td>939170746</td>\n",
       "      <td>2019-03-16</td>\n",
       "      <td>79.0</td>\n",
       "      <td>175.77</td>\n",
       "      <td>90.80</td>\n",
       "      <td>foobar</td>\n",
       "      <td>8</td>\n",
       "      <td>mL/kg</td>\n",
       "      <td>28</td>\n",
       "      <td>Day</td>\n",
       "    </tr>\n",
       "    <tr>\n",
       "      <td>572</td>\n",
       "      <td>127377741</td>\n",
       "      <td>2018-03-26</td>\n",
       "      <td>38.0</td>\n",
       "      <td>181.60</td>\n",
       "      <td>97.91</td>\n",
       "      <td>foobar</td>\n",
       "      <td>8</td>\n",
       "      <td>mL/kg</td>\n",
       "      <td>4</td>\n",
       "      <td>Week</td>\n",
       "    </tr>\n",
       "    <tr>\n",
       "      <td>251</td>\n",
       "      <td>113152127</td>\n",
       "      <td>2018-08-15</td>\n",
       "      <td>70.0</td>\n",
       "      <td>179.01</td>\n",
       "      <td>114.83</td>\n",
       "      <td>foobar</td>\n",
       "      <td>8</td>\n",
       "      <td>mL/kg</td>\n",
       "      <td>32</td>\n",
       "      <td>Day</td>\n",
       "    </tr>\n",
       "    <tr>\n",
       "      <td>643</td>\n",
       "      <td>749051669</td>\n",
       "      <td>2019-02-11</td>\n",
       "      <td>45.0</td>\n",
       "      <td>162.26</td>\n",
       "      <td>80.88</td>\n",
       "      <td>foobar</td>\n",
       "      <td>8</td>\n",
       "      <td>mL/kg</td>\n",
       "      <td>3</td>\n",
       "      <td>Week</td>\n",
       "    </tr>\n",
       "  </tbody>\n",
       "</table>\n",
       "</div>"
      ],
      "text/plain": [
       "     Patient ID  Visit Date   Age  Height  Weight Medication  Medication Dose  \\\n",
       "373   660173633  2018-07-30  55.0  172.11  101.72     foobar                8   \n",
       "219   939170746  2019-03-16  79.0  175.77   90.80     foobar                8   \n",
       "572   127377741  2018-03-26  38.0  181.60   97.91     foobar                8   \n",
       "251   113152127  2018-08-15  70.0  179.01  114.83     foobar                8   \n",
       "643   749051669  2019-02-11  45.0  162.26   80.88     foobar                8   \n",
       "\n",
       "    Medication Dose Unit  Medication Duration Value Medication Duration Unit  \n",
       "373                mL/kg                          3                     Week  \n",
       "219                mL/kg                         28                      Day  \n",
       "572                mL/kg                          4                     Week  \n",
       "251                mL/kg                         32                      Day  \n",
       "643                mL/kg                          3                     Week  "
      ]
     },
     "execution_count": 13,
     "metadata": {},
     "output_type": "execute_result"
    }
   ],
   "source": [
    "VA_data.sample(5)"
   ]
  },
  {
   "cell_type": "markdown",
   "metadata": {},
   "source": [
    "## **2. Sample some proportion of VA patients into CMS data set**\n",
    "I will start by sampling a subset of rows from the VA data as our \"dual-enrolled\" patients (I chose 384 on a whim and as a roughly near-50/50 split, seems like a nice number idk). I'll then add new CMS style variables to this data frame, and finally retain only the CMS variables.\n",
    "\n",
    "> Appending the new variables to the data frame will allow me to check-as-I-go to ensure I create the variables I'm intending to create. Then in a final step, I will simply keep only the CMS variables identified by a \"*(CMS)*\" suffix. "
   ]
  },
  {
   "cell_type": "code",
   "execution_count": 14,
   "metadata": {},
   "outputs": [
    {
     "data": {
      "text/html": [
       "<div>\n",
       "<style scoped>\n",
       "    .dataframe tbody tr th:only-of-type {\n",
       "        vertical-align: middle;\n",
       "    }\n",
       "\n",
       "    .dataframe tbody tr th {\n",
       "        vertical-align: top;\n",
       "    }\n",
       "\n",
       "    .dataframe thead th {\n",
       "        text-align: right;\n",
       "    }\n",
       "</style>\n",
       "<table border=\"1\" class=\"dataframe\">\n",
       "  <thead>\n",
       "    <tr style=\"text-align: right;\">\n",
       "      <th></th>\n",
       "      <th>index</th>\n",
       "      <th>Patient ID</th>\n",
       "      <th>Visit Date</th>\n",
       "      <th>Age</th>\n",
       "      <th>Height</th>\n",
       "      <th>Weight</th>\n",
       "      <th>Medication</th>\n",
       "      <th>Medication Dose</th>\n",
       "      <th>Medication Dose Unit</th>\n",
       "      <th>Medication Duration Value</th>\n",
       "      <th>Medication Duration Unit</th>\n",
       "    </tr>\n",
       "  </thead>\n",
       "  <tbody>\n",
       "    <tr>\n",
       "      <td>0</td>\n",
       "      <td>73</td>\n",
       "      <td>297209817</td>\n",
       "      <td>2019-09-05</td>\n",
       "      <td>74.0</td>\n",
       "      <td>191.33</td>\n",
       "      <td>114.89</td>\n",
       "      <td>foobar</td>\n",
       "      <td>8</td>\n",
       "      <td>mL/kg</td>\n",
       "      <td>6</td>\n",
       "      <td>Week</td>\n",
       "    </tr>\n",
       "    <tr>\n",
       "      <td>1</td>\n",
       "      <td>707</td>\n",
       "      <td>188483541</td>\n",
       "      <td>2018-01-28</td>\n",
       "      <td>44.0</td>\n",
       "      <td>176.16</td>\n",
       "      <td>92.24</td>\n",
       "      <td>foobar</td>\n",
       "      <td>8</td>\n",
       "      <td>mL/kg</td>\n",
       "      <td>7</td>\n",
       "      <td>Week</td>\n",
       "    </tr>\n",
       "    <tr>\n",
       "      <td>2</td>\n",
       "      <td>728</td>\n",
       "      <td>653054327</td>\n",
       "      <td>2019-01-18</td>\n",
       "      <td>44.0</td>\n",
       "      <td>160.71</td>\n",
       "      <td>85.48</td>\n",
       "      <td>foobar</td>\n",
       "      <td>8</td>\n",
       "      <td>mL/kg</td>\n",
       "      <td>5</td>\n",
       "      <td>Week</td>\n",
       "    </tr>\n",
       "    <tr>\n",
       "      <td>3</td>\n",
       "      <td>162</td>\n",
       "      <td>547915161</td>\n",
       "      <td>2019-04-15</td>\n",
       "      <td>68.0</td>\n",
       "      <td>173.48</td>\n",
       "      <td>94.27</td>\n",
       "      <td>foobar</td>\n",
       "      <td>8</td>\n",
       "      <td>mL/kg</td>\n",
       "      <td>22</td>\n",
       "      <td>Day</td>\n",
       "    </tr>\n",
       "  </tbody>\n",
       "</table>\n",
       "</div>"
      ],
      "text/plain": [
       "   index  Patient ID  Visit Date   Age  Height  Weight Medication  \\\n",
       "0     73   297209817  2019-09-05  74.0  191.33  114.89     foobar   \n",
       "1    707   188483541  2018-01-28  44.0  176.16   92.24     foobar   \n",
       "2    728   653054327  2019-01-18  44.0  160.71   85.48     foobar   \n",
       "3    162   547915161  2019-04-15  68.0  173.48   94.27     foobar   \n",
       "\n",
       "   Medication Dose Medication Dose Unit  Medication Duration Value  \\\n",
       "0                8                mL/kg                          6   \n",
       "1                8                mL/kg                          7   \n",
       "2                8                mL/kg                          5   \n",
       "3                8                mL/kg                         22   \n",
       "\n",
       "  Medication Duration Unit  \n",
       "0                     Week  \n",
       "1                     Week  \n",
       "2                     Week  \n",
       "3                      Day  "
      ]
     },
     "execution_count": 14,
     "metadata": {},
     "output_type": "execute_result"
    }
   ],
   "source": [
    "CMS_VA_dual_pats = VA_data.sample(384).reset_index(drop=False) # keeping \n",
    "CMS_VA_dual_pats.head(4)"
   ]
  },
  {
   "cell_type": "markdown",
   "metadata": {},
   "source": [
    "## **3. Reconfigure sample data to meet CMS data formatting**\n",
    "Age will remain the same. Changes made to all other variables will be identified in each variable's respective section."
   ]
  },
  {
   "cell_type": "markdown",
   "metadata": {},
   "source": [
    "#### Patient ID \n",
    "Currently an integer, I will add in the hyphen's (\"-\") to represent the SSN structure of the ID variable, and to require students to work with substring or string replace and casting data types. "
   ]
  },
  {
   "cell_type": "code",
   "execution_count": 15,
   "metadata": {},
   "outputs": [
    {
     "data": {
      "text/html": [
       "<div>\n",
       "<style scoped>\n",
       "    .dataframe tbody tr th:only-of-type {\n",
       "        vertical-align: middle;\n",
       "    }\n",
       "\n",
       "    .dataframe tbody tr th {\n",
       "        vertical-align: top;\n",
       "    }\n",
       "\n",
       "    .dataframe thead th {\n",
       "        text-align: right;\n",
       "    }\n",
       "</style>\n",
       "<table border=\"1\" class=\"dataframe\">\n",
       "  <thead>\n",
       "    <tr style=\"text-align: right;\">\n",
       "      <th></th>\n",
       "      <th>Patient ID</th>\n",
       "      <th>Patient ID (CMS)</th>\n",
       "    </tr>\n",
       "  </thead>\n",
       "  <tbody>\n",
       "    <tr>\n",
       "      <td>70</td>\n",
       "      <td>135223302</td>\n",
       "      <td>135-22-3302</td>\n",
       "    </tr>\n",
       "    <tr>\n",
       "      <td>330</td>\n",
       "      <td>363166616</td>\n",
       "      <td>363-16-6616</td>\n",
       "    </tr>\n",
       "    <tr>\n",
       "      <td>35</td>\n",
       "      <td>258262231</td>\n",
       "      <td>258-26-2231</td>\n",
       "    </tr>\n",
       "    <tr>\n",
       "      <td>170</td>\n",
       "      <td>441551515</td>\n",
       "      <td>441-55-1515</td>\n",
       "    </tr>\n",
       "    <tr>\n",
       "      <td>169</td>\n",
       "      <td>952770365</td>\n",
       "      <td>952-77-0365</td>\n",
       "    </tr>\n",
       "    <tr>\n",
       "      <td>358</td>\n",
       "      <td>245904972</td>\n",
       "      <td>245-90-4972</td>\n",
       "    </tr>\n",
       "  </tbody>\n",
       "</table>\n",
       "</div>"
      ],
      "text/plain": [
       "     Patient ID Patient ID (CMS)\n",
       "70    135223302      135-22-3302\n",
       "330   363166616      363-16-6616\n",
       "35    258262231      258-26-2231\n",
       "170   441551515      441-55-1515\n",
       "169   952770365      952-77-0365\n",
       "358   245904972      245-90-4972"
      ]
     },
     "execution_count": 15,
     "metadata": {},
     "output_type": "execute_result"
    }
   ],
   "source": [
    "CMS_VA_dual_pats['Patient ID (CMS)'] = ''\n",
    "for i in range(0,CMS_VA_dual_pats.shape[0]):\n",
    "    x = str(CMS_VA_dual_pats.loc[i, 'Patient ID'])\n",
    "    ssn_r = x[0:3] + '-' + x[3:5] + \"-\" + x[5:10]\n",
    "    CMS_VA_dual_pats.loc[i, 'Patient ID (CMS)'] = [ssn_r]\n",
    "    \n",
    "CMS_VA_dual_pats[['Patient ID', 'Patient ID (CMS)']].sample(6)"
   ]
  },
  {
   "cell_type": "markdown",
   "metadata": {},
   "source": [
    "#### Height\n",
    "Convering cm to inches (~0.3937 inches per cm)"
   ]
  },
  {
   "cell_type": "code",
   "execution_count": 16,
   "metadata": {},
   "outputs": [
    {
     "data": {
      "text/html": [
       "<div>\n",
       "<style scoped>\n",
       "    .dataframe tbody tr th:only-of-type {\n",
       "        vertical-align: middle;\n",
       "    }\n",
       "\n",
       "    .dataframe tbody tr th {\n",
       "        vertical-align: top;\n",
       "    }\n",
       "\n",
       "    .dataframe thead th {\n",
       "        text-align: right;\n",
       "    }\n",
       "</style>\n",
       "<table border=\"1\" class=\"dataframe\">\n",
       "  <thead>\n",
       "    <tr style=\"text-align: right;\">\n",
       "      <th></th>\n",
       "      <th>Height</th>\n",
       "      <th>Height (CMS)</th>\n",
       "    </tr>\n",
       "  </thead>\n",
       "  <tbody>\n",
       "    <tr>\n",
       "      <td>360</td>\n",
       "      <td>170.78</td>\n",
       "      <td>67.24</td>\n",
       "    </tr>\n",
       "    <tr>\n",
       "      <td>320</td>\n",
       "      <td>158.68</td>\n",
       "      <td>62.47</td>\n",
       "    </tr>\n",
       "    <tr>\n",
       "      <td>242</td>\n",
       "      <td>164.85</td>\n",
       "      <td>64.90</td>\n",
       "    </tr>\n",
       "    <tr>\n",
       "      <td>119</td>\n",
       "      <td>167.65</td>\n",
       "      <td>66.00</td>\n",
       "    </tr>\n",
       "    <tr>\n",
       "      <td>292</td>\n",
       "      <td>177.80</td>\n",
       "      <td>70.00</td>\n",
       "    </tr>\n",
       "    <tr>\n",
       "      <td>65</td>\n",
       "      <td>184.53</td>\n",
       "      <td>72.65</td>\n",
       "    </tr>\n",
       "  </tbody>\n",
       "</table>\n",
       "</div>"
      ],
      "text/plain": [
       "     Height  Height (CMS)\n",
       "360  170.78         67.24\n",
       "320  158.68         62.47\n",
       "242  164.85         64.90\n",
       "119  167.65         66.00\n",
       "292  177.80         70.00\n",
       "65   184.53         72.65"
      ]
     },
     "execution_count": 16,
     "metadata": {},
     "output_type": "execute_result"
    }
   ],
   "source": [
    "CMS_VA_dual_pats['Height (CMS)'] = round(CMS_VA_dual_pats['Height'] * 0.3937, 2)\n",
    "CMS_VA_dual_pats[['Height','Height (CMS)']].sample(6)"
   ]
  },
  {
   "cell_type": "markdown",
   "metadata": {},
   "source": [
    "#### Weight\n",
    "Converting kg to lbs (~2.24 lbs per kg) "
   ]
  },
  {
   "cell_type": "code",
   "execution_count": 17,
   "metadata": {},
   "outputs": [
    {
     "data": {
      "text/html": [
       "<div>\n",
       "<style scoped>\n",
       "    .dataframe tbody tr th:only-of-type {\n",
       "        vertical-align: middle;\n",
       "    }\n",
       "\n",
       "    .dataframe tbody tr th {\n",
       "        vertical-align: top;\n",
       "    }\n",
       "\n",
       "    .dataframe thead th {\n",
       "        text-align: right;\n",
       "    }\n",
       "</style>\n",
       "<table border=\"1\" class=\"dataframe\">\n",
       "  <thead>\n",
       "    <tr style=\"text-align: right;\">\n",
       "      <th></th>\n",
       "      <th>Weight</th>\n",
       "      <th>Weight (CMS)</th>\n",
       "    </tr>\n",
       "  </thead>\n",
       "  <tbody>\n",
       "    <tr>\n",
       "      <td>179</td>\n",
       "      <td>73.90</td>\n",
       "      <td>165.54</td>\n",
       "    </tr>\n",
       "    <tr>\n",
       "      <td>380</td>\n",
       "      <td>102.08</td>\n",
       "      <td>228.66</td>\n",
       "    </tr>\n",
       "    <tr>\n",
       "      <td>258</td>\n",
       "      <td>103.04</td>\n",
       "      <td>230.81</td>\n",
       "    </tr>\n",
       "    <tr>\n",
       "      <td>322</td>\n",
       "      <td>90.56</td>\n",
       "      <td>202.85</td>\n",
       "    </tr>\n",
       "    <tr>\n",
       "      <td>220</td>\n",
       "      <td>91.86</td>\n",
       "      <td>205.77</td>\n",
       "    </tr>\n",
       "    <tr>\n",
       "      <td>344</td>\n",
       "      <td>65.87</td>\n",
       "      <td>147.55</td>\n",
       "    </tr>\n",
       "  </tbody>\n",
       "</table>\n",
       "</div>"
      ],
      "text/plain": [
       "     Weight  Weight (CMS)\n",
       "179   73.90        165.54\n",
       "380  102.08        228.66\n",
       "258  103.04        230.81\n",
       "322   90.56        202.85\n",
       "220   91.86        205.77\n",
       "344   65.87        147.55"
      ]
     },
     "execution_count": 17,
     "metadata": {},
     "output_type": "execute_result"
    }
   ],
   "source": [
    "CMS_VA_dual_pats['Weight (CMS)'] = round(CMS_VA_dual_pats['Weight'] * 2.24, 2)\n",
    "CMS_VA_dual_pats[['Weight','Weight (CMS)']].sample(6)"
   ]
  },
  {
   "cell_type": "markdown",
   "metadata": {},
   "source": [
    "#### Medication "
   ]
  },
  {
   "cell_type": "code",
   "execution_count": 18,
   "metadata": {},
   "outputs": [
    {
     "data": {
      "text/html": [
       "<div>\n",
       "<style scoped>\n",
       "    .dataframe tbody tr th:only-of-type {\n",
       "        vertical-align: middle;\n",
       "    }\n",
       "\n",
       "    .dataframe tbody tr th {\n",
       "        vertical-align: top;\n",
       "    }\n",
       "\n",
       "    .dataframe thead th {\n",
       "        text-align: right;\n",
       "    }\n",
       "</style>\n",
       "<table border=\"1\" class=\"dataframe\">\n",
       "  <thead>\n",
       "    <tr style=\"text-align: right;\">\n",
       "      <th></th>\n",
       "      <th>Medication</th>\n",
       "      <th>Medication (CMS)</th>\n",
       "    </tr>\n",
       "  </thead>\n",
       "  <tbody>\n",
       "    <tr>\n",
       "      <td>324</td>\n",
       "      <td>foobar</td>\n",
       "      <td>foobar</td>\n",
       "    </tr>\n",
       "    <tr>\n",
       "      <td>157</td>\n",
       "      <td>foobar</td>\n",
       "      <td>foobar</td>\n",
       "    </tr>\n",
       "    <tr>\n",
       "      <td>315</td>\n",
       "      <td>foobar</td>\n",
       "      <td>foobar</td>\n",
       "    </tr>\n",
       "    <tr>\n",
       "      <td>3</td>\n",
       "      <td>foobar</td>\n",
       "      <td>foobar</td>\n",
       "    </tr>\n",
       "    <tr>\n",
       "      <td>279</td>\n",
       "      <td>foobar</td>\n",
       "      <td>foobar</td>\n",
       "    </tr>\n",
       "  </tbody>\n",
       "</table>\n",
       "</div>"
      ],
      "text/plain": [
       "    Medication Medication (CMS)\n",
       "324     foobar           foobar\n",
       "157     foobar           foobar\n",
       "315     foobar           foobar\n",
       "3       foobar           foobar\n",
       "279     foobar           foobar"
      ]
     },
     "execution_count": 18,
     "metadata": {},
     "output_type": "execute_result"
    }
   ],
   "source": [
    "CMS_VA_dual_pats['Medication (CMS)'] = CMS_VA_dual_pats['Medication']\n",
    "CMS_VA_dual_pats[['Medication','Medication (CMS)']].sample(5)"
   ]
  },
  {
   "cell_type": "markdown",
   "metadata": {},
   "source": [
    "#### Medication Dose (Dose and Dose Unit) "
   ]
  },
  {
   "cell_type": "code",
   "execution_count": 19,
   "metadata": {},
   "outputs": [
    {
     "data": {
      "text/html": [
       "<div>\n",
       "<style scoped>\n",
       "    .dataframe tbody tr th:only-of-type {\n",
       "        vertical-align: middle;\n",
       "    }\n",
       "\n",
       "    .dataframe tbody tr th {\n",
       "        vertical-align: top;\n",
       "    }\n",
       "\n",
       "    .dataframe thead th {\n",
       "        text-align: right;\n",
       "    }\n",
       "</style>\n",
       "<table border=\"1\" class=\"dataframe\">\n",
       "  <thead>\n",
       "    <tr style=\"text-align: right;\">\n",
       "      <th></th>\n",
       "      <th>Medication Dose</th>\n",
       "      <th>Medication Dose (CMS)</th>\n",
       "      <th>Medication Dose Unit</th>\n",
       "      <th>Medication Dose Unit (CMS)</th>\n",
       "    </tr>\n",
       "  </thead>\n",
       "  <tbody>\n",
       "    <tr>\n",
       "      <td>69</td>\n",
       "      <td>8</td>\n",
       "      <td>8</td>\n",
       "      <td>mL/kg</td>\n",
       "      <td>mL/kg</td>\n",
       "    </tr>\n",
       "    <tr>\n",
       "      <td>83</td>\n",
       "      <td>8</td>\n",
       "      <td>8</td>\n",
       "      <td>mL/kg</td>\n",
       "      <td>mL/kg</td>\n",
       "    </tr>\n",
       "    <tr>\n",
       "      <td>167</td>\n",
       "      <td>8</td>\n",
       "      <td>8</td>\n",
       "      <td>mL/kg</td>\n",
       "      <td>mL/kg</td>\n",
       "    </tr>\n",
       "    <tr>\n",
       "      <td>151</td>\n",
       "      <td>8</td>\n",
       "      <td>8</td>\n",
       "      <td>mL/kg</td>\n",
       "      <td>mL/kg</td>\n",
       "    </tr>\n",
       "    <tr>\n",
       "      <td>336</td>\n",
       "      <td>8</td>\n",
       "      <td>8</td>\n",
       "      <td>mL/kg</td>\n",
       "      <td>mL/kg</td>\n",
       "    </tr>\n",
       "  </tbody>\n",
       "</table>\n",
       "</div>"
      ],
      "text/plain": [
       "     Medication Dose  Medication Dose (CMS) Medication Dose Unit  \\\n",
       "69                 8                      8                mL/kg   \n",
       "83                 8                      8                mL/kg   \n",
       "167                8                      8                mL/kg   \n",
       "151                8                      8                mL/kg   \n",
       "336                8                      8                mL/kg   \n",
       "\n",
       "    Medication Dose Unit (CMS)  \n",
       "69                       mL/kg  \n",
       "83                       mL/kg  \n",
       "167                      mL/kg  \n",
       "151                      mL/kg  \n",
       "336                      mL/kg  "
      ]
     },
     "execution_count": 19,
     "metadata": {},
     "output_type": "execute_result"
    }
   ],
   "source": [
    "CMS_VA_dual_pats['Medication Dose (CMS)'] = CMS_VA_dual_pats['Medication Dose']\n",
    "CMS_VA_dual_pats['Medication Dose Unit (CMS)'] = CMS_VA_dual_pats['Medication Dose Unit']\n",
    "CMS_VA_dual_pats[['Medication Dose','Medication Dose (CMS)', 'Medication Dose Unit', \\\n",
    "                  'Medication Dose Unit (CMS)']].sample(5)"
   ]
  },
  {
   "cell_type": "markdown",
   "metadata": {},
   "source": [
    "#### Medication Duration (Value & Unit)  "
   ]
  },
  {
   "cell_type": "code",
   "execution_count": 20,
   "metadata": {},
   "outputs": [
    {
     "data": {
      "text/html": [
       "<div>\n",
       "<style scoped>\n",
       "    .dataframe tbody tr th:only-of-type {\n",
       "        vertical-align: middle;\n",
       "    }\n",
       "\n",
       "    .dataframe tbody tr th {\n",
       "        vertical-align: top;\n",
       "    }\n",
       "\n",
       "    .dataframe thead th {\n",
       "        text-align: right;\n",
       "    }\n",
       "</style>\n",
       "<table border=\"1\" class=\"dataframe\">\n",
       "  <thead>\n",
       "    <tr style=\"text-align: right;\">\n",
       "      <th></th>\n",
       "      <th>Medication Duration Unit</th>\n",
       "      <th>Medication Duration Unit (CMS)</th>\n",
       "      <th>Medication Duration Value</th>\n",
       "      <th>Medication Duration Value (CMS)</th>\n",
       "    </tr>\n",
       "  </thead>\n",
       "  <tbody>\n",
       "    <tr>\n",
       "      <td>318</td>\n",
       "      <td>Week</td>\n",
       "      <td>Week</td>\n",
       "      <td>6</td>\n",
       "      <td>6</td>\n",
       "    </tr>\n",
       "    <tr>\n",
       "      <td>276</td>\n",
       "      <td>Day</td>\n",
       "      <td>Day</td>\n",
       "      <td>20</td>\n",
       "      <td>20</td>\n",
       "    </tr>\n",
       "    <tr>\n",
       "      <td>131</td>\n",
       "      <td>Week</td>\n",
       "      <td>Week</td>\n",
       "      <td>2</td>\n",
       "      <td>2</td>\n",
       "    </tr>\n",
       "    <tr>\n",
       "      <td>165</td>\n",
       "      <td>Day</td>\n",
       "      <td>Day</td>\n",
       "      <td>23</td>\n",
       "      <td>23</td>\n",
       "    </tr>\n",
       "  </tbody>\n",
       "</table>\n",
       "</div>"
      ],
      "text/plain": [
       "    Medication Duration Unit Medication Duration Unit (CMS)  \\\n",
       "318                     Week                           Week   \n",
       "276                      Day                            Day   \n",
       "131                     Week                           Week   \n",
       "165                      Day                            Day   \n",
       "\n",
       "     Medication Duration Value  Medication Duration Value (CMS)  \n",
       "318                          6                                6  \n",
       "276                         20                               20  \n",
       "131                          2                                2  \n",
       "165                         23                               23  "
      ]
     },
     "execution_count": 20,
     "metadata": {},
     "output_type": "execute_result"
    }
   ],
   "source": [
    "CMS_VA_dual_pats['Medication Duration Value (CMS)'] = CMS_VA_dual_pats['Medication Duration Value']\n",
    "CMS_VA_dual_pats['Medication Duration Unit (CMS)'] = CMS_VA_dual_pats['Medication Duration Unit']\n",
    "\n",
    "CMS_VA_dual_pats[['Medication Duration Unit', 'Medication Duration Unit (CMS)', \\\n",
    "                 'Medication Duration Value', 'Medication Duration Value (CMS)']].sample(4)"
   ]
  },
  {
   "cell_type": "markdown",
   "metadata": {},
   "source": [
    "#### Visit Date"
   ]
  },
  {
   "cell_type": "code",
   "execution_count": 25,
   "metadata": {},
   "outputs": [
    {
     "data": {
      "text/plain": [
       "['index',\n",
       " 'Patient ID',\n",
       " 'Visit Date',\n",
       " 'Age',\n",
       " 'Height',\n",
       " 'Weight',\n",
       " 'Medication',\n",
       " 'Medication Dose',\n",
       " 'Medication Dose Unit',\n",
       " 'Medication Duration Value',\n",
       " 'Medication Duration Unit']"
      ]
     },
     "execution_count": 25,
     "metadata": {},
     "output_type": "execute_result"
    }
   ],
   "source": [
    "test=[]\n",
    "for i in CMS_VA_dual_pats.columns:\n",
    "    if 'CMS' in i:\n",
    "        test.append(i) \n",
    "test"
   ]
  },
  {
   "cell_type": "code",
   "execution_count": null,
   "metadata": {},
   "outputs": [],
   "source": []
  }
 ],
 "metadata": {
  "kernelspec": {
   "display_name": "Python 3",
   "language": "python",
   "name": "python3"
  },
  "language_info": {
   "codemirror_mode": {
    "name": "ipython",
    "version": 3
   },
   "file_extension": ".py",
   "mimetype": "text/x-python",
   "name": "python",
   "nbconvert_exporter": "python",
   "pygments_lexer": "ipython3",
   "version": "3.7.4"
  }
 },
 "nbformat": 4,
 "nbformat_minor": 2
}
