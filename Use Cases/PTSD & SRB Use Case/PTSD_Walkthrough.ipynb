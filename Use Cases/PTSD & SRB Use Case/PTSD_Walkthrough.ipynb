{
 "cells": [
  {
   "cell_type": "markdown",
   "metadata": {},
   "source": [
    "## PTSD & Suicidality/Suicidal Ideation Use Case\n",
    "## Proposed Walkthrough/\"Solution\"\n",
    "#### Written: 10/12/2020\n",
    "#### Updated: 11/10/2020\n",
    "\n",
    "### Introduction\n",
    "The below document includes code and descriptive text evaluating the use case assessment *title here*. Full materials for this use case can be found on the [Python OER GitHub Repository](https://github.com/domdisanto/Python_OER/tree/master/Use%20Cases/PTSD%20%26%20SRB%20Use%20Case). This walkthrough document is tentatively titled a \"solution\" as, while this document offers a specific way of cleaning and analyzing the available, this document certainly does not offer a unique (or even a uniquely-best) solution to the given assessment. \n",
    "\n",
    "The writing in this document will do its best to outline specific parameters that should be met to satisfactorically complete the assessment. These parameters, tasks, outputs, etc. exist solely to assess your developing skills as an analyst and Python programmer. That being said, if you take different steps or follow a different analytic method to reach the same results, that is perfectly acceptable! This walk through is intended only to be *a* demonstrated workflow, but it is possible (and even likely) that you may write more efficient, simpler, or more scalable code than what is included here that achieves the same results! "
   ]
  },
  {
   "cell_type": "markdown",
   "metadata": {},
   "source": [
    "### (0) Importing modules to be used"
   ]
  },
  {
   "cell_type": "code",
   "execution_count": 1,
   "metadata": {},
   "outputs": [],
   "source": [
    "# Importing some of our modules\n",
    "import pandas as pd \n",
    "import numpy as np\n",
    "import matplotlib.pyplot as plt "
   ]
  },
  {
   "cell_type": "markdown",
   "metadata": {},
   "source": [
    "### (1) Identify research cohort\n",
    "\n",
    "We will first import the data, then we can very succinctly identify our research cohort of interest using `str.contains` for the ICDCodes of interest  "
   ]
  },
  {
   "cell_type": "code",
   "execution_count": 2,
   "metadata": {},
   "outputs": [
    {
     "data": {
      "text/html": [
       "<div>\n",
       "<style scoped>\n",
       "    .dataframe tbody tr th:only-of-type {\n",
       "        vertical-align: middle;\n",
       "    }\n",
       "\n",
       "    .dataframe tbody tr th {\n",
       "        vertical-align: top;\n",
       "    }\n",
       "\n",
       "    .dataframe thead th {\n",
       "        text-align: right;\n",
       "    }\n",
       "</style>\n",
       "<table border=\"1\" class=\"dataframe\">\n",
       "  <thead>\n",
       "    <tr style=\"text-align: right;\">\n",
       "      <th></th>\n",
       "      <th>PatientID</th>\n",
       "      <th>ICDCode</th>\n",
       "      <th>Age</th>\n",
       "    </tr>\n",
       "  </thead>\n",
       "  <tbody>\n",
       "    <tr>\n",
       "      <td>0</td>\n",
       "      <td>1</td>\n",
       "      <td>S82264S</td>\n",
       "      <td>31</td>\n",
       "    </tr>\n",
       "    <tr>\n",
       "      <td>1</td>\n",
       "      <td>1</td>\n",
       "      <td>P9681</td>\n",
       "      <td>31</td>\n",
       "    </tr>\n",
       "    <tr>\n",
       "      <td>2</td>\n",
       "      <td>1</td>\n",
       "      <td>S52261S</td>\n",
       "      <td>31</td>\n",
       "    </tr>\n",
       "    <tr>\n",
       "      <td>3</td>\n",
       "      <td>1</td>\n",
       "      <td>S72366S</td>\n",
       "      <td>31</td>\n",
       "    </tr>\n",
       "    <tr>\n",
       "      <td>4</td>\n",
       "      <td>1</td>\n",
       "      <td>W99XXXA</td>\n",
       "      <td>31</td>\n",
       "    </tr>\n",
       "  </tbody>\n",
       "</table>\n",
       "</div>"
      ],
      "text/plain": [
       "   PatientID  ICDCode  Age\n",
       "0          1  S82264S   31\n",
       "1          1    P9681   31\n",
       "2          1  S52261S   31\n",
       "3          1  S72366S   31\n",
       "4          1  W99XXXA   31"
      ]
     },
     "execution_count": 2,
     "metadata": {},
     "output_type": "execute_result"
    }
   ],
   "source": [
    "icd_cohort = pd.read_csv(\"PossiblePatients_ICD.csv\", index_col=0)\n",
    "icd_cohort.head()"
   ]
  },
  {
   "cell_type": "markdown",
   "metadata": {},
   "source": [
    "We will use the `str.contains` operator to examine ICD codes of interest. We are also only interested in adult patients, so we will subset to our age range of interest "
   ]
  },
  {
   "cell_type": "code",
   "execution_count": 3,
   "metadata": {},
   "outputs": [
    {
     "data": {
      "text/html": [
       "<div>\n",
       "<style scoped>\n",
       "    .dataframe tbody tr th:only-of-type {\n",
       "        vertical-align: middle;\n",
       "    }\n",
       "\n",
       "    .dataframe tbody tr th {\n",
       "        vertical-align: top;\n",
       "    }\n",
       "\n",
       "    .dataframe thead th {\n",
       "        text-align: right;\n",
       "    }\n",
       "</style>\n",
       "<table border=\"1\" class=\"dataframe\">\n",
       "  <thead>\n",
       "    <tr style=\"text-align: right;\">\n",
       "      <th></th>\n",
       "      <th>PatientID</th>\n",
       "      <th>ICDCode</th>\n",
       "      <th>Age</th>\n",
       "    </tr>\n",
       "  </thead>\n",
       "  <tbody>\n",
       "    <tr>\n",
       "      <td>35</td>\n",
       "      <td>4</td>\n",
       "      <td>309.81</td>\n",
       "      <td>18</td>\n",
       "    </tr>\n",
       "    <tr>\n",
       "      <td>79</td>\n",
       "      <td>9</td>\n",
       "      <td>F43.10</td>\n",
       "      <td>28</td>\n",
       "    </tr>\n",
       "    <tr>\n",
       "      <td>82</td>\n",
       "      <td>10</td>\n",
       "      <td>309.81</td>\n",
       "      <td>32</td>\n",
       "    </tr>\n",
       "    <tr>\n",
       "      <td>90</td>\n",
       "      <td>11</td>\n",
       "      <td>F43.12</td>\n",
       "      <td>49</td>\n",
       "    </tr>\n",
       "    <tr>\n",
       "      <td>120</td>\n",
       "      <td>15</td>\n",
       "      <td>309.81</td>\n",
       "      <td>57</td>\n",
       "    </tr>\n",
       "  </tbody>\n",
       "</table>\n",
       "</div>"
      ],
      "text/plain": [
       "     PatientID ICDCode  Age\n",
       "35           4  309.81   18\n",
       "79           9  F43.10   28\n",
       "82          10  309.81   32\n",
       "90          11  F43.12   49\n",
       "120         15  309.81   57"
      ]
     },
     "execution_count": 3,
     "metadata": {},
     "output_type": "execute_result"
    }
   ],
   "source": [
    "str_cont_subset = icd_cohort[(icd_cohort['ICDCode'].str.contains('309.81|F43.10|F43.11|F43.12')) & \n",
    "              (icd_cohort['Age']>=18)]\n",
    "\n",
    "str_cont_subset.head()"
   ]
  },
  {
   "cell_type": "markdown",
   "metadata": {},
   "source": [
    "We could explicitly list all of the conditions, however see this this code is less succinct, and requires some careful bracketing of our logical statements (thus more likely to result in user error in syntax). Both subsets yield the same results:"
   ]
  },
  {
   "cell_type": "code",
   "execution_count": 4,
   "metadata": {},
   "outputs": [
    {
     "data": {
      "text/html": [
       "<div>\n",
       "<style scoped>\n",
       "    .dataframe tbody tr th:only-of-type {\n",
       "        vertical-align: middle;\n",
       "    }\n",
       "\n",
       "    .dataframe tbody tr th {\n",
       "        vertical-align: top;\n",
       "    }\n",
       "\n",
       "    .dataframe thead th {\n",
       "        text-align: right;\n",
       "    }\n",
       "</style>\n",
       "<table border=\"1\" class=\"dataframe\">\n",
       "  <thead>\n",
       "    <tr style=\"text-align: right;\">\n",
       "      <th></th>\n",
       "      <th>PatientID</th>\n",
       "      <th>ICDCode</th>\n",
       "      <th>Age</th>\n",
       "    </tr>\n",
       "  </thead>\n",
       "  <tbody>\n",
       "    <tr>\n",
       "      <td>79</td>\n",
       "      <td>9</td>\n",
       "      <td>F43.10</td>\n",
       "      <td>28</td>\n",
       "    </tr>\n",
       "    <tr>\n",
       "      <td>82</td>\n",
       "      <td>10</td>\n",
       "      <td>309.81</td>\n",
       "      <td>32</td>\n",
       "    </tr>\n",
       "    <tr>\n",
       "      <td>90</td>\n",
       "      <td>11</td>\n",
       "      <td>F43.12</td>\n",
       "      <td>49</td>\n",
       "    </tr>\n",
       "    <tr>\n",
       "      <td>120</td>\n",
       "      <td>15</td>\n",
       "      <td>309.81</td>\n",
       "      <td>57</td>\n",
       "    </tr>\n",
       "    <tr>\n",
       "      <td>123</td>\n",
       "      <td>15</td>\n",
       "      <td>309.81</td>\n",
       "      <td>57</td>\n",
       "    </tr>\n",
       "  </tbody>\n",
       "</table>\n",
       "</div>"
      ],
      "text/plain": [
       "     PatientID ICDCode  Age\n",
       "79           9  F43.10   28\n",
       "82          10  309.81   32\n",
       "90          11  F43.12   49\n",
       "120         15  309.81   57\n",
       "123         15  309.81   57"
      ]
     },
     "execution_count": 4,
     "metadata": {},
     "output_type": "execute_result"
    }
   ],
   "source": [
    "ptsd_diags = ['309.81', 'F43.10', 'F43.11', 'F43.12']\n",
    "\n",
    "logical_subset = icd_cohort[((icd_cohort['ICDCode']=='309.81') |\n",
    "            (icd_cohort['ICDCode']=='F43.10') |\n",
    "            (icd_cohort['ICDCode']=='F43.11') |\n",
    "            (icd_cohort['ICDCode']=='F43.12')) * icd_cohort['Age']>18]\n",
    "\n",
    "logical_subset.head()"
   ]
  },
  {
   "cell_type": "code",
   "execution_count": 6,
   "metadata": {},
   "outputs": [
    {
     "name": "stdout",
     "output_type": "stream",
     "text": [
      "Of the 10000 patients in our research extract, we identify 514 adult patients with an eligible PTSD diagnosis.\n"
     ]
    }
   ],
   "source": [
    "# and to simply get the nubmer of patients:\n",
    "print('Of the', icd_cohort.shape[0], 'patients in our research extract, we identify',\n",
    "     str_cont_subset.shape[0], 'adult patients with an eligible PTSD diagnosis.')"
   ]
  },
  {
   "cell_type": "markdown",
   "metadata": {},
   "source": [
    "## Research Cohort Analysis\n",
    "### (1) Identifying how many patients were recruited"
   ]
  },
  {
   "cell_type": "code",
   "execution_count": 7,
   "metadata": {},
   "outputs": [
    {
     "data": {
      "text/html": [
       "<div>\n",
       "<style scoped>\n",
       "    .dataframe tbody tr th:only-of-type {\n",
       "        vertical-align: middle;\n",
       "    }\n",
       "\n",
       "    .dataframe tbody tr th {\n",
       "        vertical-align: top;\n",
       "    }\n",
       "\n",
       "    .dataframe thead th {\n",
       "        text-align: right;\n",
       "    }\n",
       "</style>\n",
       "<table border=\"1\" class=\"dataframe\">\n",
       "  <thead>\n",
       "    <tr style=\"text-align: right;\">\n",
       "      <th></th>\n",
       "      <th>UID</th>\n",
       "      <th>PTSD_Q1_6mo</th>\n",
       "      <th>PTSD_Q2_6mo</th>\n",
       "      <th>PTSD_Q3_6mo</th>\n",
       "      <th>PTSD_Q4_6mo</th>\n",
       "      <th>PTSD_Q5_6mo</th>\n",
       "      <th>PTSD_Q6_6mo</th>\n",
       "      <th>PTSD_Q7_6mo</th>\n",
       "      <th>PTSD_Q8_6mo</th>\n",
       "      <th>PTSD_Q9_6mo</th>\n",
       "      <th>...</th>\n",
       "      <th>PTSD_Q19_6mo</th>\n",
       "      <th>PTSD_Q20_6mo</th>\n",
       "      <th>PHQ_Q9_6mo</th>\n",
       "      <th>Age</th>\n",
       "      <th>TimeFirstDiagnosis_Months</th>\n",
       "      <th>AlcAbuse</th>\n",
       "      <th>BeckAnxiety_BL</th>\n",
       "      <th>IncomeCat</th>\n",
       "      <th>SocialSupport</th>\n",
       "      <th>PTSD_Rx</th>\n",
       "    </tr>\n",
       "  </thead>\n",
       "  <tbody>\n",
       "    <tr>\n",
       "      <td>0</td>\n",
       "      <td>U200</td>\n",
       "      <td>1</td>\n",
       "      <td>0</td>\n",
       "      <td>0</td>\n",
       "      <td>0</td>\n",
       "      <td>0</td>\n",
       "      <td>1</td>\n",
       "      <td>0</td>\n",
       "      <td>1</td>\n",
       "      <td>0</td>\n",
       "      <td>...</td>\n",
       "      <td>0</td>\n",
       "      <td>0</td>\n",
       "      <td>0.0</td>\n",
       "      <td>29.0</td>\n",
       "      <td>18.0</td>\n",
       "      <td>0.0</td>\n",
       "      <td>24.0</td>\n",
       "      <td>&lt;125% FPL</td>\n",
       "      <td>49.0</td>\n",
       "      <td>clonazepam</td>\n",
       "    </tr>\n",
       "    <tr>\n",
       "      <td>1</td>\n",
       "      <td>U398</td>\n",
       "      <td>0</td>\n",
       "      <td>1</td>\n",
       "      <td>2</td>\n",
       "      <td>2</td>\n",
       "      <td>0</td>\n",
       "      <td>1</td>\n",
       "      <td>0</td>\n",
       "      <td>3</td>\n",
       "      <td>0</td>\n",
       "      <td>...</td>\n",
       "      <td>0</td>\n",
       "      <td>2</td>\n",
       "      <td>0.0</td>\n",
       "      <td>45.0</td>\n",
       "      <td>17.0</td>\n",
       "      <td>1.0</td>\n",
       "      <td>0.0</td>\n",
       "      <td>400%+ FPL</td>\n",
       "      <td>59.0</td>\n",
       "      <td>clonazepam</td>\n",
       "    </tr>\n",
       "    <tr>\n",
       "      <td>2</td>\n",
       "      <td>Z812</td>\n",
       "      <td>2</td>\n",
       "      <td>1</td>\n",
       "      <td>1</td>\n",
       "      <td>2</td>\n",
       "      <td>0</td>\n",
       "      <td>1</td>\n",
       "      <td>1</td>\n",
       "      <td>0</td>\n",
       "      <td>0</td>\n",
       "      <td>...</td>\n",
       "      <td>0</td>\n",
       "      <td>4</td>\n",
       "      <td>0.0</td>\n",
       "      <td>39.0</td>\n",
       "      <td>18.0</td>\n",
       "      <td>0.0</td>\n",
       "      <td>21.0</td>\n",
       "      <td>125%-200% FPL</td>\n",
       "      <td>47.0</td>\n",
       "      <td>clonazepam</td>\n",
       "    </tr>\n",
       "    <tr>\n",
       "      <td>3</td>\n",
       "      <td>U221</td>\n",
       "      <td>0</td>\n",
       "      <td>0</td>\n",
       "      <td>0</td>\n",
       "      <td>0</td>\n",
       "      <td>1</td>\n",
       "      <td>1</td>\n",
       "      <td>2</td>\n",
       "      <td>1</td>\n",
       "      <td>3</td>\n",
       "      <td>...</td>\n",
       "      <td>3</td>\n",
       "      <td>0</td>\n",
       "      <td>0.0</td>\n",
       "      <td>54.0</td>\n",
       "      <td>24.0</td>\n",
       "      <td>0.0</td>\n",
       "      <td>0.0</td>\n",
       "      <td>&lt;125% FPL</td>\n",
       "      <td>48.0</td>\n",
       "      <td>sertraline</td>\n",
       "    </tr>\n",
       "    <tr>\n",
       "      <td>4</td>\n",
       "      <td>U338</td>\n",
       "      <td>2</td>\n",
       "      <td>1</td>\n",
       "      <td>0</td>\n",
       "      <td>1</td>\n",
       "      <td>1</td>\n",
       "      <td>0</td>\n",
       "      <td>0</td>\n",
       "      <td>0</td>\n",
       "      <td>0</td>\n",
       "      <td>...</td>\n",
       "      <td>1</td>\n",
       "      <td>0</td>\n",
       "      <td>2.0</td>\n",
       "      <td>20.0</td>\n",
       "      <td>16.0</td>\n",
       "      <td>1.0</td>\n",
       "      <td>2.0</td>\n",
       "      <td>200%-400% FPL</td>\n",
       "      <td>19.0</td>\n",
       "      <td>nefazodone</td>\n",
       "    </tr>\n",
       "  </tbody>\n",
       "</table>\n",
       "<p>5 rows × 29 columns</p>\n",
       "</div>"
      ],
      "text/plain": [
       "    UID  PTSD_Q1_6mo  PTSD_Q2_6mo  PTSD_Q3_6mo  PTSD_Q4_6mo  PTSD_Q5_6mo  \\\n",
       "0  U200            1            0            0            0            0   \n",
       "1  U398            0            1            2            2            0   \n",
       "2  Z812            2            1            1            2            0   \n",
       "3  U221            0            0            0            0            1   \n",
       "4  U338            2            1            0            1            1   \n",
       "\n",
       "   PTSD_Q6_6mo  PTSD_Q7_6mo  PTSD_Q8_6mo  PTSD_Q9_6mo  ...  PTSD_Q19_6mo  \\\n",
       "0            1            0            1            0  ...             0   \n",
       "1            1            0            3            0  ...             0   \n",
       "2            1            1            0            0  ...             0   \n",
       "3            1            2            1            3  ...             3   \n",
       "4            0            0            0            0  ...             1   \n",
       "\n",
       "   PTSD_Q20_6mo  PHQ_Q9_6mo   Age  TimeFirstDiagnosis_Months  AlcAbuse  \\\n",
       "0             0         0.0  29.0                       18.0       0.0   \n",
       "1             2         0.0  45.0                       17.0       1.0   \n",
       "2             4         0.0  39.0                       18.0       0.0   \n",
       "3             0         0.0  54.0                       24.0       0.0   \n",
       "4             0         2.0  20.0                       16.0       1.0   \n",
       "\n",
       "   BeckAnxiety_BL      IncomeCat  SocialSupport     PTSD_Rx  \n",
       "0            24.0      <125% FPL           49.0  clonazepam  \n",
       "1             0.0      400%+ FPL           59.0  clonazepam  \n",
       "2            21.0  125%-200% FPL           47.0  clonazepam  \n",
       "3             0.0      <125% FPL           48.0  sertraline  \n",
       "4             2.0  200%-400% FPL           19.0  nefazodone  \n",
       "\n",
       "[5 rows x 29 columns]"
      ]
     },
     "execution_count": 7,
     "metadata": {},
     "output_type": "execute_result"
    }
   ],
   "source": [
    "# Importing the research cohort\n",
    "cohort = pd.read_csv('PTSD_ResearchCohort.csv', index_col=0)\n",
    "cohort.head()"
   ]
  },
  {
   "cell_type": "code",
   "execution_count": 8,
   "metadata": {},
   "outputs": [
    {
     "name": "stdout",
     "output_type": "stream",
     "text": [
      "Compared to the 514 patients we identified in our ICD extract, only 401 patients are contained with follow-up data in our research cohort data set.\n"
     ]
    }
   ],
   "source": [
    "print('Compared to the', str_cont_subset.shape[0], 'patients we identified in our ICD extract,',\n",
    "     'only', cohort.shape[0],\n",
    "      'patients are contained with follow-up data in our research cohort data set.')"
   ]
  },
  {
   "cell_type": "markdown",
   "metadata": {},
   "source": [
    "### (2) Create the PTSD Outcome Variable\n",
    "\n",
    "***Using the PTSD questionnaire vairiables, crate a binary PTSD diagnosis/outcome variable. The following links include useful resources the PTSD checklist and respective variable coding and a guide to the scoring and diagnosis of PTSD using this checklist, with relevant information included below in Figures 1A and 1B***\n",
    "  \n",
    "<br>  </br>\n",
    "\n",
    "The included reference for the PTSD data included in our research data set includes the following desription to bse used for diagnosis of PTSD:\n",
    "\n",
    "> *\"A provisional PTSD diagnosis can be made by treating each item rated as 2 = \"Moderately\" or higher as a symptom endorsed, then following the DSM-5 diagnostic rule which requires at least: 1 B item (questions 1-5), 1 C item (questions 6-7), 2 D items (questions 8-14), 2 E items (questions 15-20).\"*\n",
    "\n",
    "So for our 20 PTSD questions, for a patient to be meet our diagnostic criteria for PTSD, they must endorse a symptom (that is report a score of 2 or greater) \n",
    "\n",
    "To use these criteria, we could set conditional arguments in a long if statement, but this would tediously require us to work through all 20 PTSD questions and carefully set up our conditionals:\n",
    "\n",
    "For example:  \n",
    "`IF  (ptsd_q1>=2 OR ptsd_q1>=2 OR ... OR ptsd_q5>=2) AND   \n",
    "    (ptsd_q6>=2 OR ptsd_q7>=2) AND  \n",
    "    (ptsd_q8>=2 OR ... OR ptsd_q14>=2) AND   \n",
    "    (ptsd_q15>=2 OR ... OR ptsd_q20>=2)`\n",
    "    \n",
    "Rather than look at each question individually, we could identify the maximum self-reported symptom within each of these groups of questions. Then, if the maximum symptom is 2 or greater, the patient meets the criteria for a PTSD diagnosis. This code can be succinctly written as:"
   ]
  },
  {
   "cell_type": "code",
   "execution_count": 9,
   "metadata": {},
   "outputs": [],
   "source": [
    "#### Generating PTSD Variable (code also included in walkthrough\n",
    "for i in range(0, cohort.shape[0]):\n",
    "    if min(max(cohort.iloc[i, 1:6]), max(cohort.iloc[i, 6:8]), \n",
    "           max(cohort.iloc[i, 8:15]), max(cohort.iloc[i, 15:21]))>=2:\n",
    "        cohort.loc[i, 'PTSD_6mo'] = 1\n",
    "    else:\n",
    "        cohort.loc[i, 'PTSD_6mo'] = 0"
   ]
  },
  {
   "cell_type": "code",
   "execution_count": 10,
   "metadata": {},
   "outputs": [
    {
     "data": {
      "text/plain": [
       "0.0    258\n",
       "1.0    143\n",
       "Name: PTSD_6mo, dtype: int64"
      ]
     },
     "execution_count": 10,
     "metadata": {},
     "output_type": "execute_result"
    }
   ],
   "source": [
    "cohort['PTSD_6mo'].value_counts()"
   ]
  },
  {
   "cell_type": "markdown",
   "metadata": {},
   "source": [
    "### (3) Create our suicidal related behavior (SRB) variable\n",
    "As mentioned in the student assessment prompt, we can use the available PHQ-9 variable (related to Question 9 of the questionnaire) to categorize presence of SRB. Individuals who report a symptom (>=1) will be categorized as \"present\" and otherwise \"absent\" for our SRB outcome variable. "
   ]
  },
  {
   "cell_type": "code",
   "execution_count": 11,
   "metadata": {},
   "outputs": [
    {
     "data": {
      "text/plain": [
       "0    238\n",
       "1    163\n",
       "Name: SRB_6mo, dtype: int64"
      ]
     },
     "execution_count": 11,
     "metadata": {},
     "output_type": "execute_result"
    }
   ],
   "source": [
    "cohort['SRB_6mo'] = np.where(cohort['PHQ_Q9_6mo']==0, 0, 1)\n",
    "\n",
    "cohort['SRB_6mo'].value_counts()"
   ]
  },
  {
   "cell_type": "code",
   "execution_count": 12,
   "metadata": {},
   "outputs": [
    {
     "data": {
      "text/plain": [
       "PTSD_6mo  SRB_6mo\n",
       "0.0       0          174\n",
       "          1           84\n",
       "1.0       0           64\n",
       "          1           79\n",
       "dtype: int64"
      ]
     },
     "execution_count": 12,
     "metadata": {},
     "output_type": "execute_result"
    }
   ],
   "source": [
    "cohort[['PTSD_6mo', 'SRB_6mo']].groupby(['PTSD_6mo', 'SRB_6mo']).size()"
   ]
  },
  {
   "cell_type": "markdown",
   "metadata": {},
   "source": [
    "### (4) Exploratory Data Analysis and Covariate Cleaning \n",
    "\n",
    "We can reference our data dictionary to find our available covariates include age, time since earliest PTSD diagnosis, presence of alcohol abuse, a measure of anxiety (using the Beck Anxiety Inventory), a nominal-categorical value for income, a continuous self-reported assessment of social support, and lastly an indicator of the PTSD treatment medication prescribed over the study duration.   \n",
    "  \n",
    "We could also examine the columns in our data frame to see what elements are present and the pecific names of the column containing this information:"
   ]
  },
  {
   "cell_type": "code",
   "execution_count": 13,
   "metadata": {},
   "outputs": [
    {
     "data": {
      "text/plain": [
       "Index(['UID', 'PTSD_Q1_6mo', 'PTSD_Q2_6mo', 'PTSD_Q3_6mo', 'PTSD_Q4_6mo',\n",
       "       'PTSD_Q5_6mo', 'PTSD_Q6_6mo', 'PTSD_Q7_6mo', 'PTSD_Q8_6mo',\n",
       "       'PTSD_Q9_6mo', 'PTSD_Q10_6mo', 'PTSD_Q11_6mo', 'PTSD_Q12_6mo',\n",
       "       'PTSD_Q13_6mo', 'PTSD_Q14_6mo', 'PTSD_Q15_6mo', 'PTSD_Q16_6mo',\n",
       "       'PTSD_Q17_6mo', 'PTSD_Q18_6mo', 'PTSD_Q19_6mo', 'PTSD_Q20_6mo',\n",
       "       'PHQ_Q9_6mo', 'Age', 'TimeFirstDiagnosis_Months', 'AlcAbuse',\n",
       "       'BeckAnxiety_BL', 'IncomeCat', 'SocialSupport', 'PTSD_Rx', 'PTSD_6mo',\n",
       "       'SRB_6mo'],\n",
       "      dtype='object')"
      ]
     },
     "execution_count": 13,
     "metadata": {},
     "output_type": "execute_result"
    }
   ],
   "source": [
    "# Printing all columns\n",
    "cohort.columns"
   ]
  },
  {
   "cell_type": "code",
   "execution_count": 14,
   "metadata": {},
   "outputs": [
    {
     "data": {
      "text/plain": [
       "Index(['UID', 'Age', 'TimeFirstDiagnosis_Months', 'AlcAbuse', 'BeckAnxiety_BL',\n",
       "       'IncomeCat', 'SocialSupport', 'PTSD_Rx', 'PTSD_6mo'],\n",
       "      dtype='object')"
      ]
     },
     "execution_count": 14,
     "metadata": {},
     "output_type": "execute_result"
    }
   ],
   "source": [
    "# Removing the questionnaire columns for a smaller list to review\n",
    "    # using the tilde (~) operator to negate the logical from str.contains\n",
    "cohort.columns[~cohort.columns.str.contains('PTSD_Q|PHQ|SRB')]"
   ]
  },
  {
   "cell_type": "markdown",
   "metadata": {},
   "source": [
    "### Continuous Variables\n",
    "Let's begin by simply plotting our continuous variables for some EDA. We will not worry about transforming these variables and will include them \"as-is\" in our models, but should examine the distributions, check for missing codes, and/or look for outliers."
   ]
  },
  {
   "cell_type": "markdown",
   "metadata": {},
   "source": [
    "#### Age"
   ]
  },
  {
   "cell_type": "code",
   "execution_count": 17,
   "metadata": {},
   "outputs": [
    {
     "data": {
      "image/png": "[encoded data removed]",
      "text/plain": [
       "<Figure size 432x288 with 1 Axes>"
      ]
     },
     "metadata": {
      "needs_background": "light"
     },
     "output_type": "display_data"
    }
   ],
   "source": [
    "(cohort['Age']).plot.density()\n",
    "plt.show()"
   ]
  },
  {
   "cell_type": "code",
   "execution_count": 18,
   "metadata": {},
   "outputs": [
    {
     "data": {
      "image/png": "[encoded data removed]",
      "text/plain": [
       "<Figure size 432x288 with 1 Axes>"
      ]
     },
     "metadata": {
      "needs_background": "light"
     },
     "output_type": "display_data"
    }
   ],
   "source": [
    "cohort.boxplot(column='Age', by=['PTSD_6mo', 'SRB_6mo'])\n",
    "plt.show()"
   ]
  },
  {
   "cell_type": "markdown",
   "metadata": {},
   "source": [
    "#### Social Support"
   ]
  },
  {
   "cell_type": "code",
   "execution_count": 19,
   "metadata": {},
   "outputs": [
    {
     "data": {
      "image/png": "[encoded data removed]",
      "text/plain": [
       "<Figure size 432x288 with 1 Axes>"
      ]
     },
     "metadata": {
      "needs_background": "light"
     },
     "output_type": "display_data"
    }
   ],
   "source": [
    "cohort.boxplot(column='SocialSupport', by=['SRB_6mo', 'PTSD_6mo'])\n",
    "plt.show()"
   ]
  },
  {
   "cell_type": "code",
   "execution_count": 20,
   "metadata": {},
   "outputs": [
    {
     "data": {
      "image/png": "[encoded data removed]",
      "text/plain": [
       "<Figure size 432x288 with 1 Axes>"
      ]
     },
     "metadata": {
      "needs_background": "light"
     },
     "output_type": "display_data"
    }
   ],
   "source": [
    "cohort['SocialSupport'].plot.density()\n",
    "plt.show()"
   ]
  },
  {
   "cell_type": "markdown",
   "metadata": {},
   "source": [
    "#### Time to Diagnosis"
   ]
  },
  {
   "cell_type": "code",
   "execution_count": 21,
   "metadata": {},
   "outputs": [
    {
     "data": {
      "image/png": "[encoded data removed]",
      "text/plain": [
       "<Figure size 432x288 with 1 Axes>"
      ]
     },
     "metadata": {
      "needs_background": "light"
     },
     "output_type": "display_data"
    }
   ],
   "source": [
    "cohort.boxplot(column='TimeFirstDiagnosis_Months', by=['SRB_6mo', 'PTSD_6mo'])\n",
    "plt.show()"
   ]
  },
  {
   "cell_type": "code",
   "execution_count": 22,
   "metadata": {},
   "outputs": [
    {
     "data": {
      "image/png": "[encoded data removed]",
      "text/plain": [
       "<Figure size 432x288 with 1 Axes>"
      ]
     },
     "metadata": {
      "needs_background": "light"
     },
     "output_type": "display_data"
    }
   ],
   "source": [
    "cohort['TimeFirstDiagnosis_Months'].plot.density()\n",
    "plt.show()"
   ]
  },
  {
   "cell_type": "markdown",
   "metadata": {},
   "source": [
    "#### Beck Anxiety Inventory"
   ]
  },
  {
   "cell_type": "code",
   "execution_count": 23,
   "metadata": {},
   "outputs": [
    {
     "data": {
      "image/png": "[encoded data removed]",
      "text/plain": [
       "<Figure size 432x288 with 1 Axes>"
      ]
     },
     "metadata": {
      "needs_background": "light"
     },
     "output_type": "display_data"
    }
   ],
   "source": [
    "cohort.boxplot(column='BeckAnxiety_BL', by=['SRB_6mo', 'PTSD_6mo'])\n",
    "plt.show()"
   ]
  },
  {
   "cell_type": "code",
   "execution_count": 24,
   "metadata": {},
   "outputs": [
    {
     "data": {
      "image/png": "[encoded data removed]",
      "text/plain": [
       "<Figure size 432x288 with 1 Axes>"
      ]
     },
     "metadata": {
      "needs_background": "light"
     },
     "output_type": "display_data"
    }
   ],
   "source": [
    "cohort['BeckAnxiety_BL'].plot.density()\n",
    "plt.show()"
   ]
  },
  {
   "cell_type": "markdown",
   "metadata": {},
   "source": [
    "### Categorical Variables\n",
    "For the categorical variables, we will examine the categories present, and in variables with more than 2 distinct categories, we will create dummy variables for all categories. For those with only 1 category (i.e. binary variables), we will simply leave the variable with its given \"0/1\" coding. \n",
    "\n",
    "For this dummy variable coding, we will use `pd.get_dummies` (although `sklearn`'s `OneHotEncoder` can also be used with the same results). For each variable, I will subset only the variable and the identifier column. I will then include but not execute code that merges in these created dummy variables in to the original data frame. IN our final chunk, I will alter our data frame with a single `pd.get_dummies` call, supplying a list of the columns which will need to be dummy coded."
   ]
  },
  {
   "cell_type": "code",
   "execution_count": 25,
   "metadata": {},
   "outputs": [
    {
     "data": {
      "text/plain": [
       "0.0    234\n",
       "1.0    167\n",
       "Name: AlcAbuse, dtype: int64"
      ]
     },
     "execution_count": 25,
     "metadata": {},
     "output_type": "execute_result"
    }
   ],
   "source": [
    "cohort['AlcAbuse'].value_counts()"
   ]
  },
  {
   "cell_type": "code",
   "execution_count": 26,
   "metadata": {},
   "outputs": [
    {
     "data": {
      "text/plain": [
       "400%+ FPL        117\n",
       "<125% FPL        106\n",
       "125%-200% FPL    105\n",
       "200%-400% FPL     73\n",
       "Name: IncomeCat, dtype: int64"
      ]
     },
     "execution_count": 26,
     "metadata": {},
     "output_type": "execute_result"
    }
   ],
   "source": [
    "cohort['IncomeCat'].value_counts()"
   ]
  },
  {
   "cell_type": "code",
   "execution_count": 27,
   "metadata": {},
   "outputs": [
    {
     "data": {
      "text/html": [
       "<div>\n",
       "<style scoped>\n",
       "    .dataframe tbody tr th:only-of-type {\n",
       "        vertical-align: middle;\n",
       "    }\n",
       "\n",
       "    .dataframe tbody tr th {\n",
       "        vertical-align: top;\n",
       "    }\n",
       "\n",
       "    .dataframe thead th {\n",
       "        text-align: right;\n",
       "    }\n",
       "</style>\n",
       "<table border=\"1\" class=\"dataframe\">\n",
       "  <thead>\n",
       "    <tr style=\"text-align: right;\">\n",
       "      <th></th>\n",
       "      <th>UID</th>\n",
       "      <th>IncomeCat_125%-200% FPL</th>\n",
       "      <th>IncomeCat_200%-400% FPL</th>\n",
       "      <th>IncomeCat_400%+ FPL</th>\n",
       "      <th>IncomeCat_&lt;125% FPL</th>\n",
       "    </tr>\n",
       "  </thead>\n",
       "  <tbody>\n",
       "    <tr>\n",
       "      <td>0</td>\n",
       "      <td>U200</td>\n",
       "      <td>0</td>\n",
       "      <td>0</td>\n",
       "      <td>0</td>\n",
       "      <td>1</td>\n",
       "    </tr>\n",
       "    <tr>\n",
       "      <td>1</td>\n",
       "      <td>U398</td>\n",
       "      <td>0</td>\n",
       "      <td>0</td>\n",
       "      <td>1</td>\n",
       "      <td>0</td>\n",
       "    </tr>\n",
       "    <tr>\n",
       "      <td>2</td>\n",
       "      <td>Z812</td>\n",
       "      <td>1</td>\n",
       "      <td>0</td>\n",
       "      <td>0</td>\n",
       "      <td>0</td>\n",
       "    </tr>\n",
       "    <tr>\n",
       "      <td>3</td>\n",
       "      <td>U221</td>\n",
       "      <td>0</td>\n",
       "      <td>0</td>\n",
       "      <td>0</td>\n",
       "      <td>1</td>\n",
       "    </tr>\n",
       "    <tr>\n",
       "      <td>4</td>\n",
       "      <td>U338</td>\n",
       "      <td>0</td>\n",
       "      <td>1</td>\n",
       "      <td>0</td>\n",
       "      <td>0</td>\n",
       "    </tr>\n",
       "  </tbody>\n",
       "</table>\n",
       "</div>"
      ],
      "text/plain": [
       "    UID  IncomeCat_125%-200% FPL  IncomeCat_200%-400% FPL  \\\n",
       "0  U200                        0                        0   \n",
       "1  U398                        0                        0   \n",
       "2  Z812                        1                        0   \n",
       "3  U221                        0                        0   \n",
       "4  U338                        0                        1   \n",
       "\n",
       "   IncomeCat_400%+ FPL  IncomeCat_<125% FPL  \n",
       "0                    0                    1  \n",
       "1                    1                    0  \n",
       "2                    0                    0  \n",
       "3                    0                    1  \n",
       "4                    0                    0  "
      ]
     },
     "execution_count": 27,
     "metadata": {},
     "output_type": "execute_result"
    }
   ],
   "source": [
    "IncomeCatDummies = pd.get_dummies(cohort[['UID', 'IncomeCat']], columns=['IncomeCat'])\n",
    "IncomeCatDummies.head()\n",
    "# # We can check that this works by comparing the column sums to our value counts above, which should \n",
    "# # be equivalent:\n",
    "# IncomeCatDummies.sum(axis=0)\n"
   ]
  },
  {
   "cell_type": "code",
   "execution_count": 28,
   "metadata": {},
   "outputs": [
    {
     "data": {
      "text/plain": [
       "clonazepam    67\n",
       "phenelzine    64\n",
       "midazolam     62\n",
       "nefazodone    55\n",
       "sertraline    45\n",
       "paroxetine    44\n",
       "Name: PTSD_Rx, dtype: int64"
      ]
     },
     "execution_count": 28,
     "metadata": {},
     "output_type": "execute_result"
    }
   ],
   "source": [
    "cohort['PTSD_Rx'].value_counts()"
   ]
  },
  {
   "cell_type": "code",
   "execution_count": 29,
   "metadata": {},
   "outputs": [
    {
     "data": {
      "text/html": [
       "<div>\n",
       "<style scoped>\n",
       "    .dataframe tbody tr th:only-of-type {\n",
       "        vertical-align: middle;\n",
       "    }\n",
       "\n",
       "    .dataframe tbody tr th {\n",
       "        vertical-align: top;\n",
       "    }\n",
       "\n",
       "    .dataframe thead th {\n",
       "        text-align: right;\n",
       "    }\n",
       "</style>\n",
       "<table border=\"1\" class=\"dataframe\">\n",
       "  <thead>\n",
       "    <tr style=\"text-align: right;\">\n",
       "      <th></th>\n",
       "      <th>UID</th>\n",
       "      <th>PTSD_Rx_clonazepam</th>\n",
       "      <th>PTSD_Rx_midazolam</th>\n",
       "      <th>PTSD_Rx_nefazodone</th>\n",
       "      <th>PTSD_Rx_paroxetine</th>\n",
       "      <th>PTSD_Rx_phenelzine</th>\n",
       "      <th>PTSD_Rx_sertraline</th>\n",
       "    </tr>\n",
       "  </thead>\n",
       "  <tbody>\n",
       "    <tr>\n",
       "      <td>0</td>\n",
       "      <td>U200</td>\n",
       "      <td>1</td>\n",
       "      <td>0</td>\n",
       "      <td>0</td>\n",
       "      <td>0</td>\n",
       "      <td>0</td>\n",
       "      <td>0</td>\n",
       "    </tr>\n",
       "    <tr>\n",
       "      <td>1</td>\n",
       "      <td>U398</td>\n",
       "      <td>1</td>\n",
       "      <td>0</td>\n",
       "      <td>0</td>\n",
       "      <td>0</td>\n",
       "      <td>0</td>\n",
       "      <td>0</td>\n",
       "    </tr>\n",
       "    <tr>\n",
       "      <td>2</td>\n",
       "      <td>Z812</td>\n",
       "      <td>1</td>\n",
       "      <td>0</td>\n",
       "      <td>0</td>\n",
       "      <td>0</td>\n",
       "      <td>0</td>\n",
       "      <td>0</td>\n",
       "    </tr>\n",
       "    <tr>\n",
       "      <td>3</td>\n",
       "      <td>U221</td>\n",
       "      <td>0</td>\n",
       "      <td>0</td>\n",
       "      <td>0</td>\n",
       "      <td>0</td>\n",
       "      <td>0</td>\n",
       "      <td>1</td>\n",
       "    </tr>\n",
       "    <tr>\n",
       "      <td>4</td>\n",
       "      <td>U338</td>\n",
       "      <td>0</td>\n",
       "      <td>0</td>\n",
       "      <td>1</td>\n",
       "      <td>0</td>\n",
       "      <td>0</td>\n",
       "      <td>0</td>\n",
       "    </tr>\n",
       "  </tbody>\n",
       "</table>\n",
       "</div>"
      ],
      "text/plain": [
       "    UID  PTSD_Rx_clonazepam  PTSD_Rx_midazolam  PTSD_Rx_nefazodone  \\\n",
       "0  U200                   1                  0                   0   \n",
       "1  U398                   1                  0                   0   \n",
       "2  Z812                   1                  0                   0   \n",
       "3  U221                   0                  0                   0   \n",
       "4  U338                   0                  0                   1   \n",
       "\n",
       "   PTSD_Rx_paroxetine  PTSD_Rx_phenelzine  PTSD_Rx_sertraline  \n",
       "0                   0                   0                   0  \n",
       "1                   0                   0                   0  \n",
       "2                   0                   0                   0  \n",
       "3                   0                   0                   1  \n",
       "4                   0                   0                   0  "
      ]
     },
     "execution_count": 29,
     "metadata": {},
     "output_type": "execute_result"
    }
   ],
   "source": [
    "meds_dummy = pd.get_dummies(cohort[['UID', 'PTSD_Rx']], columns=['PTSD_Rx'])\n",
    "meds_dummy.head()   "
   ]
  },
  {
   "cell_type": "markdown",
   "metadata": {},
   "source": [
    "The below code merges in the dummy variables and remove the original nominal variable for `Income_Cat` and `PTSD_Rx` in a sequence of two merges. Notice we drop the original variables in the merge statement to include only the dummy encoded variables. We do not save these results, and more simply include the pd.get_dummies() single line solution in the chunk of code that follows."
   ]
  },
  {
   "cell_type": "code",
   "execution_count": 30,
   "metadata": {},
   "outputs": [
    {
     "data": {
      "text/html": [
       "<div>\n",
       "<style scoped>\n",
       "    .dataframe tbody tr th:only-of-type {\n",
       "        vertical-align: middle;\n",
       "    }\n",
       "\n",
       "    .dataframe tbody tr th {\n",
       "        vertical-align: top;\n",
       "    }\n",
       "\n",
       "    .dataframe thead th {\n",
       "        text-align: right;\n",
       "    }\n",
       "</style>\n",
       "<table border=\"1\" class=\"dataframe\">\n",
       "  <thead>\n",
       "    <tr style=\"text-align: right;\">\n",
       "      <th></th>\n",
       "      <th>UID</th>\n",
       "      <th>PTSD_Q1_6mo</th>\n",
       "      <th>PTSD_Q2_6mo</th>\n",
       "      <th>PTSD_Q3_6mo</th>\n",
       "      <th>PTSD_Q4_6mo</th>\n",
       "      <th>PTSD_Q5_6mo</th>\n",
       "      <th>PTSD_Q6_6mo</th>\n",
       "      <th>PTSD_Q7_6mo</th>\n",
       "      <th>PTSD_Q8_6mo</th>\n",
       "      <th>PTSD_Q9_6mo</th>\n",
       "      <th>...</th>\n",
       "      <th>PTSD_Rx_clonazepam</th>\n",
       "      <th>PTSD_Rx_midazolam</th>\n",
       "      <th>PTSD_Rx_nefazodone</th>\n",
       "      <th>PTSD_Rx_paroxetine</th>\n",
       "      <th>PTSD_Rx_phenelzine</th>\n",
       "      <th>PTSD_Rx_sertraline</th>\n",
       "      <th>IncomeCat_125%-200% FPL</th>\n",
       "      <th>IncomeCat_200%-400% FPL</th>\n",
       "      <th>IncomeCat_400%+ FPL</th>\n",
       "      <th>IncomeCat_&lt;125% FPL</th>\n",
       "    </tr>\n",
       "  </thead>\n",
       "  <tbody>\n",
       "    <tr>\n",
       "      <td>0</td>\n",
       "      <td>U200</td>\n",
       "      <td>1</td>\n",
       "      <td>0</td>\n",
       "      <td>0</td>\n",
       "      <td>0</td>\n",
       "      <td>0</td>\n",
       "      <td>1</td>\n",
       "      <td>0</td>\n",
       "      <td>1</td>\n",
       "      <td>0</td>\n",
       "      <td>...</td>\n",
       "      <td>1</td>\n",
       "      <td>0</td>\n",
       "      <td>0</td>\n",
       "      <td>0</td>\n",
       "      <td>0</td>\n",
       "      <td>0</td>\n",
       "      <td>0</td>\n",
       "      <td>0</td>\n",
       "      <td>0</td>\n",
       "      <td>1</td>\n",
       "    </tr>\n",
       "    <tr>\n",
       "      <td>1</td>\n",
       "      <td>U398</td>\n",
       "      <td>0</td>\n",
       "      <td>1</td>\n",
       "      <td>2</td>\n",
       "      <td>2</td>\n",
       "      <td>0</td>\n",
       "      <td>1</td>\n",
       "      <td>0</td>\n",
       "      <td>3</td>\n",
       "      <td>0</td>\n",
       "      <td>...</td>\n",
       "      <td>1</td>\n",
       "      <td>0</td>\n",
       "      <td>0</td>\n",
       "      <td>0</td>\n",
       "      <td>0</td>\n",
       "      <td>0</td>\n",
       "      <td>0</td>\n",
       "      <td>0</td>\n",
       "      <td>1</td>\n",
       "      <td>0</td>\n",
       "    </tr>\n",
       "    <tr>\n",
       "      <td>2</td>\n",
       "      <td>Z812</td>\n",
       "      <td>2</td>\n",
       "      <td>1</td>\n",
       "      <td>1</td>\n",
       "      <td>2</td>\n",
       "      <td>0</td>\n",
       "      <td>1</td>\n",
       "      <td>1</td>\n",
       "      <td>0</td>\n",
       "      <td>0</td>\n",
       "      <td>...</td>\n",
       "      <td>1</td>\n",
       "      <td>0</td>\n",
       "      <td>0</td>\n",
       "      <td>0</td>\n",
       "      <td>0</td>\n",
       "      <td>0</td>\n",
       "      <td>1</td>\n",
       "      <td>0</td>\n",
       "      <td>0</td>\n",
       "      <td>0</td>\n",
       "    </tr>\n",
       "    <tr>\n",
       "      <td>3</td>\n",
       "      <td>U221</td>\n",
       "      <td>0</td>\n",
       "      <td>0</td>\n",
       "      <td>0</td>\n",
       "      <td>0</td>\n",
       "      <td>1</td>\n",
       "      <td>1</td>\n",
       "      <td>2</td>\n",
       "      <td>1</td>\n",
       "      <td>3</td>\n",
       "      <td>...</td>\n",
       "      <td>0</td>\n",
       "      <td>0</td>\n",
       "      <td>0</td>\n",
       "      <td>0</td>\n",
       "      <td>0</td>\n",
       "      <td>1</td>\n",
       "      <td>0</td>\n",
       "      <td>0</td>\n",
       "      <td>0</td>\n",
       "      <td>1</td>\n",
       "    </tr>\n",
       "    <tr>\n",
       "      <td>4</td>\n",
       "      <td>U338</td>\n",
       "      <td>2</td>\n",
       "      <td>1</td>\n",
       "      <td>0</td>\n",
       "      <td>1</td>\n",
       "      <td>1</td>\n",
       "      <td>0</td>\n",
       "      <td>0</td>\n",
       "      <td>0</td>\n",
       "      <td>0</td>\n",
       "      <td>...</td>\n",
       "      <td>0</td>\n",
       "      <td>0</td>\n",
       "      <td>1</td>\n",
       "      <td>0</td>\n",
       "      <td>0</td>\n",
       "      <td>0</td>\n",
       "      <td>0</td>\n",
       "      <td>1</td>\n",
       "      <td>0</td>\n",
       "      <td>0</td>\n",
       "    </tr>\n",
       "  </tbody>\n",
       "</table>\n",
       "<p>5 rows × 39 columns</p>\n",
       "</div>"
      ],
      "text/plain": [
       "    UID  PTSD_Q1_6mo  PTSD_Q2_6mo  PTSD_Q3_6mo  PTSD_Q4_6mo  PTSD_Q5_6mo  \\\n",
       "0  U200            1            0            0            0            0   \n",
       "1  U398            0            1            2            2            0   \n",
       "2  Z812            2            1            1            2            0   \n",
       "3  U221            0            0            0            0            1   \n",
       "4  U338            2            1            0            1            1   \n",
       "\n",
       "   PTSD_Q6_6mo  PTSD_Q7_6mo  PTSD_Q8_6mo  PTSD_Q9_6mo  ...  \\\n",
       "0            1            0            1            0  ...   \n",
       "1            1            0            3            0  ...   \n",
       "2            1            1            0            0  ...   \n",
       "3            1            2            1            3  ...   \n",
       "4            0            0            0            0  ...   \n",
       "\n",
       "   PTSD_Rx_clonazepam  PTSD_Rx_midazolam  PTSD_Rx_nefazodone  \\\n",
       "0                   1                  0                   0   \n",
       "1                   1                  0                   0   \n",
       "2                   1                  0                   0   \n",
       "3                   0                  0                   0   \n",
       "4                   0                  0                   1   \n",
       "\n",
       "   PTSD_Rx_paroxetine  PTSD_Rx_phenelzine  PTSD_Rx_sertraline  \\\n",
       "0                   0                   0                   0   \n",
       "1                   0                   0                   0   \n",
       "2                   0                   0                   0   \n",
       "3                   0                   0                   1   \n",
       "4                   0                   0                   0   \n",
       "\n",
       "   IncomeCat_125%-200% FPL  IncomeCat_200%-400% FPL  IncomeCat_400%+ FPL  \\\n",
       "0                        0                        0                    0   \n",
       "1                        0                        0                    1   \n",
       "2                        1                        0                    0   \n",
       "3                        0                        0                    0   \n",
       "4                        0                        1                    0   \n",
       "\n",
       "   IncomeCat_<125% FPL  \n",
       "0                    1  \n",
       "1                    0  \n",
       "2                    0  \n",
       "3                    1  \n",
       "4                    0  \n",
       "\n",
       "[5 rows x 39 columns]"
      ]
     },
     "execution_count": 30,
     "metadata": {},
     "output_type": "execute_result"
    }
   ],
   "source": [
    "pd.merge(\n",
    "    pd.merge(cohort.drop(['IncomeCat', 'PTSD_Rx'], axis=1),\n",
    "             meds_dummy,\n",
    "             on='UID', how='outer'),\n",
    "    IncomeCatDummies,\n",
    "    on='UID', how='outer').head()\n",
    "         "
   ]
  },
  {
   "cell_type": "markdown",
   "metadata": {},
   "source": [
    "Below is the more succinct `pd.get_dummies()` solution, where we simply provide the columns which we would like to encode."
   ]
  },
  {
   "cell_type": "code",
   "execution_count": 31,
   "metadata": {},
   "outputs": [
    {
     "data": {
      "text/html": [
       "<div>\n",
       "<style scoped>\n",
       "    .dataframe tbody tr th:only-of-type {\n",
       "        vertical-align: middle;\n",
       "    }\n",
       "\n",
       "    .dataframe tbody tr th {\n",
       "        vertical-align: top;\n",
       "    }\n",
       "\n",
       "    .dataframe thead th {\n",
       "        text-align: right;\n",
       "    }\n",
       "</style>\n",
       "<table border=\"1\" class=\"dataframe\">\n",
       "  <thead>\n",
       "    <tr style=\"text-align: right;\">\n",
       "      <th></th>\n",
       "      <th>UID</th>\n",
       "      <th>PTSD_Q1_6mo</th>\n",
       "      <th>PTSD_Q2_6mo</th>\n",
       "      <th>PTSD_Q3_6mo</th>\n",
       "      <th>PTSD_Q4_6mo</th>\n",
       "      <th>PTSD_Q5_6mo</th>\n",
       "      <th>PTSD_Q6_6mo</th>\n",
       "      <th>PTSD_Q7_6mo</th>\n",
       "      <th>PTSD_Q8_6mo</th>\n",
       "      <th>PTSD_Q9_6mo</th>\n",
       "      <th>...</th>\n",
       "      <th>IncomeCat_125%-200% FPL</th>\n",
       "      <th>IncomeCat_200%-400% FPL</th>\n",
       "      <th>IncomeCat_400%+ FPL</th>\n",
       "      <th>IncomeCat_&lt;125% FPL</th>\n",
       "      <th>PTSD_Rx_clonazepam</th>\n",
       "      <th>PTSD_Rx_midazolam</th>\n",
       "      <th>PTSD_Rx_nefazodone</th>\n",
       "      <th>PTSD_Rx_paroxetine</th>\n",
       "      <th>PTSD_Rx_phenelzine</th>\n",
       "      <th>PTSD_Rx_sertraline</th>\n",
       "    </tr>\n",
       "  </thead>\n",
       "  <tbody>\n",
       "    <tr>\n",
       "      <td>0</td>\n",
       "      <td>U200</td>\n",
       "      <td>1</td>\n",
       "      <td>0</td>\n",
       "      <td>0</td>\n",
       "      <td>0</td>\n",
       "      <td>0</td>\n",
       "      <td>1</td>\n",
       "      <td>0</td>\n",
       "      <td>1</td>\n",
       "      <td>0</td>\n",
       "      <td>...</td>\n",
       "      <td>0</td>\n",
       "      <td>0</td>\n",
       "      <td>0</td>\n",
       "      <td>1</td>\n",
       "      <td>1</td>\n",
       "      <td>0</td>\n",
       "      <td>0</td>\n",
       "      <td>0</td>\n",
       "      <td>0</td>\n",
       "      <td>0</td>\n",
       "    </tr>\n",
       "    <tr>\n",
       "      <td>1</td>\n",
       "      <td>U398</td>\n",
       "      <td>0</td>\n",
       "      <td>1</td>\n",
       "      <td>2</td>\n",
       "      <td>2</td>\n",
       "      <td>0</td>\n",
       "      <td>1</td>\n",
       "      <td>0</td>\n",
       "      <td>3</td>\n",
       "      <td>0</td>\n",
       "      <td>...</td>\n",
       "      <td>0</td>\n",
       "      <td>0</td>\n",
       "      <td>1</td>\n",
       "      <td>0</td>\n",
       "      <td>1</td>\n",
       "      <td>0</td>\n",
       "      <td>0</td>\n",
       "      <td>0</td>\n",
       "      <td>0</td>\n",
       "      <td>0</td>\n",
       "    </tr>\n",
       "    <tr>\n",
       "      <td>2</td>\n",
       "      <td>Z812</td>\n",
       "      <td>2</td>\n",
       "      <td>1</td>\n",
       "      <td>1</td>\n",
       "      <td>2</td>\n",
       "      <td>0</td>\n",
       "      <td>1</td>\n",
       "      <td>1</td>\n",
       "      <td>0</td>\n",
       "      <td>0</td>\n",
       "      <td>...</td>\n",
       "      <td>1</td>\n",
       "      <td>0</td>\n",
       "      <td>0</td>\n",
       "      <td>0</td>\n",
       "      <td>1</td>\n",
       "      <td>0</td>\n",
       "      <td>0</td>\n",
       "      <td>0</td>\n",
       "      <td>0</td>\n",
       "      <td>0</td>\n",
       "    </tr>\n",
       "    <tr>\n",
       "      <td>3</td>\n",
       "      <td>U221</td>\n",
       "      <td>0</td>\n",
       "      <td>0</td>\n",
       "      <td>0</td>\n",
       "      <td>0</td>\n",
       "      <td>1</td>\n",
       "      <td>1</td>\n",
       "      <td>2</td>\n",
       "      <td>1</td>\n",
       "      <td>3</td>\n",
       "      <td>...</td>\n",
       "      <td>0</td>\n",
       "      <td>0</td>\n",
       "      <td>0</td>\n",
       "      <td>1</td>\n",
       "      <td>0</td>\n",
       "      <td>0</td>\n",
       "      <td>0</td>\n",
       "      <td>0</td>\n",
       "      <td>0</td>\n",
       "      <td>1</td>\n",
       "    </tr>\n",
       "    <tr>\n",
       "      <td>4</td>\n",
       "      <td>U338</td>\n",
       "      <td>2</td>\n",
       "      <td>1</td>\n",
       "      <td>0</td>\n",
       "      <td>1</td>\n",
       "      <td>1</td>\n",
       "      <td>0</td>\n",
       "      <td>0</td>\n",
       "      <td>0</td>\n",
       "      <td>0</td>\n",
       "      <td>...</td>\n",
       "      <td>0</td>\n",
       "      <td>1</td>\n",
       "      <td>0</td>\n",
       "      <td>0</td>\n",
       "      <td>0</td>\n",
       "      <td>0</td>\n",
       "      <td>1</td>\n",
       "      <td>0</td>\n",
       "      <td>0</td>\n",
       "      <td>0</td>\n",
       "    </tr>\n",
       "  </tbody>\n",
       "</table>\n",
       "<p>5 rows × 39 columns</p>\n",
       "</div>"
      ],
      "text/plain": [
       "    UID  PTSD_Q1_6mo  PTSD_Q2_6mo  PTSD_Q3_6mo  PTSD_Q4_6mo  PTSD_Q5_6mo  \\\n",
       "0  U200            1            0            0            0            0   \n",
       "1  U398            0            1            2            2            0   \n",
       "2  Z812            2            1            1            2            0   \n",
       "3  U221            0            0            0            0            1   \n",
       "4  U338            2            1            0            1            1   \n",
       "\n",
       "   PTSD_Q6_6mo  PTSD_Q7_6mo  PTSD_Q8_6mo  PTSD_Q9_6mo  ...  \\\n",
       "0            1            0            1            0  ...   \n",
       "1            1            0            3            0  ...   \n",
       "2            1            1            0            0  ...   \n",
       "3            1            2            1            3  ...   \n",
       "4            0            0            0            0  ...   \n",
       "\n",
       "   IncomeCat_125%-200% FPL  IncomeCat_200%-400% FPL  IncomeCat_400%+ FPL  \\\n",
       "0                        0                        0                    0   \n",
       "1                        0                        0                    1   \n",
       "2                        1                        0                    0   \n",
       "3                        0                        0                    0   \n",
       "4                        0                        1                    0   \n",
       "\n",
       "   IncomeCat_<125% FPL  PTSD_Rx_clonazepam  PTSD_Rx_midazolam  \\\n",
       "0                    1                   1                  0   \n",
       "1                    0                   1                  0   \n",
       "2                    0                   1                  0   \n",
       "3                    1                   0                  0   \n",
       "4                    0                   0                  0   \n",
       "\n",
       "   PTSD_Rx_nefazodone  PTSD_Rx_paroxetine  PTSD_Rx_phenelzine  \\\n",
       "0                   0                   0                   0   \n",
       "1                   0                   0                   0   \n",
       "2                   0                   0                   0   \n",
       "3                   0                   0                   0   \n",
       "4                   1                   0                   0   \n",
       "\n",
       "   PTSD_Rx_sertraline  \n",
       "0                   0  \n",
       "1                   0  \n",
       "2                   0  \n",
       "3                   1  \n",
       "4                   0  \n",
       "\n",
       "[5 rows x 39 columns]"
      ]
     },
     "execution_count": 31,
     "metadata": {},
     "output_type": "execute_result"
    }
   ],
   "source": [
    "cohort_analytic = pd.get_dummies(cohort, columns=['IncomeCat', 'PTSD_Rx'])\n",
    "cohort_analytic.head()"
   ]
  },
  {
   "cell_type": "code",
   "execution_count": 32,
   "metadata": {},
   "outputs": [
    {
     "data": {
      "text/plain": [
       "Index(['UID', 'PTSD_Q1_6mo', 'PTSD_Q2_6mo', 'PTSD_Q3_6mo', 'PTSD_Q4_6mo',\n",
       "       'PTSD_Q5_6mo', 'PTSD_Q6_6mo', 'PTSD_Q7_6mo', 'PTSD_Q8_6mo',\n",
       "       'PTSD_Q9_6mo', 'PTSD_Q10_6mo', 'PTSD_Q11_6mo', 'PTSD_Q12_6mo',\n",
       "       'PTSD_Q13_6mo', 'PTSD_Q14_6mo', 'PTSD_Q15_6mo', 'PTSD_Q16_6mo',\n",
       "       'PTSD_Q17_6mo', 'PTSD_Q18_6mo', 'PTSD_Q19_6mo', 'PTSD_Q20_6mo',\n",
       "       'PHQ_Q9_6mo', 'Age', 'TimeFirstDiagnosis_Months', 'AlcAbuse',\n",
       "       'BeckAnxiety_BL', 'SocialSupport', 'PTSD_6mo', 'SRB_6mo',\n",
       "       'IncomeCat_125%-200% FPL', 'IncomeCat_200%-400% FPL',\n",
       "       'IncomeCat_400%+ FPL', 'IncomeCat_<125% FPL', 'PTSD_Rx_clonazepam',\n",
       "       'PTSD_Rx_midazolam', 'PTSD_Rx_nefazodone', 'PTSD_Rx_paroxetine',\n",
       "       'PTSD_Rx_phenelzine', 'PTSD_Rx_sertraline'],\n",
       "      dtype='object')"
      ]
     },
     "execution_count": 32,
     "metadata": {},
     "output_type": "execute_result"
    }
   ],
   "source": [
    "cohort_analytic.columns"
   ]
  },
  {
   "cell_type": "markdown",
   "metadata": {},
   "source": [
    "## Model Fitting\n",
    "\n",
    "The model fitting section in this use case's student assessment prompt is intentionally vague. The code below will include semi-structured walkthroughs and result presentations. Some of the important things to assess to ensure your solution satisfactorally meets the requirements of the assessment are included below:\n",
    "\n",
    "- Including only the meaningful predictor variables of interest:\n",
    "    - Removing the PTSD and PHQ questionnaire variables\n",
    "    - Removing the `IncomeCat` and `PTSD_Rx` variables in favor of the indicator variables you previously created\n",
    "    - Removing outcome variables from irrelevant model (e.g. do not include concurrent PTSD diagnosis as a predictor of SRB) \n",
    "- Specifically applying algorithms with the ability to assess feature importance (see table below) \n",
    "- Understanding the need to fit *classification* models to predict our binary outcomes of SRB and PTSD\n",
    "- Presenting performance metrics of each model such as AUC/concordance\n",
    "- Implementing a training and test split of the data \n",
    "- Evaluating the relationship between predictors of interest and each outcome using model-appropriate metrics (e.g. odds ratios and p-values in logistic regression, feature importance in random forest, etc.)\n",
    "\n",
    "More advanced \"solutions\" may include:\n",
    "- Within a single train/test split, performing k-fold or leave-one-out cross-validation within the training data to identify relevant model parameters \n",
    "- Comparing performance of multiple models and identifying the \"best-fitting\" modelling algorithm\n",
    "- Rather than simply extracted the predicted class of each algorithm, examine the predicted probabilities (for models that calcualte these values)\n",
    "\n",
    "This walkthrough will walk thorugh logistic regression (with and without penalty) in the furthest depth. The script will also briefly examine random forest and SVM, not fully exploring all model diagnostics but presenting these models and comparing results among these three modelling methods.\n",
    "\n",
    "**Models & Feature Importance Meaurses**  \n",
    "*This table is an **extremely** brief summary of modelling algorithms covered in the current course structure and the ability to easily assess feature importance within each sklearn implementation.*\n",
    "\n",
    "|Model|Feature Importance Measure|\n",
    "|--|--|\n",
    "|Logistic Regression|Beta coefficients & p-values|\n",
    "|Random Forest|Feature importance|\n",
    "|Lasso/Elastic Net Regression|Beta coefficients|  \n",
    "\n",
    "**Models with no covariate inference/feature importance assessments (or measurements not covered within current courses)**  \n",
    "\n",
    "|Model|Description|\n",
    "|--|--|\n",
    "|Gaussian Naive Bayes|[Permutation Importance](https://stackoverflow.com/questions/62933365/how-to-get-the-feature-importance-in-gaussian-naive-bayes)|\n",
    "|SVM|[Feature importance assessable only when using linear kernel](https://stackoverflow.com/questions/41592661/determining-the-most-contributing-features-for-svm-classifier-in-sklearn)|\n",
    "|k-Nearest Neighbors|No implementation to assess feature importance|\n"
   ]
  },
  {
   "cell_type": "markdown",
   "metadata": {},
   "source": [
    "A bit of \"pre-processing\" of subsetting the predictors and outcomes into respective objects. This step will be the same regardless of what model and likely independent of what validation you use."
   ]
  },
  {
   "cell_type": "code",
   "execution_count": 33,
   "metadata": {},
   "outputs": [],
   "source": [
    "ptsd_X = cohort_analytic[['Age', 'TimeFirstDiagnosis_Months', 'AlcAbuse',\n",
    "            'BeckAnxiety_BL', 'SocialSupport', 'IncomeCat_125%-200% FPL',\n",
    "            'IncomeCat_200%-400% FPL', 'IncomeCat_400%+ FPL', 'IncomeCat_<125% FPL',\n",
    "            'PTSD_Rx_clonazepam', 'PTSD_Rx_midazolam', 'PTSD_Rx_nefazodone',\n",
    "            'PTSD_Rx_paroxetine', 'PTSD_Rx_phenelzine', 'PTSD_Rx_sertraline']]\n",
    "\n",
    "ptsd_y = cohort_analytic['PTSD_6mo']\n",
    "                 \n",
    "srb_X = cohort_analytic[['Age', 'TimeFirstDiagnosis_Months', 'AlcAbuse',\n",
    "            'BeckAnxiety_BL', 'SocialSupport', 'IncomeCat_125%-200% FPL',\n",
    "            'IncomeCat_200%-400% FPL', 'IncomeCat_400%+ FPL', 'IncomeCat_<125% FPL',\n",
    "            'PTSD_Rx_clonazepam', 'PTSD_Rx_midazolam', 'PTSD_Rx_nefazodone',\n",
    "            'PTSD_Rx_paroxetine','PTSD_Rx_phenelzine', 'PTSD_Rx_sertraline']]\n",
    "\n",
    "srb_y = cohort_analytic['SRB_6mo']                 \n",
    "\n",
    "# If you want to emulate the results exactly from this document, you must set\n",
    "# the random number generation seed using the line of code below prior to running any of the \n",
    "# simulations, data splits, etc. It is *not* best practice to constantly be resetting the seed\n",
    "# as we do in this notebook, rather the seed is more commonly set in the beginning of a notebook\n",
    "# and used throughout, however the seed is repetitively set here solely for convenience of result\n",
    "# comparisons:\n",
    "np.random.seed(5393)"
   ]
  },
  {
   "cell_type": "markdown",
   "metadata": {},
   "source": [
    "### Logistic Regression (Simple Training/Test Split)"
   ]
  },
  {
   "cell_type": "code",
   "execution_count": 34,
   "metadata": {},
   "outputs": [
    {
     "name": "stderr",
     "output_type": "stream",
     "text": [
      "C:\\Users\\Dominic DiSanto\\Anaconda3\\lib\\site-packages\\sklearn\\linear_model\\logistic.py:432: FutureWarning: Default solver will be changed to 'lbfgs' in 0.22. Specify a solver to silence this warning.\n",
      "  FutureWarning)\n"
     ]
    }
   ],
   "source": [
    "np.random.seed(5393)\n",
    "\n",
    "# split X and y into training and testing sets\n",
    "from sklearn.model_selection import train_test_split\n",
    "ptsdX_train, ptsdX_test, ptsdy_train, ptsdy_test = train_test_split(ptsd_X, ptsd_y, test_size=0.20)\n",
    "\n",
    "# Fit the model to our training subset\n",
    "from sklearn.linear_model import LogisticRegression\n",
    "logreg_ptsd = LogisticRegression().fit(ptsdX_train, ptsdy_train)\n",
    "\n",
    "# Predict both classification and probabilities of the test data using our model \n",
    "predictions = logreg_ptsd.predict(ptsdX_test)\n",
    "phats = logreg_ptsd.predict_proba(ptsdX_test).round(4)\n",
    "\n",
    "# We can even create a data frame of predictions\n",
    "prediction_df = pd.DataFrame({\n",
    "    'Class':predictions,\n",
    "    'phat0':phats[:,0],\n",
    "    'phat1':phats[:,1],\n",
    "    'ObsClass':ptsdy_test\n",
    "})"
   ]
  },
  {
   "cell_type": "code",
   "execution_count": 35,
   "metadata": {},
   "outputs": [
    {
     "data": {
      "text/html": [
       "<div>\n",
       "<style scoped>\n",
       "    .dataframe tbody tr th:only-of-type {\n",
       "        vertical-align: middle;\n",
       "    }\n",
       "\n",
       "    .dataframe tbody tr th {\n",
       "        vertical-align: top;\n",
       "    }\n",
       "\n",
       "    .dataframe thead th {\n",
       "        text-align: right;\n",
       "    }\n",
       "</style>\n",
       "<table border=\"1\" class=\"dataframe\">\n",
       "  <thead>\n",
       "    <tr style=\"text-align: right;\">\n",
       "      <th></th>\n",
       "      <th>Class</th>\n",
       "      <th>phat0</th>\n",
       "      <th>phat1</th>\n",
       "      <th>ObsClass</th>\n",
       "    </tr>\n",
       "  </thead>\n",
       "  <tbody>\n",
       "    <tr>\n",
       "      <td>238</td>\n",
       "      <td>0.0</td>\n",
       "      <td>0.9566</td>\n",
       "      <td>0.0434</td>\n",
       "      <td>0.0</td>\n",
       "    </tr>\n",
       "    <tr>\n",
       "      <td>263</td>\n",
       "      <td>0.0</td>\n",
       "      <td>0.7008</td>\n",
       "      <td>0.2992</td>\n",
       "      <td>1.0</td>\n",
       "    </tr>\n",
       "    <tr>\n",
       "      <td>157</td>\n",
       "      <td>0.0</td>\n",
       "      <td>0.6790</td>\n",
       "      <td>0.3210</td>\n",
       "      <td>0.0</td>\n",
       "    </tr>\n",
       "    <tr>\n",
       "      <td>6</td>\n",
       "      <td>0.0</td>\n",
       "      <td>0.8911</td>\n",
       "      <td>0.1089</td>\n",
       "      <td>0.0</td>\n",
       "    </tr>\n",
       "    <tr>\n",
       "      <td>164</td>\n",
       "      <td>1.0</td>\n",
       "      <td>0.3513</td>\n",
       "      <td>0.6487</td>\n",
       "      <td>1.0</td>\n",
       "    </tr>\n",
       "  </tbody>\n",
       "</table>\n",
       "</div>"
      ],
      "text/plain": [
       "     Class   phat0   phat1  ObsClass\n",
       "238    0.0  0.9566  0.0434       0.0\n",
       "263    0.0  0.7008  0.2992       1.0\n",
       "157    0.0  0.6790  0.3210       0.0\n",
       "6      0.0  0.8911  0.1089       0.0\n",
       "164    1.0  0.3513  0.6487       1.0"
      ]
     },
     "execution_count": 35,
     "metadata": {},
     "output_type": "execute_result"
    }
   ],
   "source": [
    "prediction_df.head()"
   ]
  },
  {
   "cell_type": "code",
   "execution_count": 36,
   "metadata": {},
   "outputs": [
    {
     "data": {
      "text/html": [
       "<div>\n",
       "<style scoped>\n",
       "    .dataframe tbody tr th:only-of-type {\n",
       "        vertical-align: middle;\n",
       "    }\n",
       "\n",
       "    .dataframe tbody tr th {\n",
       "        vertical-align: top;\n",
       "    }\n",
       "\n",
       "    .dataframe thead th {\n",
       "        text-align: right;\n",
       "    }\n",
       "</style>\n",
       "<table border=\"1\" class=\"dataframe\">\n",
       "  <thead>\n",
       "    <tr style=\"text-align: right;\">\n",
       "      <th></th>\n",
       "      <th>Class</th>\n",
       "      <th>phat0</th>\n",
       "      <th>phat1</th>\n",
       "      <th>ObsClass</th>\n",
       "    </tr>\n",
       "  </thead>\n",
       "  <tbody>\n",
       "    <tr>\n",
       "      <td>164</td>\n",
       "      <td>1.0</td>\n",
       "      <td>0.3513</td>\n",
       "      <td>0.6487</td>\n",
       "      <td>1.0</td>\n",
       "    </tr>\n",
       "    <tr>\n",
       "      <td>363</td>\n",
       "      <td>1.0</td>\n",
       "      <td>0.3867</td>\n",
       "      <td>0.6133</td>\n",
       "      <td>0.0</td>\n",
       "    </tr>\n",
       "    <tr>\n",
       "      <td>168</td>\n",
       "      <td>1.0</td>\n",
       "      <td>0.1691</td>\n",
       "      <td>0.8309</td>\n",
       "      <td>1.0</td>\n",
       "    </tr>\n",
       "    <tr>\n",
       "      <td>268</td>\n",
       "      <td>1.0</td>\n",
       "      <td>0.3683</td>\n",
       "      <td>0.6317</td>\n",
       "      <td>1.0</td>\n",
       "    </tr>\n",
       "    <tr>\n",
       "      <td>386</td>\n",
       "      <td>1.0</td>\n",
       "      <td>0.4023</td>\n",
       "      <td>0.5977</td>\n",
       "      <td>1.0</td>\n",
       "    </tr>\n",
       "    <tr>\n",
       "      <td>368</td>\n",
       "      <td>1.0</td>\n",
       "      <td>0.2993</td>\n",
       "      <td>0.7007</td>\n",
       "      <td>0.0</td>\n",
       "    </tr>\n",
       "    <tr>\n",
       "      <td>88</td>\n",
       "      <td>1.0</td>\n",
       "      <td>0.3641</td>\n",
       "      <td>0.6359</td>\n",
       "      <td>1.0</td>\n",
       "    </tr>\n",
       "    <tr>\n",
       "      <td>61</td>\n",
       "      <td>1.0</td>\n",
       "      <td>0.1426</td>\n",
       "      <td>0.8574</td>\n",
       "      <td>1.0</td>\n",
       "    </tr>\n",
       "    <tr>\n",
       "      <td>307</td>\n",
       "      <td>1.0</td>\n",
       "      <td>0.4403</td>\n",
       "      <td>0.5597</td>\n",
       "      <td>1.0</td>\n",
       "    </tr>\n",
       "    <tr>\n",
       "      <td>130</td>\n",
       "      <td>1.0</td>\n",
       "      <td>0.4675</td>\n",
       "      <td>0.5325</td>\n",
       "      <td>1.0</td>\n",
       "    </tr>\n",
       "    <tr>\n",
       "      <td>267</td>\n",
       "      <td>1.0</td>\n",
       "      <td>0.4325</td>\n",
       "      <td>0.5675</td>\n",
       "      <td>1.0</td>\n",
       "    </tr>\n",
       "    <tr>\n",
       "      <td>252</td>\n",
       "      <td>1.0</td>\n",
       "      <td>0.4617</td>\n",
       "      <td>0.5383</td>\n",
       "      <td>0.0</td>\n",
       "    </tr>\n",
       "    <tr>\n",
       "      <td>44</td>\n",
       "      <td>1.0</td>\n",
       "      <td>0.2869</td>\n",
       "      <td>0.7131</td>\n",
       "      <td>1.0</td>\n",
       "    </tr>\n",
       "    <tr>\n",
       "      <td>71</td>\n",
       "      <td>1.0</td>\n",
       "      <td>0.4752</td>\n",
       "      <td>0.5248</td>\n",
       "      <td>1.0</td>\n",
       "    </tr>\n",
       "  </tbody>\n",
       "</table>\n",
       "</div>"
      ],
      "text/plain": [
       "     Class   phat0   phat1  ObsClass\n",
       "164    1.0  0.3513  0.6487       1.0\n",
       "363    1.0  0.3867  0.6133       0.0\n",
       "168    1.0  0.1691  0.8309       1.0\n",
       "268    1.0  0.3683  0.6317       1.0\n",
       "386    1.0  0.4023  0.5977       1.0\n",
       "368    1.0  0.2993  0.7007       0.0\n",
       "88     1.0  0.3641  0.6359       1.0\n",
       "61     1.0  0.1426  0.8574       1.0\n",
       "307    1.0  0.4403  0.5597       1.0\n",
       "130    1.0  0.4675  0.5325       1.0\n",
       "267    1.0  0.4325  0.5675       1.0\n",
       "252    1.0  0.4617  0.5383       0.0\n",
       "44     1.0  0.2869  0.7131       1.0\n",
       "71     1.0  0.4752  0.5248       1.0"
      ]
     },
     "execution_count": 36,
     "metadata": {},
     "output_type": "execute_result"
    }
   ],
   "source": [
    "# We can examine the default classifiation behavior, simply predicting \"1\" or an event\n",
    "# where the probaabiity of event is greater than 0.5 (or greater than probability of no event)\n",
    "prediction_df.loc[prediction_df['phat1']>prediction_df['phat0']]"
   ]
  },
  {
   "cell_type": "code",
   "execution_count": 37,
   "metadata": {},
   "outputs": [
    {
     "data": {
      "text/plain": [
       "81.4815"
      ]
     },
     "execution_count": 37,
     "metadata": {},
     "output_type": "execute_result"
    }
   ],
   "source": [
    "# Using the default classification threshold, we can see the percentage of accurate predictions\n",
    "np.round(100*(sum(ptsdy_test == predictions) / len(predictions)), 4)"
   ]
  },
  {
   "cell_type": "code",
   "execution_count": 38,
   "metadata": {},
   "outputs": [
    {
     "data": {
      "text/plain": [
       "0.8148148148148148"
      ]
     },
     "execution_count": 38,
     "metadata": {},
     "output_type": "execute_result"
    }
   ],
   "source": [
    "# Compare the manual calculation above to the sklearn \n",
    "from sklearn import metrics\n",
    "logreg_acc = metrics.accuracy_score(ptsdy_test, predictions)\n",
    "logreg_acc"
   ]
  },
  {
   "cell_type": "code",
   "execution_count": 39,
   "metadata": {},
   "outputs": [
    {
     "data": {
      "text/plain": [
       "0.9235382308845578"
      ]
     },
     "metadata": {},
     "output_type": "display_data"
    },
    {
     "data": {
      "text/plain": [
       "0.9235382308845578"
      ]
     },
     "metadata": {},
     "output_type": "display_data"
    }
   ],
   "source": [
    "# And calculate a c-statistic (equivalent to area under the ROC curve)\n",
    "# Manually \n",
    "count = []\n",
    "for i in prediction_df.loc[prediction_df['ObsClass']==0].index:\n",
    "    for j in prediction_df.loc[prediction_df['ObsClass']==1].index:\n",
    "        if prediction_df.loc[i, 'phat1'] < prediction_df.loc[j, 'phat1']:\n",
    "            count.append(1)\n",
    "        elif prediction_df.loc[i, 'phat1']==prediction_df.loc[j, 'phat1']:\n",
    "            count.append(0.5)\n",
    "        else:\n",
    "            count.append(0)\n",
    "            \n",
    "display(np.mean(count))\n",
    "\n",
    "# And using sklearn\n",
    "logreg_auc = metrics.roc_auc_score(ptsdy_test, phats[:,1])      \n",
    "display(logreg_auc)\n",
    "        "
   ]
  },
  {
   "cell_type": "code",
   "execution_count": 41,
   "metadata": {},
   "outputs": [
    {
     "data": {
      "image/png": "[encoded data removed]",
      "text/plain": [
       "<Figure size 432x288 with 1 Axes>"
      ]
     },
     "metadata": {
      "needs_background": "light"
     },
     "output_type": "display_data"
    }
   ],
   "source": [
    "# We can plot  an ROC curve \n",
    "import matplotlib.pyplot as plt\n",
    "\n",
    "fpr, tpr, thresholds = metrics.roc_curve(ptsdy_test, phats[:,1])\n",
    "\n",
    "plt.plot(fpr, tpr)\n",
    "plt.xlim([0.0, 1.1])\n",
    "plt.ylim([0.0, 1.1])\n",
    "plt.rcParams['font.size'] = 12\n",
    "plt.title('ROC curve for diabetes classifier')\n",
    "plt.xlabel('False Positive Rate (1 - Specificity)')\n",
    "plt.ylabel('True Positive Rate (Sensitivity)')\n",
    "plt.grid(True)"
   ]
  },
  {
   "cell_type": "markdown",
   "metadata": {},
   "source": [
    "In addition to the ROC curve, I find it useful to review the distribution of hte predicted probabilities from our model, stratifying by the true/observed outcome. This plot lets us visualize the separation of the predicted probabilities. We will specifically use the `phat` variable (as the predicted probability of an event, $P(Y=1) = \\hat{p}_1$)."
   ]
  },
  {
   "cell_type": "code",
   "execution_count": 53,
   "metadata": {},
   "outputs": [
    {
     "data": {
      "image/png": "[encoded data removed]",
      "text/plain": [
       "<Figure size 432x288 with 1 Axes>"
      ]
     },
     "metadata": {
      "needs_background": "light"
     },
     "output_type": "display_data"
    }
   ],
   "source": [
    "(prediction_df.loc[prediction_df['ObsClass']==0,'phat1']).plot.density()\n",
    "(prediction_df.loc[prediction_df['ObsClass']==1,'phat1']).plot.density()\n",
    "plt.legend(labels = ['Observed No PTSD', 'PTSD'])\n",
    "plt.xlabel(\"Predicted Probability of PTSD\")\n",
    "plt.ylabel('Density')\n",
    "plt.show()"
   ]
  },
  {
   "cell_type": "code",
   "execution_count": 54,
   "metadata": {},
   "outputs": [],
   "source": [
    "# And examining a model summary to look at coefficients and p-values "
   ]
  },
  {
   "cell_type": "code",
   "execution_count": 55,
   "metadata": {},
   "outputs": [
    {
     "data": {
      "text/plain": [
       "'Age'"
      ]
     },
     "execution_count": 55,
     "metadata": {},
     "output_type": "execute_result"
    }
   ],
   "source": [
    "np.array(ptsdX_train.columns)[0]"
   ]
  },
  {
   "cell_type": "code",
   "execution_count": 59,
   "metadata": {},
   "outputs": [
    {
     "data": {
      "text/html": [
       "<div>\n",
       "<style scoped>\n",
       "    .dataframe tbody tr th:only-of-type {\n",
       "        vertical-align: middle;\n",
       "    }\n",
       "\n",
       "    .dataframe tbody tr th {\n",
       "        vertical-align: top;\n",
       "    }\n",
       "\n",
       "    .dataframe thead th {\n",
       "        text-align: right;\n",
       "    }\n",
       "</style>\n",
       "<table border=\"1\" class=\"dataframe\">\n",
       "  <thead>\n",
       "    <tr style=\"text-align: right;\">\n",
       "      <th></th>\n",
       "      <th>Feature/Covariate</th>\n",
       "      <th>Coefficient</th>\n",
       "    </tr>\n",
       "  </thead>\n",
       "  <tbody>\n",
       "    <tr>\n",
       "      <td>13</td>\n",
       "      <td>PTSD_Rx_phenelzine</td>\n",
       "      <td>-3.194857</td>\n",
       "    </tr>\n",
       "    <tr>\n",
       "      <td>11</td>\n",
       "      <td>PTSD_Rx_nefazodone</td>\n",
       "      <td>-2.788518</td>\n",
       "    </tr>\n",
       "    <tr>\n",
       "      <td>9</td>\n",
       "      <td>PTSD_Rx_clonazepam</td>\n",
       "      <td>-2.450741</td>\n",
       "    </tr>\n",
       "    <tr>\n",
       "      <td>14</td>\n",
       "      <td>PTSD_Rx_sertraline</td>\n",
       "      <td>-2.417471</td>\n",
       "    </tr>\n",
       "    <tr>\n",
       "      <td>10</td>\n",
       "      <td>PTSD_Rx_midazolam</td>\n",
       "      <td>-2.194086</td>\n",
       "    </tr>\n",
       "    <tr>\n",
       "      <td>12</td>\n",
       "      <td>PTSD_Rx_paroxetine</td>\n",
       "      <td>-1.588031</td>\n",
       "    </tr>\n",
       "    <tr>\n",
       "      <td>7</td>\n",
       "      <td>IncomeCat_400%+ FPL</td>\n",
       "      <td>-0.137350</td>\n",
       "    </tr>\n",
       "    <tr>\n",
       "      <td>4</td>\n",
       "      <td>SocialSupport</td>\n",
       "      <td>-0.037846</td>\n",
       "    </tr>\n",
       "    <tr>\n",
       "      <td>3</td>\n",
       "      <td>BeckAnxiety_BL</td>\n",
       "      <td>-0.000694</td>\n",
       "    </tr>\n",
       "    <tr>\n",
       "      <td>0</td>\n",
       "      <td>Age</td>\n",
       "      <td>0.007590</td>\n",
       "    </tr>\n",
       "    <tr>\n",
       "      <td>1</td>\n",
       "      <td>TimeFirstDiagnosis_Months</td>\n",
       "      <td>0.047547</td>\n",
       "    </tr>\n",
       "    <tr>\n",
       "      <td>8</td>\n",
       "      <td>IncomeCat_&lt;125% FPL</td>\n",
       "      <td>0.256270</td>\n",
       "    </tr>\n",
       "    <tr>\n",
       "      <td>5</td>\n",
       "      <td>IncomeCat_125%-200% FPL</td>\n",
       "      <td>0.414178</td>\n",
       "    </tr>\n",
       "    <tr>\n",
       "      <td>6</td>\n",
       "      <td>IncomeCat_200%-400% FPL</td>\n",
       "      <td>0.660897</td>\n",
       "    </tr>\n",
       "    <tr>\n",
       "      <td>2</td>\n",
       "      <td>AlcAbuse</td>\n",
       "      <td>0.928029</td>\n",
       "    </tr>\n",
       "  </tbody>\n",
       "</table>\n",
       "</div>"
      ],
      "text/plain": [
       "            Feature/Covariate  Coefficient\n",
       "13         PTSD_Rx_phenelzine    -3.194857\n",
       "11         PTSD_Rx_nefazodone    -2.788518\n",
       "9          PTSD_Rx_clonazepam    -2.450741\n",
       "14         PTSD_Rx_sertraline    -2.417471\n",
       "10          PTSD_Rx_midazolam    -2.194086\n",
       "12         PTSD_Rx_paroxetine    -1.588031\n",
       "7         IncomeCat_400%+ FPL    -0.137350\n",
       "4               SocialSupport    -0.037846\n",
       "3              BeckAnxiety_BL    -0.000694\n",
       "0                         Age     0.007590\n",
       "1   TimeFirstDiagnosis_Months     0.047547\n",
       "8         IncomeCat_<125% FPL     0.256270\n",
       "5     IncomeCat_125%-200% FPL     0.414178\n",
       "6     IncomeCat_200%-400% FPL     0.660897\n",
       "2                    AlcAbuse     0.928029"
      ]
     },
     "execution_count": 59,
     "metadata": {},
     "output_type": "execute_result"
    }
   ],
   "source": [
    "results_df = pd.DataFrame({\n",
    "    'Feature/Covariate':np.array(ptsdX_train.columns),\n",
    "    'Coefficient':logreg_ptsd.coef_[0]\n",
    "})\n",
    "\n",
    "results_df.sort_values('Coefficient')"
   ]
  }
 ],
 "metadata": {
  "kernelspec": {
   "display_name": "Python 3",
   "language": "python",
   "name": "python3"
  },
  "language_info": {
   "codemirror_mode": {
    "name": "ipython",
    "version": 3
   },
   "file_extension": ".py",
   "mimetype": "text/x-python",
   "name": "python",
   "nbconvert_exporter": "python",
   "pygments_lexer": "ipython3",
   "version": "3.7.4"
  }
 },
 "nbformat": 4,
 "nbformat_minor": 2
}
