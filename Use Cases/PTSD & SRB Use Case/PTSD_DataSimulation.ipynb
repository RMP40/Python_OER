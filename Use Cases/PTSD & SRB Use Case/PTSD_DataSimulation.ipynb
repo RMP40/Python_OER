{
 "cells": [
  {
   "cell_type": "markdown",
   "metadata": {},
   "source": [
    "## **Simulating Data for Python Didactics**\n",
    "### PTSD and Suicidal Ideation: \n",
    "#### **Author(s)**: Dominic DiSanto\n",
    "#### **Written**: 9/28/2020\n",
    "#### **Updated**: 10/07/2020\n",
    "#### **Version**: 0.1\n",
    "\n"
   ]
  },
  {
   "cell_type": "code",
   "execution_count": 1,
   "metadata": {},
   "outputs": [],
   "source": [
    "import scipy as sci\n",
    "import numpy as np\n",
    "import pandas as pd\n",
    "import matplotlib.pyplot as plt\n",
    "np.random.seed(1415)"
   ]
  },
  {
   "cell_type": "markdown",
   "metadata": {},
   "source": [
    "#### General Process\n",
    "***This notebook follows the following general steps/sections:***\n",
    "   1. Generate random patient identifiers (somewhat superfluous but makes the data feel \"genuine\"\n",
    "   2. Generating the early \"research cohort identification\" random ICD data \n",
    "   2. Generate simulated PTSD survey data \n",
    "   3. Generate simulated suicidal ideation (specifically PHQ-9) data\n",
    "   4. Generate relevant covariates containing relevant relationships and \"noise\" \n",
    "   5. Generate prescription data with the desired relatioships to outcomes of interest\n",
    "   6. Export data   \n",
    "     \n",
    "***Steps Outside of This Notebook***\n",
    "   1. Upload relevant files to GitHub and organize in a presentable format \n",
    "   2. Refine/finalize draft of student assessment document \n",
    "   3. Develop notebook that works through proposed \"solution\" and outlines markers of successful completion/competency"
   ]
  },
  {
   "cell_type": "markdown",
   "metadata": {},
   "source": [
    "## (1) Generating Patient Identifier\n",
    "Random alphanumeric variable, just mirroring the structure of identifiers at my previousl clinical research lab for a bit of nostalgia. Nothing too special or even necessary about using these (no merging currently) "
   ]
  },
  {
   "cell_type": "code",
   "execution_count": 2,
   "metadata": {},
   "outputs": [],
   "source": [
    "ids = []\n",
    "\n",
    "while len(ids)<401: # while loop instead of for to prevent any duplicates\n",
    "    new_id = chr(np.random.choice([85, 90], 1)) + str(np.random.choice(range(100, 999), 1)[0])\n",
    "    if new_id not in ids:\n",
    "        ids.append(new_id)"
   ]
  },
  {
   "cell_type": "code",
   "execution_count": 3,
   "metadata": {},
   "outputs": [
    {
     "data": {
      "text/html": [
       "<div>\n",
       "<style scoped>\n",
       "    .dataframe tbody tr th:only-of-type {\n",
       "        vertical-align: middle;\n",
       "    }\n",
       "\n",
       "    .dataframe tbody tr th {\n",
       "        vertical-align: top;\n",
       "    }\n",
       "\n",
       "    .dataframe thead th {\n",
       "        text-align: right;\n",
       "    }\n",
       "</style>\n",
       "<table border=\"1\" class=\"dataframe\">\n",
       "  <thead>\n",
       "    <tr style=\"text-align: right;\">\n",
       "      <th></th>\n",
       "      <th>UID</th>\n",
       "    </tr>\n",
       "  </thead>\n",
       "  <tbody>\n",
       "    <tr>\n",
       "      <td>0</td>\n",
       "      <td>U200</td>\n",
       "    </tr>\n",
       "    <tr>\n",
       "      <td>1</td>\n",
       "      <td>U398</td>\n",
       "    </tr>\n",
       "    <tr>\n",
       "      <td>2</td>\n",
       "      <td>Z812</td>\n",
       "    </tr>\n",
       "    <tr>\n",
       "      <td>3</td>\n",
       "      <td>U221</td>\n",
       "    </tr>\n",
       "    <tr>\n",
       "      <td>4</td>\n",
       "      <td>U338</td>\n",
       "    </tr>\n",
       "  </tbody>\n",
       "</table>\n",
       "</div>"
      ],
      "text/plain": [
       "    UID\n",
       "0  U200\n",
       "1  U398\n",
       "2  Z812\n",
       "3  U221\n",
       "4  U338"
      ]
     },
     "execution_count": 3,
     "metadata": {},
     "output_type": "execute_result"
    }
   ],
   "source": [
    "ptsd_df = pd.DataFrame(data=ids, columns=['UID'])\n",
    "ptsd_df.head()"
   ]
  },
  {
   "cell_type": "markdown",
   "metadata": {},
   "source": [
    "### (2) Generate random ICD data\n",
    "\n",
    "This is used for the first question in the student assessment, which prompts students to identify a research cohort definition. The focus will be on adults with a PTSD diagnosis. I will sample a subset of \"mental distress\" codes (very loosely) and the PTSD diagnosis code. I will mix both ICD9 and ICD10 codes. \n",
    "\n",
    "I will simulate age data as well. I will include more positive diagnoses of PTSD than are included in our final data set (and will ensure they are all adults), simulating some \"loss to follow-up\" in the analytic cdataset compared to the \"identified possibel research cohort. "
   ]
  },
  {
   "cell_type": "code",
   "execution_count": 4,
   "metadata": {},
   "outputs": [],
   "source": [
    "# Importing this from CMS to sample ICD codes\n",
    "# (https://www.cms.gov/Medicare/Coding/ICD9ProviderDiagnosticCodes/codes)\n",
    "icd9 = pd.read_excel(r'C:\\Users\\Dominic DiSanto\\Documents\\Grad School' + \\\n",
    "                     r'\\PHARM_Python\\Use Cases\\PTSD_Britney\\ICD-9-CM-v32-master-descriptions' +\\\n",
    "                     '\\CMS32_DESC_LONG_SHORT_DX.xlsx')"
   ]
  },
  {
   "cell_type": "code",
   "execution_count": 5,
   "metadata": {},
   "outputs": [],
   "source": [
    "icd9['SHORT DESCRIPTION'] = icd9['SHORT DESCRIPTION'].str.lower()\n",
    "icd9['LONG DESCRIPTION'] = icd9['LONG DESCRIPTION'].str.lower()"
   ]
  },
  {
   "cell_type": "code",
   "execution_count": 6,
   "metadata": {},
   "outputs": [
    {
     "data": {
      "text/html": [
       "<div>\n",
       "<style scoped>\n",
       "    .dataframe tbody tr th:only-of-type {\n",
       "        vertical-align: middle;\n",
       "    }\n",
       "\n",
       "    .dataframe tbody tr th {\n",
       "        vertical-align: top;\n",
       "    }\n",
       "\n",
       "    .dataframe thead th {\n",
       "        text-align: right;\n",
       "    }\n",
       "</style>\n",
       "<table border=\"1\" class=\"dataframe\">\n",
       "  <thead>\n",
       "    <tr style=\"text-align: right;\">\n",
       "      <th></th>\n",
       "      <th>DIAGNOSIS CODE</th>\n",
       "      <th>LONG DESCRIPTION</th>\n",
       "      <th>SHORT DESCRIPTION</th>\n",
       "    </tr>\n",
       "  </thead>\n",
       "  <tbody>\n",
       "    <tr>\n",
       "      <td>0</td>\n",
       "      <td>0010</td>\n",
       "      <td>cholera due to vibrio cholerae</td>\n",
       "      <td>cholera d/t vib cholerae</td>\n",
       "    </tr>\n",
       "    <tr>\n",
       "      <td>1</td>\n",
       "      <td>0011</td>\n",
       "      <td>cholera due to vibrio cholerae el tor</td>\n",
       "      <td>cholera d/t vib el tor</td>\n",
       "    </tr>\n",
       "    <tr>\n",
       "      <td>2</td>\n",
       "      <td>0019</td>\n",
       "      <td>cholera, unspecified</td>\n",
       "      <td>cholera nos</td>\n",
       "    </tr>\n",
       "    <tr>\n",
       "      <td>3</td>\n",
       "      <td>0020</td>\n",
       "      <td>typhoid fever</td>\n",
       "      <td>typhoid fever</td>\n",
       "    </tr>\n",
       "    <tr>\n",
       "      <td>4</td>\n",
       "      <td>0021</td>\n",
       "      <td>paratyphoid fever a</td>\n",
       "      <td>paratyphoid fever a</td>\n",
       "    </tr>\n",
       "  </tbody>\n",
       "</table>\n",
       "</div>"
      ],
      "text/plain": [
       "  DIAGNOSIS CODE                       LONG DESCRIPTION  \\\n",
       "0           0010         cholera due to vibrio cholerae   \n",
       "1           0011  cholera due to vibrio cholerae el tor   \n",
       "2           0019                   cholera, unspecified   \n",
       "3           0020                          typhoid fever   \n",
       "4           0021                    paratyphoid fever a   \n",
       "\n",
       "          SHORT DESCRIPTION  \n",
       "0  cholera d/t vib cholerae  \n",
       "1    cholera d/t vib el tor  \n",
       "2               cholera nos  \n",
       "3             typhoid fever  \n",
       "4       paratyphoid fever a  "
      ]
     },
     "execution_count": 6,
     "metadata": {},
     "output_type": "execute_result"
    }
   ],
   "source": [
    "icd9.head()"
   ]
  },
  {
   "cell_type": "code",
   "execution_count": 7,
   "metadata": {},
   "outputs": [],
   "source": [
    "# Found a nice csv of icd10 codes (https://github.com/kamillamagna/ICD-10-CSV)\n",
    "icd10 = pd.read_csv(r'C:\\Users\\Dominic DiSanto\\Documents\\Grad School\\PHARM_Python\\Use Cases\\\\' +\\\n",
    "                 r'PTSD_Britney\\icd10codes.csv', \n",
    "                   names=['Code_Pre', 'Code_Suff', 'Code', 'Descr', 'Descr2', 'ShortDescr'])\n",
    "icd10 = icd10[['Code', 'Descr']]"
   ]
  },
  {
   "cell_type": "markdown",
   "metadata": {},
   "source": [
    "Identifying codes to include (other than the PTSD codes of interest, e.g. some \"noise\")"
   ]
  },
  {
   "cell_type": "code",
   "execution_count": 8,
   "metadata": {},
   "outputs": [],
   "source": [
    "mental_icd = icd10.loc[icd10['Descr'].str.contains('mental'), 'Code'].append(\n",
    "    icd9.loc[icd9['SHORT DESCRIPTION'].str.contains('mental'), 'DIAGNOSIS CODE'])"
   ]
  },
  {
   "cell_type": "markdown",
   "metadata": {},
   "source": [
    "Creating a sample of these noisy codes, then assigning random patient identifiers "
   ]
  },
  {
   "cell_type": "code",
   "execution_count": 9,
   "metadata": {},
   "outputs": [],
   "source": [
    "icd_data=np.append(np.random.choice(mental_icd, size=9400, replace=True), \n",
    "         np.random.choice(['309.81', 'F43.10', 'F43.11', 'F43.12'], size=600, replace=True))\n"
   ]
  },
  {
   "cell_type": "markdown",
   "metadata": {},
   "source": [
    "Lastly generating some age data, hoping to get some peds and some older folks"
   ]
  },
  {
   "cell_type": "code",
   "execution_count": 10,
   "metadata": {},
   "outputs": [],
   "source": [
    "icd_dict = {\n",
    "    'PatientID': np.random.choice(range(1, 999), 10000, replace=True),\n",
    "    'ICDCode': icd_data,\n",
    "}"
   ]
  },
  {
   "cell_type": "code",
   "execution_count": 11,
   "metadata": {},
   "outputs": [],
   "source": [
    "age = np.random.normal(34, 16, len(set(icd_dict['PatientID'])))\n",
    "\n",
    "age[age<14] = 14\n",
    "age[age>70] = 70\n",
    "age = np.round(age, 0).astype(int)\n",
    "\n",
    "age_df = pd.DataFrame(\n",
    "    {'PatientID': np.random.choice(list(set(icd_dict['PatientID'])), size=len(age), replace=False),\n",
    "    'Age': age}\n",
    ")"
   ]
  },
  {
   "cell_type": "code",
   "execution_count": 12,
   "metadata": {},
   "outputs": [
    {
     "data": {
      "text/plain": [
       "10000"
      ]
     },
     "execution_count": 12,
     "metadata": {},
     "output_type": "execute_result"
    }
   ],
   "source": [
    "len(icd_dict['PatientID'])"
   ]
  },
  {
   "cell_type": "code",
   "execution_count": 13,
   "metadata": {},
   "outputs": [],
   "source": [
    "icd_extract_df = pd.merge(pd.DataFrame(icd_dict).sort_values('PatientID'),\n",
    "                       age_df,\n",
    "                       on='PatientID', how='outer')\n",
    "\n",
    "# Ensuring all of our diagnosis of interest are \n",
    "#icd_extract_df"
   ]
  },
  {
   "cell_type": "code",
   "execution_count": 14,
   "metadata": {},
   "outputs": [],
   "source": [
    "#for i in icd_extract_df[icd_extract_df['ICDCode'].str.contains('309.81|F43.10|F43.11|F43.12')].index:\n",
    "#    icd_extract_df.loc[i, 'Age'] = min(65, max(18, icd_extract_df.loc[i, 'Age']))\n",
    "\n",
    "# this loop ensures at least slightly more than the analytic cohort in the remaining assessment are\n",
    "# of the correct age range and with a PTSD diagnosis for \"inclusion\" in the study \n",
    "if icd_extract_df[(icd_extract_df['ICDCode'].str.contains('309.81|F43.10|F43.11|F43.12')) & \n",
    "              (icd_extract_df['Age']>18) & (icd_extract_df['Age']<65)].shape[0]<401:\n",
    "    for i in np.random.choice(icd_extract_df[\n",
    "        icd_extract_df['ICDCode'].str.contains('309.81|F43.10|F43.11|F43.12')].index,\n",
    "                    size=450, replace=False):\n",
    "        icd_extract_df[i, 'Age'] = max(18, min(64, icd_extract_df[i, 'Age']))"
   ]
  },
  {
   "cell_type": "code",
   "execution_count": 15,
   "metadata": {},
   "outputs": [
    {
     "data": {
      "text/html": [
       "<div>\n",
       "<style scoped>\n",
       "    .dataframe tbody tr th:only-of-type {\n",
       "        vertical-align: middle;\n",
       "    }\n",
       "\n",
       "    .dataframe tbody tr th {\n",
       "        vertical-align: top;\n",
       "    }\n",
       "\n",
       "    .dataframe thead th {\n",
       "        text-align: right;\n",
       "    }\n",
       "</style>\n",
       "<table border=\"1\" class=\"dataframe\">\n",
       "  <thead>\n",
       "    <tr style=\"text-align: right;\">\n",
       "      <th></th>\n",
       "      <th>PatientID</th>\n",
       "      <th>ICDCode</th>\n",
       "      <th>Age</th>\n",
       "    </tr>\n",
       "  </thead>\n",
       "  <tbody>\n",
       "    <tr>\n",
       "      <td>79</td>\n",
       "      <td>9</td>\n",
       "      <td>F43.10</td>\n",
       "      <td>28</td>\n",
       "    </tr>\n",
       "    <tr>\n",
       "      <td>82</td>\n",
       "      <td>10</td>\n",
       "      <td>309.81</td>\n",
       "      <td>32</td>\n",
       "    </tr>\n",
       "    <tr>\n",
       "      <td>90</td>\n",
       "      <td>11</td>\n",
       "      <td>F43.12</td>\n",
       "      <td>49</td>\n",
       "    </tr>\n",
       "    <tr>\n",
       "      <td>120</td>\n",
       "      <td>15</td>\n",
       "      <td>309.81</td>\n",
       "      <td>57</td>\n",
       "    </tr>\n",
       "    <tr>\n",
       "      <td>123</td>\n",
       "      <td>15</td>\n",
       "      <td>309.81</td>\n",
       "      <td>57</td>\n",
       "    </tr>\n",
       "    <tr>\n",
       "      <td>...</td>\n",
       "      <td>...</td>\n",
       "      <td>...</td>\n",
       "      <td>...</td>\n",
       "    </tr>\n",
       "    <tr>\n",
       "      <td>9937</td>\n",
       "      <td>993</td>\n",
       "      <td>F43.10</td>\n",
       "      <td>51</td>\n",
       "    </tr>\n",
       "    <tr>\n",
       "      <td>9938</td>\n",
       "      <td>993</td>\n",
       "      <td>F43.12</td>\n",
       "      <td>51</td>\n",
       "    </tr>\n",
       "    <tr>\n",
       "      <td>9953</td>\n",
       "      <td>994</td>\n",
       "      <td>F43.12</td>\n",
       "      <td>33</td>\n",
       "    </tr>\n",
       "    <tr>\n",
       "      <td>9957</td>\n",
       "      <td>994</td>\n",
       "      <td>F43.12</td>\n",
       "      <td>33</td>\n",
       "    </tr>\n",
       "    <tr>\n",
       "      <td>9971</td>\n",
       "      <td>996</td>\n",
       "      <td>309.81</td>\n",
       "      <td>31</td>\n",
       "    </tr>\n",
       "  </tbody>\n",
       "</table>\n",
       "<p>482 rows × 3 columns</p>\n",
       "</div>"
      ],
      "text/plain": [
       "      PatientID ICDCode  Age\n",
       "79            9  F43.10   28\n",
       "82           10  309.81   32\n",
       "90           11  F43.12   49\n",
       "120          15  309.81   57\n",
       "123          15  309.81   57\n",
       "...         ...     ...  ...\n",
       "9937        993  F43.10   51\n",
       "9938        993  F43.12   51\n",
       "9953        994  F43.12   33\n",
       "9957        994  F43.12   33\n",
       "9971        996  309.81   31\n",
       "\n",
       "[482 rows x 3 columns]"
      ]
     },
     "execution_count": 15,
     "metadata": {},
     "output_type": "execute_result"
    }
   ],
   "source": [
    "icd_extract_df[(icd_extract_df['ICDCode'].str.contains('309.81|F43.10|F43.11|F43.12')) & \n",
    "              (icd_extract_df['Age']>18) & (icd_extract_df['Age']<65)]"
   ]
  },
  {
   "cell_type": "code",
   "execution_count": 16,
   "metadata": {},
   "outputs": [],
   "source": [
    "icd_extract_df.to_csv('PossiblePatients_ICD.csv')"
   ]
  },
  {
   "cell_type": "markdown",
   "metadata": {},
   "source": [
    "## (2) Generating 6-month PTSD Data\n",
    "Using the [PTSD Civilian Checklist - Version 5](https://www.ptsd.va.gov/professional/assessment/documents/PCL5_Standard_form.PDF) to generate data usable for PTSD symptom assessment and diagnosis. Data includes 20 Likert Scale measured questions. I will begin by creating the 6-month outcome variable. From this variable, I will create other covariates with relationships/correlations of interest:"
   ]
  },
  {
   "cell_type": "code",
   "execution_count": 17,
   "metadata": {},
   "outputs": [],
   "source": [
    "for i in range(1, 21): # generate random PTSD data with little-to-no positive diagnoses\n",
    "    ptsd_df['PTSD_Q' + str(i) + '_6mo'] = np.random.choice(range(0, 5),\n",
    "                                                           size=ptsd_df.shape[0], replace=True,\n",
    "                                                          p=[0.4, 0.3, 0.15, 0.1, 0.05])\n",
    "\n",
    "# randomly sample ~40% of the population and give them diagnoses\n",
    "#sample = np.random.randint(0, high=ptsd_df.shape[0], size=int(np.floor(ptsd_df.shape[0]/2)))\n",
    "\n",
    "#for i in range(1, 21): \n",
    "#    for j in sample:\n",
    "#        ptsd_df.loc[j, 'PTSD_Q' + str(i) + '_6mo'] = np.random.choice(range(0, 5),\n",
    "#                                                           size=1, replace=True,\n",
    "#                                                          p=[0.1, 0.2, 0.4, 0.15, 0.15])\n",
    "\n",
    "#ptsd_df.loc[sample].head()"
   ]
  },
  {
   "cell_type": "code",
   "execution_count": 18,
   "metadata": {},
   "outputs": [
    {
     "data": {
      "image/png": "[encoded data removed]",
      "text/plain": [
       "<Figure size 432x288 with 1 Axes>"
      ]
     },
     "metadata": {
      "needs_background": "light"
     },
     "output_type": "display_data"
    }
   ],
   "source": [
    "ptsd_df[[col for col in ptsd_df.columns if col.startswith('PTSD') and \n",
    "                                           col.endswith('6mo')]].sum(axis=1).plot.density()\n",
    "plt.show()"
   ]
  },
  {
   "cell_type": "code",
   "execution_count": 19,
   "metadata": {},
   "outputs": [],
   "source": [
    "#### Generating PTSD Variable (code also included in walkthrough\n",
    "for i in range(0, ptsd_df.shape[0]):\n",
    "    if min(max(ptsd_df.iloc[i, 1:6]), max(ptsd_df.iloc[i, 6:8]), \n",
    "           max(ptsd_df.iloc[i, 8:15]), max(ptsd_df.iloc[i, 15:21]))>=2:\n",
    "        ptsd_df.loc[i, 'PTSD_6mo'] = 1\n",
    "    else:\n",
    "        ptsd_df.loc[i, 'PTSD_6mo'] = 0\n"
   ]
  },
  {
   "cell_type": "code",
   "execution_count": 20,
   "metadata": {},
   "outputs": [
    {
     "data": {
      "text/plain": [
       "0.0    258\n",
       "1.0    143\n",
       "Name: PTSD_6mo, dtype: int64"
      ]
     },
     "execution_count": 20,
     "metadata": {},
     "output_type": "execute_result"
    }
   ],
   "source": [
    "ptsd_df['PTSD_6mo'].value_counts()"
   ]
  },
  {
   "cell_type": "markdown",
   "metadata": {},
   "source": [
    "## (3) Generating 6-Month SRB Data (PHQ-9)\n",
    "Using the [Patient-Health-Questionnaire (PHQ-9)](https://www.mdcalc.com/phq-9-patient-health-questionnaire-9) to assess symptom of suicidal \"ideation\" or \"endorsement\". I did not generate the first 8 questions, as these were not used and I thought we could keep the data cleaning simple (at least compared to the VA use case or other \"data annoyance\" use cases). We can always generate these other 8 questions/variables later, and have students generate a depression symptom inventory sum score as a feature (which is a fairly simple data simin teh loop below and simple data cleaning with a row sum). \n",
    "\n",
    "*I don't currently include an lit references for PHQ-9 but can pull info for both the use of it in assessing suicidality and generally in depression*"
   ]
  },
  {
   "cell_type": "code",
   "execution_count": 21,
   "metadata": {},
   "outputs": [
    {
     "data": {
      "text/html": [
       "<div>\n",
       "<style scoped>\n",
       "    .dataframe tbody tr th:only-of-type {\n",
       "        vertical-align: middle;\n",
       "    }\n",
       "\n",
       "    .dataframe tbody tr th {\n",
       "        vertical-align: top;\n",
       "    }\n",
       "\n",
       "    .dataframe thead th {\n",
       "        text-align: right;\n",
       "    }\n",
       "</style>\n",
       "<table border=\"1\" class=\"dataframe\">\n",
       "  <thead>\n",
       "    <tr style=\"text-align: right;\">\n",
       "      <th></th>\n",
       "      <th>UID</th>\n",
       "      <th>PTSD_Q1_6mo</th>\n",
       "      <th>PTSD_Q2_6mo</th>\n",
       "      <th>PTSD_Q3_6mo</th>\n",
       "      <th>PTSD_Q4_6mo</th>\n",
       "      <th>PTSD_Q5_6mo</th>\n",
       "      <th>PTSD_Q6_6mo</th>\n",
       "      <th>PTSD_Q7_6mo</th>\n",
       "      <th>PTSD_Q8_6mo</th>\n",
       "      <th>PTSD_Q9_6mo</th>\n",
       "      <th>...</th>\n",
       "      <th>PTSD_Q13_6mo</th>\n",
       "      <th>PTSD_Q14_6mo</th>\n",
       "      <th>PTSD_Q15_6mo</th>\n",
       "      <th>PTSD_Q16_6mo</th>\n",
       "      <th>PTSD_Q17_6mo</th>\n",
       "      <th>PTSD_Q18_6mo</th>\n",
       "      <th>PTSD_Q19_6mo</th>\n",
       "      <th>PTSD_Q20_6mo</th>\n",
       "      <th>PTSD_6mo</th>\n",
       "      <th>PHQ_Q9_6mo</th>\n",
       "    </tr>\n",
       "  </thead>\n",
       "  <tbody>\n",
       "    <tr>\n",
       "      <td>0</td>\n",
       "      <td>U200</td>\n",
       "      <td>1</td>\n",
       "      <td>0</td>\n",
       "      <td>0</td>\n",
       "      <td>0</td>\n",
       "      <td>0</td>\n",
       "      <td>1</td>\n",
       "      <td>0</td>\n",
       "      <td>1</td>\n",
       "      <td>0</td>\n",
       "      <td>...</td>\n",
       "      <td>4</td>\n",
       "      <td>2</td>\n",
       "      <td>2</td>\n",
       "      <td>0</td>\n",
       "      <td>0</td>\n",
       "      <td>1</td>\n",
       "      <td>0</td>\n",
       "      <td>0</td>\n",
       "      <td>0.0</td>\n",
       "      <td>0.0</td>\n",
       "    </tr>\n",
       "    <tr>\n",
       "      <td>1</td>\n",
       "      <td>U398</td>\n",
       "      <td>0</td>\n",
       "      <td>1</td>\n",
       "      <td>2</td>\n",
       "      <td>2</td>\n",
       "      <td>0</td>\n",
       "      <td>1</td>\n",
       "      <td>0</td>\n",
       "      <td>3</td>\n",
       "      <td>0</td>\n",
       "      <td>...</td>\n",
       "      <td>2</td>\n",
       "      <td>1</td>\n",
       "      <td>1</td>\n",
       "      <td>1</td>\n",
       "      <td>2</td>\n",
       "      <td>0</td>\n",
       "      <td>0</td>\n",
       "      <td>2</td>\n",
       "      <td>0.0</td>\n",
       "      <td>0.0</td>\n",
       "    </tr>\n",
       "    <tr>\n",
       "      <td>2</td>\n",
       "      <td>Z812</td>\n",
       "      <td>2</td>\n",
       "      <td>1</td>\n",
       "      <td>1</td>\n",
       "      <td>2</td>\n",
       "      <td>0</td>\n",
       "      <td>1</td>\n",
       "      <td>1</td>\n",
       "      <td>0</td>\n",
       "      <td>0</td>\n",
       "      <td>...</td>\n",
       "      <td>0</td>\n",
       "      <td>1</td>\n",
       "      <td>0</td>\n",
       "      <td>1</td>\n",
       "      <td>0</td>\n",
       "      <td>1</td>\n",
       "      <td>0</td>\n",
       "      <td>4</td>\n",
       "      <td>0.0</td>\n",
       "      <td>0.0</td>\n",
       "    </tr>\n",
       "    <tr>\n",
       "      <td>3</td>\n",
       "      <td>U221</td>\n",
       "      <td>0</td>\n",
       "      <td>0</td>\n",
       "      <td>0</td>\n",
       "      <td>0</td>\n",
       "      <td>1</td>\n",
       "      <td>1</td>\n",
       "      <td>2</td>\n",
       "      <td>1</td>\n",
       "      <td>3</td>\n",
       "      <td>...</td>\n",
       "      <td>0</td>\n",
       "      <td>2</td>\n",
       "      <td>3</td>\n",
       "      <td>1</td>\n",
       "      <td>0</td>\n",
       "      <td>0</td>\n",
       "      <td>3</td>\n",
       "      <td>0</td>\n",
       "      <td>0.0</td>\n",
       "      <td>0.0</td>\n",
       "    </tr>\n",
       "    <tr>\n",
       "      <td>4</td>\n",
       "      <td>U338</td>\n",
       "      <td>2</td>\n",
       "      <td>1</td>\n",
       "      <td>0</td>\n",
       "      <td>1</td>\n",
       "      <td>1</td>\n",
       "      <td>0</td>\n",
       "      <td>0</td>\n",
       "      <td>0</td>\n",
       "      <td>0</td>\n",
       "      <td>...</td>\n",
       "      <td>2</td>\n",
       "      <td>0</td>\n",
       "      <td>1</td>\n",
       "      <td>2</td>\n",
       "      <td>0</td>\n",
       "      <td>0</td>\n",
       "      <td>1</td>\n",
       "      <td>0</td>\n",
       "      <td>0.0</td>\n",
       "      <td>2.0</td>\n",
       "    </tr>\n",
       "  </tbody>\n",
       "</table>\n",
       "<p>5 rows × 23 columns</p>\n",
       "</div>"
      ],
      "text/plain": [
       "    UID  PTSD_Q1_6mo  PTSD_Q2_6mo  PTSD_Q3_6mo  PTSD_Q4_6mo  PTSD_Q5_6mo  \\\n",
       "0  U200            1            0            0            0            0   \n",
       "1  U398            0            1            2            2            0   \n",
       "2  Z812            2            1            1            2            0   \n",
       "3  U221            0            0            0            0            1   \n",
       "4  U338            2            1            0            1            1   \n",
       "\n",
       "   PTSD_Q6_6mo  PTSD_Q7_6mo  PTSD_Q8_6mo  PTSD_Q9_6mo  ...  PTSD_Q13_6mo  \\\n",
       "0            1            0            1            0  ...             4   \n",
       "1            1            0            3            0  ...             2   \n",
       "2            1            1            0            0  ...             0   \n",
       "3            1            2            1            3  ...             0   \n",
       "4            0            0            0            0  ...             2   \n",
       "\n",
       "   PTSD_Q14_6mo  PTSD_Q15_6mo  PTSD_Q16_6mo  PTSD_Q17_6mo  PTSD_Q18_6mo  \\\n",
       "0             2             2             0             0             1   \n",
       "1             1             1             1             2             0   \n",
       "2             1             0             1             0             1   \n",
       "3             2             3             1             0             0   \n",
       "4             0             1             2             0             0   \n",
       "\n",
       "   PTSD_Q19_6mo  PTSD_Q20_6mo  PTSD_6mo  PHQ_Q9_6mo  \n",
       "0             0             0       0.0         0.0  \n",
       "1             0             2       0.0         0.0  \n",
       "2             0             4       0.0         0.0  \n",
       "3             3             0       0.0         0.0  \n",
       "4             1             0       0.0         2.0  \n",
       "\n",
       "[5 rows x 23 columns]"
      ]
     },
     "execution_count": 21,
     "metadata": {},
     "output_type": "execute_result"
    }
   ],
   "source": [
    "#for i in range(1, 9): # Omitting non suicidal ideation related PHQ0 questions for now simply for \n",
    "                       # brevity/simplicity. Easy to add in if we want students to clean and use a \n",
    "                       # depression symptom inventory as a feature. \n",
    "#    ptsd_df['PHQ_Q' + str(i) + '_6mo'] = np.random.choice(range(0, 4),\n",
    "#                                                           size=ptsd_df.shape[0], replace=True)\n",
    "\n",
    "ptsd_df.loc[ptsd_df['PTSD_6mo']==0, 'PHQ_Q9_6mo'] = np.random.choice(range(0, 4),\n",
    "                                                   size=ptsd_df.loc[ptsd_df['PTSD_6mo']==0].shape[0],\n",
    "                                                                    replace=True, \n",
    "                                                                    p=[0.65, 0.15, 0.1, 0.1])\n",
    "\n",
    "ptsd_df.loc[ptsd_df['PTSD_6mo']==1, 'PHQ_Q9_6mo'] = np.random.choice(range(0, 4),\n",
    "                                                   size=ptsd_df.loc[ptsd_df['PTSD_6mo']==1].shape[0],\n",
    "                                                                    replace=True, \n",
    "                                                                    p=[0.45, 0.25, 0.2, 0.1])\n",
    "\n",
    "ptsd_df.head()"
   ]
  },
  {
   "cell_type": "code",
   "execution_count": 22,
   "metadata": {},
   "outputs": [
    {
     "data": {
      "image/png": "[encoded data removed]",
      "text/plain": [
       "<Figure size 432x288 with 1 Axes>"
      ]
     },
     "metadata": {
      "needs_background": "light"
     },
     "output_type": "display_data"
    }
   ],
   "source": [
    "ptsd_df['PHQ_Q9_6mo'].plot.hist()\n",
    "plt.show()"
   ]
  },
  {
   "cell_type": "code",
   "execution_count": 23,
   "metadata": {},
   "outputs": [],
   "source": [
    "ptsd_df['SRB_6mo'] = np.where(ptsd_df['PHQ_Q9_6mo']==0, 0, 1)"
   ]
  },
  {
   "cell_type": "code",
   "execution_count": 24,
   "metadata": {},
   "outputs": [
    {
     "name": "stdout",
     "output_type": "stream",
     "text": [
      "For patients with PTSD Diagnosis of 0.0, 84 (32.56%) has a positive diagnosis of SRB.\n",
      "For patients with PTSD Diagnosis of 1.0, 79 (55.24%) has a positive diagnosis of SRB.\n"
     ]
    }
   ],
   "source": [
    "for i in set(ptsd_df['PTSD_6mo']):\n",
    "    freq = ptsd_df.loc[ptsd_df['PTSD_6mo']==i, 'SRB_6mo'].value_counts()[1]\n",
    "    pct = round(ptsd_df.loc[ptsd_df['PTSD_6mo']==i, 'SRB_6mo'].value_counts()[1] / \\\n",
    "    ptsd_df.loc[ptsd_df['PTSD_6mo']==i].shape[0], 4)*100\n",
    "    print('For patients with PTSD Diagnosis of ' + str(i) + ', ' + str(freq) + ' (' + str(pct) + \n",
    "          '%) has a positive diagnosis of SRB.')"
   ]
  },
  {
   "cell_type": "markdown",
   "metadata": {},
   "source": [
    "## (4) Generating Covariates\n",
    "\n",
    "### (4a) Age\n",
    "Normal distribution, and I somewhat arbitrarily created relationships here by different combinations of SRB and PTSD. I didn't pull literature to justify these relationships, simply thought of ones that may be reasonable. Each \"if\" clause generates a different normal distribution of age, with younger patients being susceptible to suicidal behavior, and middle-young age patients more likely to present both SRB and PTSD at 6-months. "
   ]
  },
  {
   "cell_type": "code",
   "execution_count": 25,
   "metadata": {},
   "outputs": [],
   "source": [
    "ptsd_df['Age']=np.nan\n",
    "\n",
    "for i in range(0, ptsd_df.shape[0]):\n",
    "    if ptsd_df.loc[i, 'PTSD_6mo']==1 and ptsd_df.loc[i, 'SRB_6mo']==1:\n",
    "        ptsd_df.loc[i, 'Age'] = round(max(np.random.normal(25, 3), 18), 0)\n",
    "    if ptsd_df.loc[i, 'PTSD_6mo']==1 and ptsd_df.loc[i, 'SRB_6mo']==0:\n",
    "        ptsd_df.loc[i, 'Age'] = round(max(np.random.normal(40, 6), 18), 0)\n",
    "    if ptsd_df.loc[i, 'PTSD_6mo']==0 and ptsd_df.loc[i, 'SRB_6mo']==1:\n",
    "        ptsd_df.loc[i, 'Age'] = round(max(np.random.normal(19, 1), 18), 0)\n",
    "    if ptsd_df.loc[i, 'PTSD_6mo']==0 and ptsd_df.loc[i, 'SRB_6mo']==0:\n",
    "        ptsd_df.loc[i, 'Age'] = round(max(np.random.normal(40, 10), 18), 0)"
   ]
  },
  {
   "cell_type": "code",
   "execution_count": 26,
   "metadata": {},
   "outputs": [
    {
     "data": {
      "text/plain": [
       "<matplotlib.axes._subplots.AxesSubplot at 0x1b202ef0688>"
      ]
     },
     "execution_count": 26,
     "metadata": {},
     "output_type": "execute_result"
    },
    {
     "data": {
      "image/png": "[encoded data removed]",
      "text/plain": [
       "<Figure size 432x288 with 1 Axes>"
      ]
     },
     "metadata": {
      "needs_background": "light"
     },
     "output_type": "display_data"
    }
   ],
   "source": [
    "ptsd_df['Age'].plot.density()"
   ]
  },
  {
   "cell_type": "code",
   "execution_count": 27,
   "metadata": {},
   "outputs": [
    {
     "data": {
      "text/html": [
       "<div>\n",
       "<style scoped>\n",
       "    .dataframe tbody tr th:only-of-type {\n",
       "        vertical-align: middle;\n",
       "    }\n",
       "\n",
       "    .dataframe tbody tr th {\n",
       "        vertical-align: top;\n",
       "    }\n",
       "\n",
       "    .dataframe thead tr th {\n",
       "        text-align: left;\n",
       "    }\n",
       "\n",
       "    .dataframe thead tr:last-of-type th {\n",
       "        text-align: right;\n",
       "    }\n",
       "</style>\n",
       "<table border=\"1\" class=\"dataframe\">\n",
       "  <thead>\n",
       "    <tr>\n",
       "      <th></th>\n",
       "      <th></th>\n",
       "      <th colspan=\"3\" halign=\"left\">Age</th>\n",
       "    </tr>\n",
       "    <tr>\n",
       "      <th></th>\n",
       "      <th></th>\n",
       "      <th>count</th>\n",
       "      <th>mean</th>\n",
       "      <th>std</th>\n",
       "    </tr>\n",
       "    <tr>\n",
       "      <th>PTSD_6mo</th>\n",
       "      <th>SRB_6mo</th>\n",
       "      <th></th>\n",
       "      <th></th>\n",
       "      <th></th>\n",
       "    </tr>\n",
       "  </thead>\n",
       "  <tbody>\n",
       "    <tr>\n",
       "      <td rowspan=\"2\" valign=\"top\">0.0</td>\n",
       "      <td>0</td>\n",
       "      <td>174</td>\n",
       "      <td>40.706897</td>\n",
       "      <td>9.078989</td>\n",
       "    </tr>\n",
       "    <tr>\n",
       "      <td>1</td>\n",
       "      <td>84</td>\n",
       "      <td>18.964286</td>\n",
       "      <td>0.813240</td>\n",
       "    </tr>\n",
       "    <tr>\n",
       "      <td rowspan=\"2\" valign=\"top\">1.0</td>\n",
       "      <td>0</td>\n",
       "      <td>64</td>\n",
       "      <td>40.500000</td>\n",
       "      <td>6.156684</td>\n",
       "    </tr>\n",
       "    <tr>\n",
       "      <td>1</td>\n",
       "      <td>79</td>\n",
       "      <td>25.468354</td>\n",
       "      <td>3.054360</td>\n",
       "    </tr>\n",
       "  </tbody>\n",
       "</table>\n",
       "</div>"
      ],
      "text/plain": [
       "                   Age                     \n",
       "                 count       mean       std\n",
       "PTSD_6mo SRB_6mo                           \n",
       "0.0      0         174  40.706897  9.078989\n",
       "         1          84  18.964286  0.813240\n",
       "1.0      0          64  40.500000  6.156684\n",
       "         1          79  25.468354  3.054360"
      ]
     },
     "execution_count": 27,
     "metadata": {},
     "output_type": "execute_result"
    }
   ],
   "source": [
    "ptsd_df[['Age', 'PTSD_6mo', 'SRB_6mo']].groupby(['PTSD_6mo', 'SRB_6mo']).agg({\n",
    "    'Age':['count', 'mean', 'std']\n",
    "    })"
   ]
  },
  {
   "cell_type": "code",
   "execution_count": 28,
   "metadata": {},
   "outputs": [
    {
     "data": {
      "text/plain": [
       "<matplotlib.axes._subplots.AxesSubplot at 0x1b202ba3b08>"
      ]
     },
     "execution_count": 28,
     "metadata": {},
     "output_type": "execute_result"
    },
    {
     "data": {
      "image/png": "[encoded data removed]",
      "text/plain": [
       "<Figure size 432x288 with 1 Axes>"
      ]
     },
     "metadata": {
      "needs_background": "light"
     },
     "output_type": "display_data"
    }
   ],
   "source": [
    "ptsd_df.boxplot(column='Age', by=['PTSD_6mo', 'SRB_6mo'])"
   ]
  },
  {
   "cell_type": "markdown",
   "metadata": {},
   "source": [
    "### (4b) Years Since First Diagnosis\n",
    "\n",
    "I thought this might \"appear\" to be a variable related to PTSD and/or SRB, but I decided to generate this as a noisy variable simply to distinguish it from the medication and other predictors. If we want to better link relationships in this model to existing research, may want to explore identifying a justified relationship to create for this variable. "
   ]
  },
  {
   "cell_type": "code",
   "execution_count": 29,
   "metadata": {},
   "outputs": [],
   "source": [
    "## Commented code was used to generate a density plot, check if the distribution was what\n",
    "## I generally wanted \n",
    "#from scipy.stats import gaussian_kde\n",
    "yrs = (np.random.beta(0.78, 0.78, size=ptsd_df.shape[0])+1)*12\n",
    "ptsd_df['TimeFirstDiagnosis_Months'] = yrs.round(0)\n",
    "#density = gaussian_kde(yrs)\n",
    "#xs = np.linspace(min(yrs), max(yrs), 100)\n",
    "#density.covariance_factor = lambda : .25\n",
    "#density._compute_covariance()\n",
    "#plt.plot(xs,density(xs))\n",
    "#plt.show()"
   ]
  },
  {
   "cell_type": "code",
   "execution_count": 30,
   "metadata": {},
   "outputs": [
    {
     "data": {
      "text/plain": [
       "0      18.0\n",
       "1      17.0\n",
       "2      18.0\n",
       "3      24.0\n",
       "4      16.0\n",
       "       ... \n",
       "396    21.0\n",
       "397    21.0\n",
       "398    21.0\n",
       "399    20.0\n",
       "400    17.0\n",
       "Name: TimeFirstDiagnosis_Months, Length: 401, dtype: float64"
      ]
     },
     "execution_count": 30,
     "metadata": {},
     "output_type": "execute_result"
    }
   ],
   "source": [
    "ptsd_df['TimeFirstDiagnosis_Months']"
   ]
  },
  {
   "cell_type": "code",
   "execution_count": 31,
   "metadata": {},
   "outputs": [
    {
     "data": {
      "text/plain": [
       "<matplotlib.axes._subplots.AxesSubplot at 0x1b202f2b888>"
      ]
     },
     "execution_count": 31,
     "metadata": {},
     "output_type": "execute_result"
    },
    {
     "data": {
      "image/png": "[encoded data removed]",
      "text/plain": [
       "<Figure size 432x288 with 1 Axes>"
      ]
     },
     "metadata": {
      "needs_background": "light"
     },
     "output_type": "display_data"
    }
   ],
   "source": [
    "ptsd_df['TimeFirstDiagnosis_Months'].plot.density()"
   ]
  },
  {
   "cell_type": "code",
   "execution_count": 32,
   "metadata": {},
   "outputs": [
    {
     "data": {
      "text/plain": [
       "<matplotlib.axes._subplots.AxesSubplot at 0x1b202f287c8>"
      ]
     },
     "execution_count": 32,
     "metadata": {},
     "output_type": "execute_result"
    },
    {
     "data": {
      "image/png": "[encoded data removed]",
      "text/plain": [
       "<Figure size 432x288 with 1 Axes>"
      ]
     },
     "metadata": {
      "needs_background": "light"
     },
     "output_type": "display_data"
    }
   ],
   "source": [
    "ptsd_df.boxplot(column='TimeFirstDiagnosis_Months', by=['PTSD_6mo', 'SRB_6mo'])"
   ]
  },
  {
   "cell_type": "code",
   "execution_count": 33,
   "metadata": {},
   "outputs": [
    {
     "data": {
      "text/plain": [
       "<matplotlib.axes._subplots.AxesSubplot at 0x1b2027a9fc8>"
      ]
     },
     "execution_count": 33,
     "metadata": {},
     "output_type": "execute_result"
    },
    {
     "data": {
      "image/png": "[encoded data removed]",
      "text/plain": [
       "<Figure size 432x288 with 1 Axes>"
      ]
     },
     "metadata": {
      "needs_background": "light"
     },
     "output_type": "display_data"
    }
   ],
   "source": [
    "ptsd_df.boxplot(column='TimeFirstDiagnosis_Months', by='PTSD_6mo')"
   ]
  },
  {
   "cell_type": "markdown",
   "metadata": {},
   "source": [
    "### (4c) Combat Deployment\n",
    "We will set this related to PTSD but not suicidality (simply a binomial where we manually set probabilities).\n",
    "\n",
    "**11/11/2020 -- Omitting this for now, and treating this as a civilian population**"
   ]
  },
  {
   "cell_type": "code",
   "execution_count": 34,
   "metadata": {},
   "outputs": [],
   "source": [
    "#ptsd_df['CombatExposure'] = np.nan\n",
    "#\n",
    "#for i in range(0, ptsd_df.shape[0]):\n",
    "#    if ptsd_df.loc[i, 'PTSD_6mo']==1:\n",
    "#        ptsd_df.loc[i, 'CombatExposure'] = np.random.choice([0, 1], p=[0.02, 0.98])\n",
    "#    else:\n",
    "#        ptsd_df.loc[i, 'CombatExposure'] = np.random.choice([0, 1], p=[0.6, 0.4])\n",
    "        "
   ]
  },
  {
   "cell_type": "code",
   "execution_count": 35,
   "metadata": {},
   "outputs": [],
   "source": [
    "#ptsd_df[['CombatExposure', 'PTSD_6mo']].groupby(['CombatExposure', 'PTSD_6mo']).size().\\\n",
    "#reset_index(name='counts')"
   ]
  },
  {
   "cell_type": "code",
   "execution_count": 36,
   "metadata": {},
   "outputs": [],
   "source": [
    "#ptsd_df[['CombatExposure', 'SRB_6mo']].groupby(['CombatExposure', 'SRB_6mo']).size().\\\n",
    "#reset_index(name='counts')"
   ]
  },
  {
   "cell_type": "markdown",
   "metadata": {},
   "source": [
    "### (4d) Exposure to IEDs\n",
    "Within patients with a positive combat deployment indicator, I've also created an improvised explosive device (IED) indicator, which is additionally related to PTSD. This variable may end up being dropped in favor of a better feature/predictor, but this is something that I thought fit well within the combat exposure variable (also at the cost of including some fairly morbid features). \n",
    "\n",
    "**11-11-2020 -- Omitting this for now, and treatin this as a civilian population**"
   ]
  },
  {
   "cell_type": "code",
   "execution_count": 37,
   "metadata": {},
   "outputs": [],
   "source": [
    "#ptsd_df['IED_Exposure'] = np.nan\n",
    "#\n",
    "#for i in range(0, ptsd_df.shape[0]):\n",
    "#    if ptsd_df.loc[i, 'CombatExposure']==1 and ptsd_df.loc[i, 'PTSD_6mo']==0:\n",
    "#        ptsd_df.loc[i,'IED_Exposure'] = np.random.choice([0, 1], p=[0.85, 0.15])\n",
    "#    if ptsd_df.loc[i, 'CombatExposure']==1 and ptsd_df.loc[i, 'PTSD_6mo']==1:\n",
    "#        ptsd_df.loc[i,'IED_Exposure'] = np.random.choice([0, 1], p=[0.7, 0.3])\n",
    "#    if np.isnan(ptsd_df.loc[i, 'IED_Exposure']):\n",
    "#        ptsd_df.loc[i,'IED_Exposure'] = 0\n",
    "#        "
   ]
  },
  {
   "cell_type": "code",
   "execution_count": 38,
   "metadata": {},
   "outputs": [],
   "source": [
    "#ptsd_df[['IED_Exposure', 'PTSD_6mo']].groupby(['IED_Exposure', 'PTSD_6mo']).size().\\\n",
    "#reset_index(name='counts')"
   ]
  },
  {
   "cell_type": "code",
   "execution_count": 39,
   "metadata": {},
   "outputs": [],
   "source": [
    "#ptsd_df[['IED_Exposure', 'SRB_6mo']].groupby(['IED_Exposure', 'SRB_6mo']).size().\\\n",
    "#reset_index(name='counts')"
   ]
  },
  {
   "cell_type": "code",
   "execution_count": 40,
   "metadata": {
    "scrolled": true
   },
   "outputs": [],
   "source": [
    "#ptsd_df[['IED_Exposure', 'CombatExposure']].groupby(['IED_Exposure', 'CombatExposure']).size().\\\n",
    "#reset_index(name='counts')"
   ]
  },
  {
   "cell_type": "markdown",
   "metadata": {},
   "source": [
    "### (4e) Alcohol Abuse\n",
    "Binary variable, more frequent among patients who endorse suicidal ideation"
   ]
  },
  {
   "cell_type": "code",
   "execution_count": 41,
   "metadata": {},
   "outputs": [],
   "source": [
    "ptsd_df['AlcAbuse'] = np.nan\n",
    "\n",
    "for i in range(0, ptsd_df.shape[0]):\n",
    "    if ptsd_df.loc[i, 'SRB_6mo']==1 and ptsd_df.loc[i, 'PTSD_6mo']==1:\n",
    "        ptsd_df.loc[i, 'AlcAbuse'] = np.random.choice([0, 1], p=[0.3, 0.7])\n",
    "    if ptsd_df.loc[i, 'SRB_6mo']==1 and ptsd_df.loc[i, 'PTSD_6mo']==0:\n",
    "        ptsd_df.loc[i, 'AlcAbuse'] = np.random.choice([0, 1], p=[0.5, 0.5])\n",
    "    if np.isnan(ptsd_df.loc[i, 'AlcAbuse']):\n",
    "        ptsd_df.loc[i, 'AlcAbuse'] = np.random.choice([0, 1], p=[0.7, 0.3])\n",
    "        "
   ]
  },
  {
   "cell_type": "code",
   "execution_count": 42,
   "metadata": {},
   "outputs": [
    {
     "data": {
      "text/html": [
       "<div>\n",
       "<style scoped>\n",
       "    .dataframe tbody tr th:only-of-type {\n",
       "        vertical-align: middle;\n",
       "    }\n",
       "\n",
       "    .dataframe tbody tr th {\n",
       "        vertical-align: top;\n",
       "    }\n",
       "\n",
       "    .dataframe thead th {\n",
       "        text-align: right;\n",
       "    }\n",
       "</style>\n",
       "<table border=\"1\" class=\"dataframe\">\n",
       "  <thead>\n",
       "    <tr style=\"text-align: right;\">\n",
       "      <th></th>\n",
       "      <th>AlcAbuse</th>\n",
       "      <th>PTSD_6mo</th>\n",
       "      <th>counts</th>\n",
       "    </tr>\n",
       "  </thead>\n",
       "  <tbody>\n",
       "    <tr>\n",
       "      <td>0</td>\n",
       "      <td>0.0</td>\n",
       "      <td>0.0</td>\n",
       "      <td>166</td>\n",
       "    </tr>\n",
       "    <tr>\n",
       "      <td>1</td>\n",
       "      <td>0.0</td>\n",
       "      <td>1.0</td>\n",
       "      <td>68</td>\n",
       "    </tr>\n",
       "    <tr>\n",
       "      <td>2</td>\n",
       "      <td>1.0</td>\n",
       "      <td>0.0</td>\n",
       "      <td>92</td>\n",
       "    </tr>\n",
       "    <tr>\n",
       "      <td>3</td>\n",
       "      <td>1.0</td>\n",
       "      <td>1.0</td>\n",
       "      <td>75</td>\n",
       "    </tr>\n",
       "  </tbody>\n",
       "</table>\n",
       "</div>"
      ],
      "text/plain": [
       "   AlcAbuse  PTSD_6mo  counts\n",
       "0       0.0       0.0     166\n",
       "1       0.0       1.0      68\n",
       "2       1.0       0.0      92\n",
       "3       1.0       1.0      75"
      ]
     },
     "execution_count": 42,
     "metadata": {},
     "output_type": "execute_result"
    }
   ],
   "source": [
    "ptsd_df[['AlcAbuse', 'PTSD_6mo']].groupby(['AlcAbuse', 'PTSD_6mo']).size().\\\n",
    "reset_index(name='counts')"
   ]
  },
  {
   "cell_type": "code",
   "execution_count": 43,
   "metadata": {},
   "outputs": [
    {
     "data": {
      "text/html": [
       "<div>\n",
       "<style scoped>\n",
       "    .dataframe tbody tr th:only-of-type {\n",
       "        vertical-align: middle;\n",
       "    }\n",
       "\n",
       "    .dataframe tbody tr th {\n",
       "        vertical-align: top;\n",
       "    }\n",
       "\n",
       "    .dataframe thead th {\n",
       "        text-align: right;\n",
       "    }\n",
       "</style>\n",
       "<table border=\"1\" class=\"dataframe\">\n",
       "  <thead>\n",
       "    <tr style=\"text-align: right;\">\n",
       "      <th></th>\n",
       "      <th>AlcAbuse</th>\n",
       "      <th>SRB_6mo</th>\n",
       "      <th>counts</th>\n",
       "    </tr>\n",
       "  </thead>\n",
       "  <tbody>\n",
       "    <tr>\n",
       "      <td>0</td>\n",
       "      <td>0.0</td>\n",
       "      <td>0</td>\n",
       "      <td>167</td>\n",
       "    </tr>\n",
       "    <tr>\n",
       "      <td>1</td>\n",
       "      <td>0.0</td>\n",
       "      <td>1</td>\n",
       "      <td>67</td>\n",
       "    </tr>\n",
       "    <tr>\n",
       "      <td>2</td>\n",
       "      <td>1.0</td>\n",
       "      <td>0</td>\n",
       "      <td>71</td>\n",
       "    </tr>\n",
       "    <tr>\n",
       "      <td>3</td>\n",
       "      <td>1.0</td>\n",
       "      <td>1</td>\n",
       "      <td>96</td>\n",
       "    </tr>\n",
       "  </tbody>\n",
       "</table>\n",
       "</div>"
      ],
      "text/plain": [
       "   AlcAbuse  SRB_6mo  counts\n",
       "0       0.0        0     167\n",
       "1       0.0        1      67\n",
       "2       1.0        0      71\n",
       "3       1.0        1      96"
      ]
     },
     "execution_count": 43,
     "metadata": {},
     "output_type": "execute_result"
    }
   ],
   "source": [
    "ptsd_df[['AlcAbuse', 'SRB_6mo']].groupby(['AlcAbuse', 'SRB_6mo']).size().\\\n",
    "reset_index(name='counts')"
   ]
  },
  {
   "cell_type": "code",
   "execution_count": 44,
   "metadata": {},
   "outputs": [
    {
     "data": {
      "text/plain": [
       "0    238\n",
       "1    163\n",
       "Name: SRB_6mo, dtype: int64"
      ]
     },
     "execution_count": 44,
     "metadata": {},
     "output_type": "execute_result"
    }
   ],
   "source": [
    "ptsd_df['SRB_6mo'].value_counts()"
   ]
  },
  {
   "cell_type": "markdown",
   "metadata": {},
   "source": [
    "### (4f) Beck Anxiety Inventory\n",
    "~~Another noisy predictor (using my rudimentary understanding of the [AFQT](https://en.wikipedia.org/wiki/Armed_Services_Vocational_Aptitude_Battery#Armed_Forces_Qualification_Test), assigning scores in a random, normal distribution from 0 to 100)~~\n",
    "\n",
    "11/11/2020: Updated to be civilian data, moved to the Beck Anxiety Inventory "
   ]
  },
  {
   "cell_type": "code",
   "execution_count": 45,
   "metadata": {},
   "outputs": [],
   "source": [
    "ptsd_df['BeckAnxiety_BL'] = np.random.normal(loc=15, scale=15, size=ptsd_df.shape[0]).round(0)\n",
    "\n",
    "ptsd_df.loc[ptsd_df['BeckAnxiety_BL']<0, 'BeckAnxiety_BL'] = 0\n",
    "ptsd_df.loc[ptsd_df['BeckAnxiety_BL']>63, 'BeckAnxiety_BL'] = 63"
   ]
  },
  {
   "cell_type": "code",
   "execution_count": 46,
   "metadata": {},
   "outputs": [
    {
     "data": {
      "text/plain": [
       "<matplotlib.axes._subplots.AxesSubplot at 0x1b202cc34c8>"
      ]
     },
     "execution_count": 46,
     "metadata": {},
     "output_type": "execute_result"
    },
    {
     "data": {
      "image/png": "[encoded data removed]",
      "text/plain": [
       "<Figure size 432x288 with 1 Axes>"
      ]
     },
     "metadata": {
      "needs_background": "light"
     },
     "output_type": "display_data"
    }
   ],
   "source": [
    "ptsd_df['BeckAnxiety_BL'].hist()"
   ]
  },
  {
   "cell_type": "markdown",
   "metadata": {},
   "source": [
    "### (4g) Income\n",
    "Generating as a four-tiered variable, so students will have to dummy or one-hot encode (forcing some EDA and only minor data cleaning, but always some). I simply made four categories generally related to the federal poverty line (just as a standard to which to compare). \n",
    "\n",
    "- At/below 125% of poverty line\n",
    "- Between 125 and 200% of federal poverty line\n",
    "- Between 200% and 400% of federal poverty line\n",
    "- Over 400% of federal poverty line"
   ]
  },
  {
   "cell_type": "code",
   "execution_count": 47,
   "metadata": {},
   "outputs": [],
   "source": [
    "ptsd_df['IncomeCat'] = np.nan\n",
    "\n",
    "for i in range(0, ptsd_df.shape[0]):\n",
    "    if ptsd_df.loc[i, 'SRB_6mo']==1:\n",
    "        ptsd_df.loc[i, 'IncomeCat'] = np.random.choice(['<125% FPL', '125%-200% FPL',\n",
    "                                                       '200%-400% FPL', '400%+ FPL'],\n",
    "                                                      p=[0.3, 0.4, 0.2, 0.1])\n",
    "    else:\n",
    "        ptsd_df.loc[i, 'IncomeCat'] = np.random.choice(['<125% FPL', '125%-200% FPL',\n",
    "                                                       '200%-400% FPL', '400%+ FPL'],\n",
    "                                                      p=[0.2, 0.25, 0.2, 0.35])\n",
    "    \n",
    "        "
   ]
  },
  {
   "cell_type": "code",
   "execution_count": 48,
   "metadata": {},
   "outputs": [
    {
     "data": {
      "text/html": [
       "<div>\n",
       "<style scoped>\n",
       "    .dataframe tbody tr th:only-of-type {\n",
       "        vertical-align: middle;\n",
       "    }\n",
       "\n",
       "    .dataframe tbody tr th {\n",
       "        vertical-align: top;\n",
       "    }\n",
       "\n",
       "    .dataframe thead th {\n",
       "        text-align: right;\n",
       "    }\n",
       "</style>\n",
       "<table border=\"1\" class=\"dataframe\">\n",
       "  <thead>\n",
       "    <tr style=\"text-align: right;\">\n",
       "      <th></th>\n",
       "      <th>SRB_6mo</th>\n",
       "      <th>IncomeCat</th>\n",
       "      <th>count</th>\n",
       "    </tr>\n",
       "  </thead>\n",
       "  <tbody>\n",
       "    <tr>\n",
       "      <td>0</td>\n",
       "      <td>0</td>\n",
       "      <td>125%-200% FPL</td>\n",
       "      <td>45</td>\n",
       "    </tr>\n",
       "    <tr>\n",
       "      <td>1</td>\n",
       "      <td>0</td>\n",
       "      <td>200%-400% FPL</td>\n",
       "      <td>40</td>\n",
       "    </tr>\n",
       "    <tr>\n",
       "      <td>2</td>\n",
       "      <td>0</td>\n",
       "      <td>400%+ FPL</td>\n",
       "      <td>99</td>\n",
       "    </tr>\n",
       "    <tr>\n",
       "      <td>3</td>\n",
       "      <td>0</td>\n",
       "      <td>&lt;125% FPL</td>\n",
       "      <td>54</td>\n",
       "    </tr>\n",
       "    <tr>\n",
       "      <td>4</td>\n",
       "      <td>1</td>\n",
       "      <td>125%-200% FPL</td>\n",
       "      <td>60</td>\n",
       "    </tr>\n",
       "    <tr>\n",
       "      <td>5</td>\n",
       "      <td>1</td>\n",
       "      <td>200%-400% FPL</td>\n",
       "      <td>33</td>\n",
       "    </tr>\n",
       "    <tr>\n",
       "      <td>6</td>\n",
       "      <td>1</td>\n",
       "      <td>400%+ FPL</td>\n",
       "      <td>18</td>\n",
       "    </tr>\n",
       "    <tr>\n",
       "      <td>7</td>\n",
       "      <td>1</td>\n",
       "      <td>&lt;125% FPL</td>\n",
       "      <td>52</td>\n",
       "    </tr>\n",
       "  </tbody>\n",
       "</table>\n",
       "</div>"
      ],
      "text/plain": [
       "   SRB_6mo      IncomeCat  count\n",
       "0        0  125%-200% FPL     45\n",
       "1        0  200%-400% FPL     40\n",
       "2        0      400%+ FPL     99\n",
       "3        0      <125% FPL     54\n",
       "4        1  125%-200% FPL     60\n",
       "5        1  200%-400% FPL     33\n",
       "6        1      400%+ FPL     18\n",
       "7        1      <125% FPL     52"
      ]
     },
     "execution_count": 48,
     "metadata": {},
     "output_type": "execute_result"
    }
   ],
   "source": [
    "ptsd_df[['SRB_6mo', 'IncomeCat']].groupby(['SRB_6mo', 'IncomeCat']).size().reset_index(name='count')"
   ]
  },
  {
   "cell_type": "markdown",
   "metadata": {},
   "source": [
    "### (4h) Social Support\n",
    "Generating a summative score in the spirit of the[ Multidimensional Perceived Social Support Scale](https://www.tnaap.org/documents/mspss-multidimensional-scale-of-perceived-social.pdf), which I've admittedly never used but seems appropriate for our use here. "
   ]
  },
  {
   "cell_type": "code",
   "execution_count": 49,
   "metadata": {},
   "outputs": [],
   "source": [
    "ptsd_df['SocialSupport'] = np.nan\n",
    "\n",
    "for i in range(0, ptsd_df.shape[0]):\n",
    "    if ptsd_df.loc[i, 'SRB_6mo']==0:\n",
    "        ptsd_df.loc[i, 'SocialSupport'] = round(np.random.normal(50, 10), 0)\n",
    "    if ptsd_df.loc[i, 'SRB_6mo']==1:\n",
    "        ptsd_df.loc[i, 'SocialSupport'] = round(np.random.normal(30, 10), 0)\n",
    "        \n",
    "ptsd_df[ptsd_df['SocialSupport']>84] = 84\n",
    "ptsd_df[ptsd_df['SocialSupport']<0] = 0"
   ]
  },
  {
   "cell_type": "code",
   "execution_count": 50,
   "metadata": {},
   "outputs": [
    {
     "data": {
      "text/plain": [
       "<matplotlib.axes._subplots.AxesSubplot at 0x1b202e6ea08>"
      ]
     },
     "execution_count": 50,
     "metadata": {},
     "output_type": "execute_result"
    },
    {
     "data": {
      "image/png": "[encoded data removed]",
      "text/plain": [
       "<Figure size 432x288 with 1 Axes>"
      ]
     },
     "metadata": {
      "needs_background": "light"
     },
     "output_type": "display_data"
    }
   ],
   "source": [
    "ptsd_df['SocialSupport'].hist()"
   ]
  },
  {
   "cell_type": "code",
   "execution_count": 51,
   "metadata": {},
   "outputs": [
    {
     "data": {
      "text/plain": [
       "<matplotlib.axes._subplots.AxesSubplot at 0x1b202e59cc8>"
      ]
     },
     "execution_count": 51,
     "metadata": {},
     "output_type": "execute_result"
    },
    {
     "data": {
      "image/png": "[encoded data removed]",
      "text/plain": [
       "<Figure size 432x288 with 1 Axes>"
      ]
     },
     "metadata": {
      "needs_background": "light"
     },
     "output_type": "display_data"
    }
   ],
   "source": [
    "ptsd_df.boxplot(column='SocialSupport', by='SRB_6mo')"
   ]
  },
  {
   "cell_type": "markdown",
   "metadata": {},
   "source": [
    "## (5) Generating Medication Data"
   ]
  },
  {
   "cell_type": "code",
   "execution_count": 52,
   "metadata": {},
   "outputs": [
    {
     "data": {
      "text/html": [
       "<div>\n",
       "<style scoped>\n",
       "    .dataframe tbody tr th:only-of-type {\n",
       "        vertical-align: middle;\n",
       "    }\n",
       "\n",
       "    .dataframe tbody tr th {\n",
       "        vertical-align: top;\n",
       "    }\n",
       "\n",
       "    .dataframe thead th {\n",
       "        text-align: right;\n",
       "    }\n",
       "</style>\n",
       "<table border=\"1\" class=\"dataframe\">\n",
       "  <thead>\n",
       "    <tr style=\"text-align: right;\">\n",
       "      <th></th>\n",
       "      <th>UID</th>\n",
       "      <th>PTSD_Q1_6mo</th>\n",
       "      <th>PTSD_Q2_6mo</th>\n",
       "      <th>PTSD_Q3_6mo</th>\n",
       "      <th>PTSD_Q4_6mo</th>\n",
       "      <th>PTSD_Q5_6mo</th>\n",
       "      <th>PTSD_Q6_6mo</th>\n",
       "      <th>PTSD_Q7_6mo</th>\n",
       "      <th>PTSD_Q8_6mo</th>\n",
       "      <th>PTSD_Q9_6mo</th>\n",
       "      <th>...</th>\n",
       "      <th>PTSD_Q20_6mo</th>\n",
       "      <th>PTSD_6mo</th>\n",
       "      <th>PHQ_Q9_6mo</th>\n",
       "      <th>SRB_6mo</th>\n",
       "      <th>Age</th>\n",
       "      <th>TimeFirstDiagnosis_Months</th>\n",
       "      <th>AlcAbuse</th>\n",
       "      <th>BeckAnxiety_BL</th>\n",
       "      <th>IncomeCat</th>\n",
       "      <th>SocialSupport</th>\n",
       "    </tr>\n",
       "  </thead>\n",
       "  <tbody>\n",
       "    <tr>\n",
       "      <td>0</td>\n",
       "      <td>U200</td>\n",
       "      <td>1</td>\n",
       "      <td>0</td>\n",
       "      <td>0</td>\n",
       "      <td>0</td>\n",
       "      <td>0</td>\n",
       "      <td>1</td>\n",
       "      <td>0</td>\n",
       "      <td>1</td>\n",
       "      <td>0</td>\n",
       "      <td>...</td>\n",
       "      <td>0</td>\n",
       "      <td>0.0</td>\n",
       "      <td>0.0</td>\n",
       "      <td>0</td>\n",
       "      <td>29.0</td>\n",
       "      <td>18.0</td>\n",
       "      <td>0.0</td>\n",
       "      <td>24.0</td>\n",
       "      <td>&lt;125% FPL</td>\n",
       "      <td>49.0</td>\n",
       "    </tr>\n",
       "    <tr>\n",
       "      <td>1</td>\n",
       "      <td>U398</td>\n",
       "      <td>0</td>\n",
       "      <td>1</td>\n",
       "      <td>2</td>\n",
       "      <td>2</td>\n",
       "      <td>0</td>\n",
       "      <td>1</td>\n",
       "      <td>0</td>\n",
       "      <td>3</td>\n",
       "      <td>0</td>\n",
       "      <td>...</td>\n",
       "      <td>2</td>\n",
       "      <td>0.0</td>\n",
       "      <td>0.0</td>\n",
       "      <td>0</td>\n",
       "      <td>45.0</td>\n",
       "      <td>17.0</td>\n",
       "      <td>1.0</td>\n",
       "      <td>0.0</td>\n",
       "      <td>400%+ FPL</td>\n",
       "      <td>59.0</td>\n",
       "    </tr>\n",
       "    <tr>\n",
       "      <td>2</td>\n",
       "      <td>Z812</td>\n",
       "      <td>2</td>\n",
       "      <td>1</td>\n",
       "      <td>1</td>\n",
       "      <td>2</td>\n",
       "      <td>0</td>\n",
       "      <td>1</td>\n",
       "      <td>1</td>\n",
       "      <td>0</td>\n",
       "      <td>0</td>\n",
       "      <td>...</td>\n",
       "      <td>4</td>\n",
       "      <td>0.0</td>\n",
       "      <td>0.0</td>\n",
       "      <td>0</td>\n",
       "      <td>39.0</td>\n",
       "      <td>18.0</td>\n",
       "      <td>0.0</td>\n",
       "      <td>21.0</td>\n",
       "      <td>125%-200% FPL</td>\n",
       "      <td>47.0</td>\n",
       "    </tr>\n",
       "    <tr>\n",
       "      <td>3</td>\n",
       "      <td>U221</td>\n",
       "      <td>0</td>\n",
       "      <td>0</td>\n",
       "      <td>0</td>\n",
       "      <td>0</td>\n",
       "      <td>1</td>\n",
       "      <td>1</td>\n",
       "      <td>2</td>\n",
       "      <td>1</td>\n",
       "      <td>3</td>\n",
       "      <td>...</td>\n",
       "      <td>0</td>\n",
       "      <td>0.0</td>\n",
       "      <td>0.0</td>\n",
       "      <td>0</td>\n",
       "      <td>54.0</td>\n",
       "      <td>24.0</td>\n",
       "      <td>0.0</td>\n",
       "      <td>0.0</td>\n",
       "      <td>&lt;125% FPL</td>\n",
       "      <td>48.0</td>\n",
       "    </tr>\n",
       "    <tr>\n",
       "      <td>4</td>\n",
       "      <td>U338</td>\n",
       "      <td>2</td>\n",
       "      <td>1</td>\n",
       "      <td>0</td>\n",
       "      <td>1</td>\n",
       "      <td>1</td>\n",
       "      <td>0</td>\n",
       "      <td>0</td>\n",
       "      <td>0</td>\n",
       "      <td>0</td>\n",
       "      <td>...</td>\n",
       "      <td>0</td>\n",
       "      <td>0.0</td>\n",
       "      <td>2.0</td>\n",
       "      <td>1</td>\n",
       "      <td>20.0</td>\n",
       "      <td>16.0</td>\n",
       "      <td>1.0</td>\n",
       "      <td>2.0</td>\n",
       "      <td>200%-400% FPL</td>\n",
       "      <td>19.0</td>\n",
       "    </tr>\n",
       "  </tbody>\n",
       "</table>\n",
       "<p>5 rows × 30 columns</p>\n",
       "</div>"
      ],
      "text/plain": [
       "    UID  PTSD_Q1_6mo  PTSD_Q2_6mo  PTSD_Q3_6mo  PTSD_Q4_6mo  PTSD_Q5_6mo  \\\n",
       "0  U200            1            0            0            0            0   \n",
       "1  U398            0            1            2            2            0   \n",
       "2  Z812            2            1            1            2            0   \n",
       "3  U221            0            0            0            0            1   \n",
       "4  U338            2            1            0            1            1   \n",
       "\n",
       "   PTSD_Q6_6mo  PTSD_Q7_6mo  PTSD_Q8_6mo  PTSD_Q9_6mo  ...  PTSD_Q20_6mo  \\\n",
       "0            1            0            1            0  ...             0   \n",
       "1            1            0            3            0  ...             2   \n",
       "2            1            1            0            0  ...             4   \n",
       "3            1            2            1            3  ...             0   \n",
       "4            0            0            0            0  ...             0   \n",
       "\n",
       "   PTSD_6mo  PHQ_Q9_6mo  SRB_6mo   Age  TimeFirstDiagnosis_Months  AlcAbuse  \\\n",
       "0       0.0         0.0        0  29.0                       18.0       0.0   \n",
       "1       0.0         0.0        0  45.0                       17.0       1.0   \n",
       "2       0.0         0.0        0  39.0                       18.0       0.0   \n",
       "3       0.0         0.0        0  54.0                       24.0       0.0   \n",
       "4       0.0         2.0        1  20.0                       16.0       1.0   \n",
       "\n",
       "   BeckAnxiety_BL      IncomeCat  SocialSupport  \n",
       "0            24.0      <125% FPL           49.0  \n",
       "1             0.0      400%+ FPL           59.0  \n",
       "2            21.0  125%-200% FPL           47.0  \n",
       "3             0.0      <125% FPL           48.0  \n",
       "4             2.0  200%-400% FPL           19.0  \n",
       "\n",
       "[5 rows x 30 columns]"
      ]
     },
     "execution_count": 52,
     "metadata": {},
     "output_type": "execute_result"
    }
   ],
   "source": [
    "ptsd_df.head()"
   ]
  },
  {
   "cell_type": "code",
   "execution_count": 53,
   "metadata": {},
   "outputs": [],
   "source": [
    "# Going to reverse engineer and the nlater clean up the data \n",
    "    # 1. Sample the indication of a for or against medication\n",
    "\n",
    "for i in range(0, ptsd_df.shape[0]):\n",
    "    if ptsd_df.loc[i, 'PTSD_6mo']==0 & ptsd_df.loc[i, 'SRB_6mo']==0:\n",
    "        ptsd_df.loc[i, 'PTSD_MedInd'] = np.random.choice([0, 1], p=[0.2, 0.8])\n",
    "        ptsd_df.loc[i, 'SRB_MedInd'] = np.random.choice([0, 1], p=[0.8, 0.2])\n",
    "        \n",
    "    if ptsd_df.loc[i, 'PTSD_6mo']==1 & ptsd_df.loc[i, 'SRB_6mo']==0:\n",
    "        ptsd_df.loc[i, 'PTSD_MedInd'] = np.random.choice([0, 1], p=[0.7, 0.3])\n",
    "        ptsd_df.loc[i, 'SRB_MedInd'] = np.random.choice([0, 1], p=[0.7, 0.3])\n",
    "        \n",
    "    if ptsd_df.loc[i, 'PTSD_6mo']==0 & ptsd_df.loc[i, 'SRB_6mo']==1:\n",
    "        ptsd_df.loc[i, 'PTSD_MedInd'] = np.random.choice([0, 1], p=[0.3, 0.7])\n",
    "        ptsd_df.loc[i, 'SRB_MedInd'] = np.random.choice([0, 1], p=[0.7, 0.3])\n",
    "        \n",
    "    if ptsd_df.loc[i, 'PTSD_6mo']==1 & ptsd_df.loc[i, 'SRB_6mo']==1:\n",
    "        ptsd_df.loc[i, 'PTSD_MedInd'] = np.random.choice([0, 1], p=[0.7, 0.3])\n",
    "        ptsd_df.loc[i, 'SRB_MedInd'] = np.random.choice([0, 1], p=[0.3, 0.7])\n"
   ]
  },
  {
   "cell_type": "code",
   "execution_count": 54,
   "metadata": {},
   "outputs": [
    {
     "data": {
      "text/html": [
       "<div>\n",
       "<style scoped>\n",
       "    .dataframe tbody tr th:only-of-type {\n",
       "        vertical-align: middle;\n",
       "    }\n",
       "\n",
       "    .dataframe tbody tr th {\n",
       "        vertical-align: top;\n",
       "    }\n",
       "\n",
       "    .dataframe thead th {\n",
       "        text-align: right;\n",
       "    }\n",
       "</style>\n",
       "<table border=\"1\" class=\"dataframe\">\n",
       "  <thead>\n",
       "    <tr style=\"text-align: right;\">\n",
       "      <th></th>\n",
       "      <th>PTSD_MedInd</th>\n",
       "      <th>PTSD_6mo</th>\n",
       "      <th>counts</th>\n",
       "    </tr>\n",
       "  </thead>\n",
       "  <tbody>\n",
       "    <tr>\n",
       "      <td>0</td>\n",
       "      <td>0.0</td>\n",
       "      <td>0.0</td>\n",
       "      <td>130</td>\n",
       "    </tr>\n",
       "    <tr>\n",
       "      <td>1</td>\n",
       "      <td>0.0</td>\n",
       "      <td>1.0</td>\n",
       "      <td>52</td>\n",
       "    </tr>\n",
       "    <tr>\n",
       "      <td>2</td>\n",
       "      <td>1.0</td>\n",
       "      <td>0.0</td>\n",
       "      <td>128</td>\n",
       "    </tr>\n",
       "    <tr>\n",
       "      <td>3</td>\n",
       "      <td>1.0</td>\n",
       "      <td>1.0</td>\n",
       "      <td>27</td>\n",
       "    </tr>\n",
       "  </tbody>\n",
       "</table>\n",
       "</div>"
      ],
      "text/plain": [
       "   PTSD_MedInd  PTSD_6mo  counts\n",
       "0          0.0       0.0     130\n",
       "1          0.0       1.0      52\n",
       "2          1.0       0.0     128\n",
       "3          1.0       1.0      27"
      ]
     },
     "execution_count": 54,
     "metadata": {},
     "output_type": "execute_result"
    }
   ],
   "source": [
    "ptsd_df[['PTSD_MedInd', 'PTSD_6mo']].groupby(['PTSD_MedInd', 'PTSD_6mo']).size().reset_index(name='counts')"
   ]
  },
  {
   "cell_type": "code",
   "execution_count": 55,
   "metadata": {},
   "outputs": [
    {
     "data": {
      "text/html": [
       "<div>\n",
       "<style scoped>\n",
       "    .dataframe tbody tr th:only-of-type {\n",
       "        vertical-align: middle;\n",
       "    }\n",
       "\n",
       "    .dataframe tbody tr th {\n",
       "        vertical-align: top;\n",
       "    }\n",
       "\n",
       "    .dataframe thead th {\n",
       "        text-align: right;\n",
       "    }\n",
       "</style>\n",
       "<table border=\"1\" class=\"dataframe\">\n",
       "  <thead>\n",
       "    <tr style=\"text-align: right;\">\n",
       "      <th></th>\n",
       "      <th>SRB_MedInd</th>\n",
       "      <th>SRB_6mo</th>\n",
       "      <th>counts</th>\n",
       "    </tr>\n",
       "  </thead>\n",
       "  <tbody>\n",
       "    <tr>\n",
       "      <td>0</td>\n",
       "      <td>0.0</td>\n",
       "      <td>0</td>\n",
       "      <td>121</td>\n",
       "    </tr>\n",
       "    <tr>\n",
       "      <td>1</td>\n",
       "      <td>0.0</td>\n",
       "      <td>1</td>\n",
       "      <td>87</td>\n",
       "    </tr>\n",
       "    <tr>\n",
       "      <td>2</td>\n",
       "      <td>1.0</td>\n",
       "      <td>0</td>\n",
       "      <td>53</td>\n",
       "    </tr>\n",
       "    <tr>\n",
       "      <td>3</td>\n",
       "      <td>1.0</td>\n",
       "      <td>1</td>\n",
       "      <td>76</td>\n",
       "    </tr>\n",
       "  </tbody>\n",
       "</table>\n",
       "</div>"
      ],
      "text/plain": [
       "   SRB_MedInd  SRB_6mo  counts\n",
       "0         0.0        0     121\n",
       "1         0.0        1      87\n",
       "2         1.0        0      53\n",
       "3         1.0        1      76"
      ]
     },
     "execution_count": 55,
     "metadata": {},
     "output_type": "execute_result"
    }
   ],
   "source": [
    "ptsd_df[['SRB_MedInd', 'SRB_6mo']].groupby(['SRB_MedInd', 'SRB_6mo']).size().reset_index(name='counts')"
   ]
  },
  {
   "cell_type": "code",
   "execution_count": 56,
   "metadata": {
    "scrolled": true
   },
   "outputs": [
    {
     "data": {
      "text/html": [
       "<div>\n",
       "<style scoped>\n",
       "    .dataframe tbody tr th:only-of-type {\n",
       "        vertical-align: middle;\n",
       "    }\n",
       "\n",
       "    .dataframe tbody tr th {\n",
       "        vertical-align: top;\n",
       "    }\n",
       "\n",
       "    .dataframe thead th {\n",
       "        text-align: right;\n",
       "    }\n",
       "</style>\n",
       "<table border=\"1\" class=\"dataframe\">\n",
       "  <thead>\n",
       "    <tr style=\"text-align: right;\">\n",
       "      <th></th>\n",
       "      <th>UID</th>\n",
       "      <th>PTSD_Q1_6mo</th>\n",
       "      <th>PTSD_Q2_6mo</th>\n",
       "      <th>PTSD_Q3_6mo</th>\n",
       "      <th>PTSD_Q4_6mo</th>\n",
       "      <th>PTSD_Q5_6mo</th>\n",
       "      <th>PTSD_Q6_6mo</th>\n",
       "      <th>PTSD_Q7_6mo</th>\n",
       "      <th>PTSD_Q8_6mo</th>\n",
       "      <th>PTSD_Q9_6mo</th>\n",
       "      <th>...</th>\n",
       "      <th>PHQ_Q9_6mo</th>\n",
       "      <th>SRB_6mo</th>\n",
       "      <th>Age</th>\n",
       "      <th>TimeFirstDiagnosis_Months</th>\n",
       "      <th>AlcAbuse</th>\n",
       "      <th>BeckAnxiety_BL</th>\n",
       "      <th>IncomeCat</th>\n",
       "      <th>SocialSupport</th>\n",
       "      <th>PTSD_MedInd</th>\n",
       "      <th>SRB_MedInd</th>\n",
       "    </tr>\n",
       "  </thead>\n",
       "  <tbody>\n",
       "    <tr>\n",
       "      <td>230</td>\n",
       "      <td>U830</td>\n",
       "      <td>0</td>\n",
       "      <td>0</td>\n",
       "      <td>0</td>\n",
       "      <td>0</td>\n",
       "      <td>2</td>\n",
       "      <td>2</td>\n",
       "      <td>1</td>\n",
       "      <td>0</td>\n",
       "      <td>0</td>\n",
       "      <td>...</td>\n",
       "      <td>1.0</td>\n",
       "      <td>1</td>\n",
       "      <td>27.0</td>\n",
       "      <td>22.0</td>\n",
       "      <td>1.0</td>\n",
       "      <td>13.0</td>\n",
       "      <td>125%-200% FPL</td>\n",
       "      <td>40.0</td>\n",
       "      <td>1.0</td>\n",
       "      <td>1.0</td>\n",
       "    </tr>\n",
       "    <tr>\n",
       "      <td>206</td>\n",
       "      <td>Z525</td>\n",
       "      <td>1</td>\n",
       "      <td>0</td>\n",
       "      <td>0</td>\n",
       "      <td>0</td>\n",
       "      <td>0</td>\n",
       "      <td>1</td>\n",
       "      <td>0</td>\n",
       "      <td>3</td>\n",
       "      <td>0</td>\n",
       "      <td>...</td>\n",
       "      <td>2.0</td>\n",
       "      <td>1</td>\n",
       "      <td>20.0</td>\n",
       "      <td>24.0</td>\n",
       "      <td>0.0</td>\n",
       "      <td>1.0</td>\n",
       "      <td>&lt;125% FPL</td>\n",
       "      <td>34.0</td>\n",
       "      <td>0.0</td>\n",
       "      <td>0.0</td>\n",
       "    </tr>\n",
       "    <tr>\n",
       "      <td>33</td>\n",
       "      <td>Z305</td>\n",
       "      <td>2</td>\n",
       "      <td>0</td>\n",
       "      <td>4</td>\n",
       "      <td>2</td>\n",
       "      <td>0</td>\n",
       "      <td>0</td>\n",
       "      <td>1</td>\n",
       "      <td>0</td>\n",
       "      <td>0</td>\n",
       "      <td>...</td>\n",
       "      <td>0.0</td>\n",
       "      <td>0</td>\n",
       "      <td>55.0</td>\n",
       "      <td>15.0</td>\n",
       "      <td>0.0</td>\n",
       "      <td>5.0</td>\n",
       "      <td>125%-200% FPL</td>\n",
       "      <td>44.0</td>\n",
       "      <td>1.0</td>\n",
       "      <td>0.0</td>\n",
       "    </tr>\n",
       "    <tr>\n",
       "      <td>263</td>\n",
       "      <td>U561</td>\n",
       "      <td>0</td>\n",
       "      <td>3</td>\n",
       "      <td>1</td>\n",
       "      <td>0</td>\n",
       "      <td>1</td>\n",
       "      <td>1</td>\n",
       "      <td>2</td>\n",
       "      <td>0</td>\n",
       "      <td>1</td>\n",
       "      <td>...</td>\n",
       "      <td>2.0</td>\n",
       "      <td>1</td>\n",
       "      <td>24.0</td>\n",
       "      <td>14.0</td>\n",
       "      <td>1.0</td>\n",
       "      <td>0.0</td>\n",
       "      <td>200%-400% FPL</td>\n",
       "      <td>34.0</td>\n",
       "      <td>1.0</td>\n",
       "      <td>1.0</td>\n",
       "    </tr>\n",
       "    <tr>\n",
       "      <td>91</td>\n",
       "      <td>U436</td>\n",
       "      <td>3</td>\n",
       "      <td>0</td>\n",
       "      <td>0</td>\n",
       "      <td>0</td>\n",
       "      <td>2</td>\n",
       "      <td>0</td>\n",
       "      <td>3</td>\n",
       "      <td>1</td>\n",
       "      <td>4</td>\n",
       "      <td>...</td>\n",
       "      <td>1.0</td>\n",
       "      <td>1</td>\n",
       "      <td>29.0</td>\n",
       "      <td>21.0</td>\n",
       "      <td>1.0</td>\n",
       "      <td>22.0</td>\n",
       "      <td>200%-400% FPL</td>\n",
       "      <td>25.0</td>\n",
       "      <td>0.0</td>\n",
       "      <td>1.0</td>\n",
       "    </tr>\n",
       "    <tr>\n",
       "      <td>187</td>\n",
       "      <td>Z267</td>\n",
       "      <td>0</td>\n",
       "      <td>3</td>\n",
       "      <td>1</td>\n",
       "      <td>1</td>\n",
       "      <td>0</td>\n",
       "      <td>2</td>\n",
       "      <td>2</td>\n",
       "      <td>1</td>\n",
       "      <td>0</td>\n",
       "      <td>...</td>\n",
       "      <td>1.0</td>\n",
       "      <td>1</td>\n",
       "      <td>25.0</td>\n",
       "      <td>20.0</td>\n",
       "      <td>0.0</td>\n",
       "      <td>6.0</td>\n",
       "      <td>&lt;125% FPL</td>\n",
       "      <td>17.0</td>\n",
       "      <td>0.0</td>\n",
       "      <td>1.0</td>\n",
       "    </tr>\n",
       "    <tr>\n",
       "      <td>260</td>\n",
       "      <td>Z269</td>\n",
       "      <td>1</td>\n",
       "      <td>3</td>\n",
       "      <td>2</td>\n",
       "      <td>0</td>\n",
       "      <td>0</td>\n",
       "      <td>0</td>\n",
       "      <td>3</td>\n",
       "      <td>2</td>\n",
       "      <td>1</td>\n",
       "      <td>...</td>\n",
       "      <td>1.0</td>\n",
       "      <td>1</td>\n",
       "      <td>23.0</td>\n",
       "      <td>22.0</td>\n",
       "      <td>1.0</td>\n",
       "      <td>0.0</td>\n",
       "      <td>200%-400% FPL</td>\n",
       "      <td>27.0</td>\n",
       "      <td>0.0</td>\n",
       "      <td>0.0</td>\n",
       "    </tr>\n",
       "    <tr>\n",
       "      <td>175</td>\n",
       "      <td>U123</td>\n",
       "      <td>1</td>\n",
       "      <td>1</td>\n",
       "      <td>3</td>\n",
       "      <td>4</td>\n",
       "      <td>1</td>\n",
       "      <td>1</td>\n",
       "      <td>2</td>\n",
       "      <td>3</td>\n",
       "      <td>0</td>\n",
       "      <td>...</td>\n",
       "      <td>1.0</td>\n",
       "      <td>1</td>\n",
       "      <td>26.0</td>\n",
       "      <td>24.0</td>\n",
       "      <td>1.0</td>\n",
       "      <td>24.0</td>\n",
       "      <td>125%-200% FPL</td>\n",
       "      <td>26.0</td>\n",
       "      <td>0.0</td>\n",
       "      <td>1.0</td>\n",
       "    </tr>\n",
       "    <tr>\n",
       "      <td>400</td>\n",
       "      <td>U356</td>\n",
       "      <td>2</td>\n",
       "      <td>0</td>\n",
       "      <td>2</td>\n",
       "      <td>2</td>\n",
       "      <td>1</td>\n",
       "      <td>0</td>\n",
       "      <td>0</td>\n",
       "      <td>3</td>\n",
       "      <td>1</td>\n",
       "      <td>...</td>\n",
       "      <td>0.0</td>\n",
       "      <td>0</td>\n",
       "      <td>18.0</td>\n",
       "      <td>17.0</td>\n",
       "      <td>0.0</td>\n",
       "      <td>15.0</td>\n",
       "      <td>400%+ FPL</td>\n",
       "      <td>43.0</td>\n",
       "      <td>1.0</td>\n",
       "      <td>0.0</td>\n",
       "    </tr>\n",
       "    <tr>\n",
       "      <td>90</td>\n",
       "      <td>Z968</td>\n",
       "      <td>1</td>\n",
       "      <td>1</td>\n",
       "      <td>0</td>\n",
       "      <td>0</td>\n",
       "      <td>0</td>\n",
       "      <td>0</td>\n",
       "      <td>4</td>\n",
       "      <td>0</td>\n",
       "      <td>1</td>\n",
       "      <td>...</td>\n",
       "      <td>0.0</td>\n",
       "      <td>0</td>\n",
       "      <td>38.0</td>\n",
       "      <td>23.0</td>\n",
       "      <td>0.0</td>\n",
       "      <td>42.0</td>\n",
       "      <td>400%+ FPL</td>\n",
       "      <td>52.0</td>\n",
       "      <td>0.0</td>\n",
       "      <td>0.0</td>\n",
       "    </tr>\n",
       "  </tbody>\n",
       "</table>\n",
       "<p>10 rows × 32 columns</p>\n",
       "</div>"
      ],
      "text/plain": [
       "      UID  PTSD_Q1_6mo  PTSD_Q2_6mo  PTSD_Q3_6mo  PTSD_Q4_6mo  PTSD_Q5_6mo  \\\n",
       "230  U830            0            0            0            0            2   \n",
       "206  Z525            1            0            0            0            0   \n",
       "33   Z305            2            0            4            2            0   \n",
       "263  U561            0            3            1            0            1   \n",
       "91   U436            3            0            0            0            2   \n",
       "187  Z267            0            3            1            1            0   \n",
       "260  Z269            1            3            2            0            0   \n",
       "175  U123            1            1            3            4            1   \n",
       "400  U356            2            0            2            2            1   \n",
       "90   Z968            1            1            0            0            0   \n",
       "\n",
       "     PTSD_Q6_6mo  PTSD_Q7_6mo  PTSD_Q8_6mo  PTSD_Q9_6mo  ...  PHQ_Q9_6mo  \\\n",
       "230            2            1            0            0  ...         1.0   \n",
       "206            1            0            3            0  ...         2.0   \n",
       "33             0            1            0            0  ...         0.0   \n",
       "263            1            2            0            1  ...         2.0   \n",
       "91             0            3            1            4  ...         1.0   \n",
       "187            2            2            1            0  ...         1.0   \n",
       "260            0            3            2            1  ...         1.0   \n",
       "175            1            2            3            0  ...         1.0   \n",
       "400            0            0            3            1  ...         0.0   \n",
       "90             0            4            0            1  ...         0.0   \n",
       "\n",
       "     SRB_6mo   Age  TimeFirstDiagnosis_Months  AlcAbuse  BeckAnxiety_BL  \\\n",
       "230        1  27.0                       22.0       1.0            13.0   \n",
       "206        1  20.0                       24.0       0.0             1.0   \n",
       "33         0  55.0                       15.0       0.0             5.0   \n",
       "263        1  24.0                       14.0       1.0             0.0   \n",
       "91         1  29.0                       21.0       1.0            22.0   \n",
       "187        1  25.0                       20.0       0.0             6.0   \n",
       "260        1  23.0                       22.0       1.0             0.0   \n",
       "175        1  26.0                       24.0       1.0            24.0   \n",
       "400        0  18.0                       17.0       0.0            15.0   \n",
       "90         0  38.0                       23.0       0.0            42.0   \n",
       "\n",
       "         IncomeCat  SocialSupport  PTSD_MedInd  SRB_MedInd  \n",
       "230  125%-200% FPL           40.0          1.0         1.0  \n",
       "206      <125% FPL           34.0          0.0         0.0  \n",
       "33   125%-200% FPL           44.0          1.0         0.0  \n",
       "263  200%-400% FPL           34.0          1.0         1.0  \n",
       "91   200%-400% FPL           25.0          0.0         1.0  \n",
       "187      <125% FPL           17.0          0.0         1.0  \n",
       "260  200%-400% FPL           27.0          0.0         0.0  \n",
       "175  125%-200% FPL           26.0          0.0         1.0  \n",
       "400      400%+ FPL           43.0          1.0         0.0  \n",
       "90       400%+ FPL           52.0          0.0         0.0  \n",
       "\n",
       "[10 rows x 32 columns]"
      ]
     },
     "execution_count": 56,
     "metadata": {},
     "output_type": "execute_result"
    }
   ],
   "source": [
    "ptsd_df.sample(10)"
   ]
  },
  {
   "cell_type": "markdown",
   "metadata": {},
   "source": [
    "Now we will create the medications prescribed to individuals for the placeholder variables assigned above. First I'll create a brief dictionary of medications to include with differing probabilities, hopefully to lead to the relationships we want to explore when fitting our final models, and then I'll sample from this dictionary based on each patient's `SRB_MedInd` and `PTSD_MedInd` indicator variables:"
   ]
  },
  {
   "cell_type": "code",
   "execution_count": 57,
   "metadata": {},
   "outputs": [],
   "source": [
    "med_dict = {\n",
    "    'evidence_low':['midazolam', 'clonazepam'],\n",
    "    'evidence_high':['nefazodone', 'phenelzine'],\n",
    "    'evidence_against':['sertraline', 'paroxetine']\n",
    "}"
   ]
  },
  {
   "cell_type": "code",
   "execution_count": 58,
   "metadata": {},
   "outputs": [],
   "source": [
    "for i in range(0, ptsd_df.shape[0]):\n",
    "    low_med = np.random.choice(med_dict['evidence_low'], 1)[0]\n",
    "    high_med = np.random.choice(med_dict['evidence_high'], 1)[0]\n",
    "    srb_med = np.random.choice(med_dict['evidence_against'], 1)[0]\n",
    "    if (ptsd_df.loc[i, 'SRB_MedInd']==0) & (ptsd_df.loc[i, 'PTSD_MedInd']==0):\n",
    "        ptsd_df.loc[i, 'PTSD_Rx'] = np.random.choice([srb_med, high_med, low_med], 1,\n",
    "                                                     p=[0.1, 0.1, 0.8])\n",
    "    elif (ptsd_df.loc[i, 'SRB_MedInd']==0) & (ptsd_df.loc[i, 'PTSD_MedInd']==1):\n",
    "        ptsd_df.loc[i, 'PTSD_Rx'] = np.random.choice([srb_med, high_med, low_med], 1,\n",
    "                                                     p=[0.1, 0.7, 0.2])\n",
    "    elif (ptsd_df.loc[i, 'SRB_MedInd']==1) & (ptsd_df.loc[i, 'PTSD_MedInd']==0):\n",
    "        ptsd_df.loc[i, 'PTSD_Rx'] = np.random.choice([srb_med, high_med, low_med], 1,\n",
    "                                                     p=[0.7, 0.15, 0.15])\n",
    "    elif (ptsd_df.loc[i, 'SRB_MedInd']==1) & (ptsd_df.loc[i, 'PTSD_MedInd']==1):\n",
    "        ptsd_df.loc[i, 'PTSD_Rx'] = np.random.choice([srb_med, high_med, low_med], 1,\n",
    "                                                     p=[0.42, 0.42, 0.16])\n"
   ]
  },
  {
   "cell_type": "markdown",
   "metadata": {},
   "source": [
    "## (6) Data Export"
   ]
  },
  {
   "cell_type": "code",
   "execution_count": 59,
   "metadata": {},
   "outputs": [],
   "source": [
    "# Removing those indicator variables\n",
    "del ptsd_df['PTSD_MedInd']\n",
    "del ptsd_df['SRB_MedInd']\n",
    "del ptsd_df['PTSD_6mo']\n",
    "del ptsd_df['SRB_6mo']"
   ]
  },
  {
   "cell_type": "code",
   "execution_count": 60,
   "metadata": {},
   "outputs": [
    {
     "data": {
      "text/plain": [
       "Index(['UID', 'PTSD_Q1_6mo', 'PTSD_Q2_6mo', 'PTSD_Q3_6mo', 'PTSD_Q4_6mo',\n",
       "       'PTSD_Q5_6mo', 'PTSD_Q6_6mo', 'PTSD_Q7_6mo', 'PTSD_Q8_6mo',\n",
       "       'PTSD_Q9_6mo', 'PTSD_Q10_6mo', 'PTSD_Q11_6mo', 'PTSD_Q12_6mo',\n",
       "       'PTSD_Q13_6mo', 'PTSD_Q14_6mo', 'PTSD_Q15_6mo', 'PTSD_Q16_6mo',\n",
       "       'PTSD_Q17_6mo', 'PTSD_Q18_6mo', 'PTSD_Q19_6mo', 'PTSD_Q20_6mo',\n",
       "       'PHQ_Q9_6mo', 'Age', 'TimeFirstDiagnosis_Months', 'AlcAbuse',\n",
       "       'BeckAnxiety_BL', 'IncomeCat', 'SocialSupport', 'PTSD_Rx'],\n",
       "      dtype='object')"
      ]
     },
     "execution_count": 60,
     "metadata": {},
     "output_type": "execute_result"
    }
   ],
   "source": [
    "ptsd_df.columns"
   ]
  },
  {
   "cell_type": "code",
   "execution_count": 61,
   "metadata": {},
   "outputs": [
    {
     "data": {
      "text/html": [
       "<div>\n",
       "<style scoped>\n",
       "    .dataframe tbody tr th:only-of-type {\n",
       "        vertical-align: middle;\n",
       "    }\n",
       "\n",
       "    .dataframe tbody tr th {\n",
       "        vertical-align: top;\n",
       "    }\n",
       "\n",
       "    .dataframe thead th {\n",
       "        text-align: right;\n",
       "    }\n",
       "</style>\n",
       "<table border=\"1\" class=\"dataframe\">\n",
       "  <thead>\n",
       "    <tr style=\"text-align: right;\">\n",
       "      <th></th>\n",
       "      <th>UID</th>\n",
       "      <th>PTSD_Q1_6mo</th>\n",
       "      <th>PTSD_Q2_6mo</th>\n",
       "      <th>PTSD_Q3_6mo</th>\n",
       "      <th>PTSD_Q4_6mo</th>\n",
       "      <th>PTSD_Q5_6mo</th>\n",
       "      <th>PTSD_Q6_6mo</th>\n",
       "      <th>PTSD_Q7_6mo</th>\n",
       "      <th>PTSD_Q8_6mo</th>\n",
       "      <th>PTSD_Q9_6mo</th>\n",
       "      <th>...</th>\n",
       "      <th>PTSD_Q19_6mo</th>\n",
       "      <th>PTSD_Q20_6mo</th>\n",
       "      <th>PHQ_Q9_6mo</th>\n",
       "      <th>Age</th>\n",
       "      <th>TimeFirstDiagnosis_Months</th>\n",
       "      <th>AlcAbuse</th>\n",
       "      <th>BeckAnxiety_BL</th>\n",
       "      <th>IncomeCat</th>\n",
       "      <th>SocialSupport</th>\n",
       "      <th>PTSD_Rx</th>\n",
       "    </tr>\n",
       "  </thead>\n",
       "  <tbody>\n",
       "    <tr>\n",
       "      <td>0</td>\n",
       "      <td>U200</td>\n",
       "      <td>1</td>\n",
       "      <td>0</td>\n",
       "      <td>0</td>\n",
       "      <td>0</td>\n",
       "      <td>0</td>\n",
       "      <td>1</td>\n",
       "      <td>0</td>\n",
       "      <td>1</td>\n",
       "      <td>0</td>\n",
       "      <td>...</td>\n",
       "      <td>0</td>\n",
       "      <td>0</td>\n",
       "      <td>0.0</td>\n",
       "      <td>29.0</td>\n",
       "      <td>18.0</td>\n",
       "      <td>0.0</td>\n",
       "      <td>24.0</td>\n",
       "      <td>&lt;125% FPL</td>\n",
       "      <td>49.0</td>\n",
       "      <td>clonazepam</td>\n",
       "    </tr>\n",
       "    <tr>\n",
       "      <td>1</td>\n",
       "      <td>U398</td>\n",
       "      <td>0</td>\n",
       "      <td>1</td>\n",
       "      <td>2</td>\n",
       "      <td>2</td>\n",
       "      <td>0</td>\n",
       "      <td>1</td>\n",
       "      <td>0</td>\n",
       "      <td>3</td>\n",
       "      <td>0</td>\n",
       "      <td>...</td>\n",
       "      <td>0</td>\n",
       "      <td>2</td>\n",
       "      <td>0.0</td>\n",
       "      <td>45.0</td>\n",
       "      <td>17.0</td>\n",
       "      <td>1.0</td>\n",
       "      <td>0.0</td>\n",
       "      <td>400%+ FPL</td>\n",
       "      <td>59.0</td>\n",
       "      <td>clonazepam</td>\n",
       "    </tr>\n",
       "    <tr>\n",
       "      <td>2</td>\n",
       "      <td>Z812</td>\n",
       "      <td>2</td>\n",
       "      <td>1</td>\n",
       "      <td>1</td>\n",
       "      <td>2</td>\n",
       "      <td>0</td>\n",
       "      <td>1</td>\n",
       "      <td>1</td>\n",
       "      <td>0</td>\n",
       "      <td>0</td>\n",
       "      <td>...</td>\n",
       "      <td>0</td>\n",
       "      <td>4</td>\n",
       "      <td>0.0</td>\n",
       "      <td>39.0</td>\n",
       "      <td>18.0</td>\n",
       "      <td>0.0</td>\n",
       "      <td>21.0</td>\n",
       "      <td>125%-200% FPL</td>\n",
       "      <td>47.0</td>\n",
       "      <td>clonazepam</td>\n",
       "    </tr>\n",
       "    <tr>\n",
       "      <td>3</td>\n",
       "      <td>U221</td>\n",
       "      <td>0</td>\n",
       "      <td>0</td>\n",
       "      <td>0</td>\n",
       "      <td>0</td>\n",
       "      <td>1</td>\n",
       "      <td>1</td>\n",
       "      <td>2</td>\n",
       "      <td>1</td>\n",
       "      <td>3</td>\n",
       "      <td>...</td>\n",
       "      <td>3</td>\n",
       "      <td>0</td>\n",
       "      <td>0.0</td>\n",
       "      <td>54.0</td>\n",
       "      <td>24.0</td>\n",
       "      <td>0.0</td>\n",
       "      <td>0.0</td>\n",
       "      <td>&lt;125% FPL</td>\n",
       "      <td>48.0</td>\n",
       "      <td>sertraline</td>\n",
       "    </tr>\n",
       "    <tr>\n",
       "      <td>4</td>\n",
       "      <td>U338</td>\n",
       "      <td>2</td>\n",
       "      <td>1</td>\n",
       "      <td>0</td>\n",
       "      <td>1</td>\n",
       "      <td>1</td>\n",
       "      <td>0</td>\n",
       "      <td>0</td>\n",
       "      <td>0</td>\n",
       "      <td>0</td>\n",
       "      <td>...</td>\n",
       "      <td>1</td>\n",
       "      <td>0</td>\n",
       "      <td>2.0</td>\n",
       "      <td>20.0</td>\n",
       "      <td>16.0</td>\n",
       "      <td>1.0</td>\n",
       "      <td>2.0</td>\n",
       "      <td>200%-400% FPL</td>\n",
       "      <td>19.0</td>\n",
       "      <td>nefazodone</td>\n",
       "    </tr>\n",
       "    <tr>\n",
       "      <td>...</td>\n",
       "      <td>...</td>\n",
       "      <td>...</td>\n",
       "      <td>...</td>\n",
       "      <td>...</td>\n",
       "      <td>...</td>\n",
       "      <td>...</td>\n",
       "      <td>...</td>\n",
       "      <td>...</td>\n",
       "      <td>...</td>\n",
       "      <td>...</td>\n",
       "      <td>...</td>\n",
       "      <td>...</td>\n",
       "      <td>...</td>\n",
       "      <td>...</td>\n",
       "      <td>...</td>\n",
       "      <td>...</td>\n",
       "      <td>...</td>\n",
       "      <td>...</td>\n",
       "      <td>...</td>\n",
       "      <td>...</td>\n",
       "      <td>...</td>\n",
       "    </tr>\n",
       "    <tr>\n",
       "      <td>396</td>\n",
       "      <td>Z866</td>\n",
       "      <td>0</td>\n",
       "      <td>0</td>\n",
       "      <td>1</td>\n",
       "      <td>4</td>\n",
       "      <td>3</td>\n",
       "      <td>1</td>\n",
       "      <td>1</td>\n",
       "      <td>1</td>\n",
       "      <td>2</td>\n",
       "      <td>...</td>\n",
       "      <td>1</td>\n",
       "      <td>0</td>\n",
       "      <td>0.0</td>\n",
       "      <td>46.0</td>\n",
       "      <td>21.0</td>\n",
       "      <td>0.0</td>\n",
       "      <td>13.0</td>\n",
       "      <td>125%-200% FPL</td>\n",
       "      <td>55.0</td>\n",
       "      <td>clonazepam</td>\n",
       "    </tr>\n",
       "    <tr>\n",
       "      <td>397</td>\n",
       "      <td>Z145</td>\n",
       "      <td>1</td>\n",
       "      <td>1</td>\n",
       "      <td>0</td>\n",
       "      <td>2</td>\n",
       "      <td>1</td>\n",
       "      <td>0</td>\n",
       "      <td>3</td>\n",
       "      <td>1</td>\n",
       "      <td>0</td>\n",
       "      <td>...</td>\n",
       "      <td>0</td>\n",
       "      <td>1</td>\n",
       "      <td>2.0</td>\n",
       "      <td>19.0</td>\n",
       "      <td>21.0</td>\n",
       "      <td>0.0</td>\n",
       "      <td>2.0</td>\n",
       "      <td>125%-200% FPL</td>\n",
       "      <td>46.0</td>\n",
       "      <td>phenelzine</td>\n",
       "    </tr>\n",
       "    <tr>\n",
       "      <td>398</td>\n",
       "      <td>Z232</td>\n",
       "      <td>0</td>\n",
       "      <td>1</td>\n",
       "      <td>0</td>\n",
       "      <td>0</td>\n",
       "      <td>0</td>\n",
       "      <td>0</td>\n",
       "      <td>3</td>\n",
       "      <td>2</td>\n",
       "      <td>1</td>\n",
       "      <td>...</td>\n",
       "      <td>0</td>\n",
       "      <td>1</td>\n",
       "      <td>3.0</td>\n",
       "      <td>19.0</td>\n",
       "      <td>21.0</td>\n",
       "      <td>1.0</td>\n",
       "      <td>12.0</td>\n",
       "      <td>400%+ FPL</td>\n",
       "      <td>29.0</td>\n",
       "      <td>phenelzine</td>\n",
       "    </tr>\n",
       "    <tr>\n",
       "      <td>399</td>\n",
       "      <td>U739</td>\n",
       "      <td>1</td>\n",
       "      <td>1</td>\n",
       "      <td>0</td>\n",
       "      <td>1</td>\n",
       "      <td>4</td>\n",
       "      <td>0</td>\n",
       "      <td>0</td>\n",
       "      <td>4</td>\n",
       "      <td>1</td>\n",
       "      <td>...</td>\n",
       "      <td>4</td>\n",
       "      <td>3</td>\n",
       "      <td>3.0</td>\n",
       "      <td>19.0</td>\n",
       "      <td>20.0</td>\n",
       "      <td>1.0</td>\n",
       "      <td>33.0</td>\n",
       "      <td>&lt;125% FPL</td>\n",
       "      <td>22.0</td>\n",
       "      <td>nefazodone</td>\n",
       "    </tr>\n",
       "    <tr>\n",
       "      <td>400</td>\n",
       "      <td>U356</td>\n",
       "      <td>2</td>\n",
       "      <td>0</td>\n",
       "      <td>2</td>\n",
       "      <td>2</td>\n",
       "      <td>1</td>\n",
       "      <td>0</td>\n",
       "      <td>0</td>\n",
       "      <td>3</td>\n",
       "      <td>1</td>\n",
       "      <td>...</td>\n",
       "      <td>1</td>\n",
       "      <td>2</td>\n",
       "      <td>0.0</td>\n",
       "      <td>18.0</td>\n",
       "      <td>17.0</td>\n",
       "      <td>0.0</td>\n",
       "      <td>15.0</td>\n",
       "      <td>400%+ FPL</td>\n",
       "      <td>43.0</td>\n",
       "      <td>phenelzine</td>\n",
       "    </tr>\n",
       "  </tbody>\n",
       "</table>\n",
       "<p>401 rows × 29 columns</p>\n",
       "</div>"
      ],
      "text/plain": [
       "      UID  PTSD_Q1_6mo  PTSD_Q2_6mo  PTSD_Q3_6mo  PTSD_Q4_6mo  PTSD_Q5_6mo  \\\n",
       "0    U200            1            0            0            0            0   \n",
       "1    U398            0            1            2            2            0   \n",
       "2    Z812            2            1            1            2            0   \n",
       "3    U221            0            0            0            0            1   \n",
       "4    U338            2            1            0            1            1   \n",
       "..    ...          ...          ...          ...          ...          ...   \n",
       "396  Z866            0            0            1            4            3   \n",
       "397  Z145            1            1            0            2            1   \n",
       "398  Z232            0            1            0            0            0   \n",
       "399  U739            1            1            0            1            4   \n",
       "400  U356            2            0            2            2            1   \n",
       "\n",
       "     PTSD_Q6_6mo  PTSD_Q7_6mo  PTSD_Q8_6mo  PTSD_Q9_6mo  ...  PTSD_Q19_6mo  \\\n",
       "0              1            0            1            0  ...             0   \n",
       "1              1            0            3            0  ...             0   \n",
       "2              1            1            0            0  ...             0   \n",
       "3              1            2            1            3  ...             3   \n",
       "4              0            0            0            0  ...             1   \n",
       "..           ...          ...          ...          ...  ...           ...   \n",
       "396            1            1            1            2  ...             1   \n",
       "397            0            3            1            0  ...             0   \n",
       "398            0            3            2            1  ...             0   \n",
       "399            0            0            4            1  ...             4   \n",
       "400            0            0            3            1  ...             1   \n",
       "\n",
       "     PTSD_Q20_6mo  PHQ_Q9_6mo   Age  TimeFirstDiagnosis_Months  AlcAbuse  \\\n",
       "0               0         0.0  29.0                       18.0       0.0   \n",
       "1               2         0.0  45.0                       17.0       1.0   \n",
       "2               4         0.0  39.0                       18.0       0.0   \n",
       "3               0         0.0  54.0                       24.0       0.0   \n",
       "4               0         2.0  20.0                       16.0       1.0   \n",
       "..            ...         ...   ...                        ...       ...   \n",
       "396             0         0.0  46.0                       21.0       0.0   \n",
       "397             1         2.0  19.0                       21.0       0.0   \n",
       "398             1         3.0  19.0                       21.0       1.0   \n",
       "399             3         3.0  19.0                       20.0       1.0   \n",
       "400             2         0.0  18.0                       17.0       0.0   \n",
       "\n",
       "     BeckAnxiety_BL      IncomeCat  SocialSupport     PTSD_Rx  \n",
       "0              24.0      <125% FPL           49.0  clonazepam  \n",
       "1               0.0      400%+ FPL           59.0  clonazepam  \n",
       "2              21.0  125%-200% FPL           47.0  clonazepam  \n",
       "3               0.0      <125% FPL           48.0  sertraline  \n",
       "4               2.0  200%-400% FPL           19.0  nefazodone  \n",
       "..              ...            ...            ...         ...  \n",
       "396            13.0  125%-200% FPL           55.0  clonazepam  \n",
       "397             2.0  125%-200% FPL           46.0  phenelzine  \n",
       "398            12.0      400%+ FPL           29.0  phenelzine  \n",
       "399            33.0      <125% FPL           22.0  nefazodone  \n",
       "400            15.0      400%+ FPL           43.0  phenelzine  \n",
       "\n",
       "[401 rows x 29 columns]"
      ]
     },
     "execution_count": 61,
     "metadata": {},
     "output_type": "execute_result"
    }
   ],
   "source": [
    "#ptsd_df[['PTSD_6mo', 'SRB_6mo']].groupby(['PTSD_6mo', 'SRB_6mo']).size().reset_index(name='counts')\n",
    "ptsd_df.to_csv('PTSD_ResearchCohort.csv')\n",
    "ptsd_df"
   ]
  }
 ],
 "metadata": {
  "kernelspec": {
   "display_name": "Python 3",
   "language": "python",
   "name": "python3"
  },
  "language_info": {
   "codemirror_mode": {
    "name": "ipython",
    "version": 3
   },
   "file_extension": ".py",
   "mimetype": "text/x-python",
   "name": "python",
   "nbconvert_exporter": "python",
   "pygments_lexer": "ipython3",
   "version": "3.7.4"
  }
 },
 "nbformat": 4,
 "nbformat_minor": 2
}
